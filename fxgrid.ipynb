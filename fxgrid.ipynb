{
 "cells": [
  {
   "cell_type": "code",
   "execution_count": 1,
   "metadata": {
    "collapsed": true
   },
   "outputs": [],
   "source": [
    "import os\n",
    "import math\n",
    "import numpy as np\n",
    "import pandas as pd\n",
    "import tensorflow as tf\n",
    "import matplotlib.pyplot as plt\n",
    "\n",
    "from sklearn.cluster import MeanShift, estimate_bandwidth, get_bin_seeds\n",
    "from scipy.linalg    import hankel\n",
    "\n",
    "from tensorflow.contrib import rnn\n",
    "\n",
    "from util.ZigZag import ZigZag, ZigZag0\n",
    "from util.CalcReturns import CalcReturns\n",
    "\n",
    "from util.BuildData import TrainingSet_NN_Prices, TrainingSet_NN_Logret\n",
    "from util.BuildData import TrainingSet_ML_Prices, TrainingSet_ML_Logret\n",
    "\n",
    "from mpl_toolkits.mplot3d import Axes3D\n",
    "\n",
    "from sklearn.cluster import MeanShift\n"
   ]
  },
  {
   "cell_type": "code",
   "execution_count": 2,
   "metadata": {
    "collapsed": false
   },
   "outputs": [
    {
     "name": "stdout",
     "output_type": "stream",
     "text": [
      "Using matplotlib backend: TkAgg\n"
     ]
    }
   ],
   "source": [
    "%matplotlib\n",
    "\n",
    "N = 8*1440 + 1\n",
    "\n",
    "source = pd.read_csv('EURUSD1.csv', header=0) # source CSV\n",
    "prices = np.array(source.Close)[0:N+1] # close prices\n",
    "\n",
    "r = CalcReturns(prices)\n"
   ]
  },
  {
   "cell_type": "code",
   "execution_count": 3,
   "metadata": {
    "collapsed": true
   },
   "outputs": [],
   "source": [
    "def build_set(S, lag = 2):\n",
    "    return hankel(S[0 : lag], S[lag-1 :]).T\n",
    "\n",
    "def metric3(x):\n",
    "    return max(math.fabs(x[0]), math.fabs(x[1]), math.fabs(x[2]))"
   ]
  },
  {
   "cell_type": "code",
   "execution_count": 4,
   "metadata": {
    "collapsed": true
   },
   "outputs": [],
   "source": [
    "class GridN:\n",
    "    \n",
    "    def __init__(self, N = 3, delta = 8.45145029e-06, bound = 0.1):        \n",
    "        self.N     = N\n",
    "        self.delta = delta\n",
    "        \n",
    "        self.min = -math.fabs(bound)\n",
    "        self.max =  math.fabs(bound)\n",
    "        self.dim = 2 * math.fabs(bound) / self.delta\n",
    "        \n",
    "        pass\n",
    "    \n",
    "    def fit(self, X):\n",
    "        cells    = []\n",
    "        labels   = []\n",
    "        clusters = []\n",
    "        \n",
    "        for i in range(len(X)):            \n",
    "            cell, label, cluster = self.fit_single(X[i])\n",
    "            \n",
    "            cells.append(cell)\n",
    "            labels.append(label)\n",
    "            clusters.append(cluster)    \n",
    "     \n",
    "        cells    = np.array(cells)\n",
    "        labels   = np.array(labels)\n",
    "        clusters = np.array(clusters)        \n",
    "        \n",
    "        return cells, labels, clusters\n",
    "    \n",
    "    def fit_single(self, v):\n",
    "        assert len(v) == self.N\n",
    "        \n",
    "        sv = []\n",
    "        for i in range(self.N):\n",
    "            \n",
    "            s = 0            \n",
    "            if v[i] != 0.0:\n",
    "                s = int(v[i] / math.fabs(v[i]))                \n",
    "            sv.append(s)\n",
    "            \n",
    "        sv = np.array(sv)        \n",
    "        \n",
    "        # cell        \n",
    "        cell = []\n",
    "        for i in range(self.N):\n",
    "            cell.append(int((v[i] + sv[i] * self.delta / 2) / self.delta))\n",
    "        cell = np.array(cell)\n",
    "        \n",
    "        # label\n",
    "        label = ''.join(str(e) for e in cell)\n",
    "        label = hash(label)\n",
    "            \n",
    "        # cluster\n",
    "        cluster = cell * self.delta\n",
    "        \n",
    "        return cell, label, cluster\n",
    "    \n",
    "    def restore_from_clusters(self, r, plot = False):\n",
    "        X = build_set(r, self.N)\n",
    "        \n",
    "        _, L, C = self.fit(X)\n",
    "        \n",
    "        Last = self.N - 1\n",
    "        \n",
    "        r0 = []\n",
    "        for i in range(Last):            \n",
    "            r0.append(C[0][i])\n",
    "\n",
    "        for i in range(len(C)):\n",
    "            r0.append(C[i][Last])\n",
    "            \n",
    "        if plot and (self.N == 3):\n",
    "            XT = X.T\n",
    "            CT = C.T\n",
    "\n",
    "            fig = plt.figure()\n",
    "            \n",
    "            ax = fig.add_subplot(111, projection='3d')\n",
    "            \n",
    "            ax.plot(XT[0], XT[1], XT[2], 'x')\n",
    "            ax.plot(CT[0], CT[1], CT[2], 'r-')\n",
    "\n",
    "            plt.show()\n",
    "        elif plot and (self.N == 2):\n",
    "            XT = X.T\n",
    "            CT = C.T\n",
    "            \n",
    "            plt.plot(XT[0], XT[1], 'b.')\n",
    "            plt.plot(CT[0], CT[1], 'r*')\n",
    "            \n",
    "        ################################################\n",
    "        u, c, ratio = self.request_unique_ratio(r)        \n",
    "        print u, c, ratio        \n",
    "        ################################################\n",
    "            \n",
    "        return np.array(r0)\n",
    "    \n",
    "    def request_unique_ratio(self, r):\n",
    "        X = build_set(r, self.N)        \n",
    "        _, L, _ = self.fit(X)\n",
    "        \n",
    "        c = len(L)\n",
    "        u = len(np.unique(L))\n",
    "        \n",
    "        ratio = float(u) / c\n",
    "        return u, c, ratio\n"
   ]
  },
  {
   "cell_type": "code",
   "execution_count": 5,
   "metadata": {
    "collapsed": false
   },
   "outputs": [
    {
     "name": "stdout",
     "output_type": "stream",
     "text": [
      "2903 11520 0.251996527778\n"
     ]
    },
    {
     "data": {
      "text/plain": [
       "[<matplotlib.lines.Line2D at 0x7f74401de110>]"
      ]
     },
     "execution_count": 5,
     "metadata": {},
     "output_type": "execute_result"
    }
   ],
   "source": [
    "#r = r[0:28]\n",
    "\n",
    "Dims = 2\n",
    "\n",
    "grid = GridN(N = Dims)\n",
    "r0 = grid.restore_from_clusters(r, False)\n",
    "\n",
    "#X = build_set(r, Dims)\n",
    "#_, L, C = grid.fit(X)\n",
    "\n",
    "#Cp = []\n",
    "#Flag = False\n",
    "\n",
    "#for i in range(len(C)):\n",
    "#    if L[i] in Cp:\n",
    "#        if Flag == False:\n",
    "#            print '============='\n",
    "#        Flag = True\n",
    "#    else:\n",
    "#        Flag = False        \n",
    "#        Cp.append(L[i])\n",
    "   \n",
    "#    if Flag:\n",
    "#        print i, L[i]\n",
    "\n",
    "X = build_set(r0, 2)\n",
    "X = X.T\n",
    "\n",
    "plt.plot(X[0], X[1], 'r.')\n",
    "        \n",
    "#plt.plot(r, 'r*')\n",
    "#plt.plot(r0)\n",
    "#plt.show()\n",
    "\n",
    "    \n",
    "    \n",
    "\n",
    "\n"
   ]
  },
  {
   "cell_type": "code",
   "execution_count": 15,
   "metadata": {
    "collapsed": false
   },
   "outputs": [
    {
     "name": "stdout",
     "output_type": "stream",
     "text": [
      "Buys: 3473; Sells: 2484; Holds: 5565; Count: 11522\n"
     ]
    }
   ],
   "source": [
    "T = TrainingSet_ML_Logret(prices = prices, minsize = 0.006, lag = 2, scale = False, ZigZagFunc=ZigZag0)"
   ]
  },
  {
   "cell_type": "code",
   "execution_count": 12,
   "metadata": {
    "collapsed": false
   },
   "outputs": [],
   "source": [
    "R = []\n",
    "G = []\n",
    "B = []\n",
    "\n",
    "for i in range(len(T['input'])):\n",
    "    if T['label'][i] == -1:\n",
    "        R.append(T['input'][i])\n",
    "    elif T['label'][i] == 0:\n",
    "        G.append(T['input'][i])\n",
    "    elif T['label'][i] == 1:\n",
    "        B.append(T['input'][i])\n",
    "\n",
    "R = np.array(R)\n",
    "G = np.array(G)\n",
    "B = np.array(B)\n",
    "        \n",
    "R = R.T\n",
    "G = G.T\n",
    "B = B.T\n",
    "        \n",
    "plt.plot(R[0], R[1], 'r.')\n",
    "plt.plot(G[0], G[1], 'g+')\n",
    "plt.plot(B[0], B[1], 'bx')\n",
    "plt.show()\n"
   ]
  },
  {
   "cell_type": "code",
   "execution_count": 7,
   "metadata": {
    "collapsed": false
   },
   "outputs": [],
   "source": [
    "X2 = build_set(r, 2)\n",
    "\n",
    "\n",
    "X2s = X2.T\n",
    "\n",
    "#plt.plot(X2s[0], X2s[1], '.')\n",
    "\n",
    "#grid = Grid()\n",
    "#grid.plot()\n",
    "\n",
    "ms = MeanShift(bandwidth = 0.0001, bin_seeding=True)\n",
    "ms.fit(X2)\n",
    "\n",
    "labels = ms.labels_\n",
    "cluster_centers = ms.cluster_centers_\n",
    "\n",
    "X2s = X2.T\n",
    "CCs = ms.cluster_centers_.T\n",
    "\n",
    "plt.plot(X2s[0], X2s[1], '.')\n",
    "plt.plot(CCs[0], CCs[1], 'r.')"
   ]
  }
 ],
 "metadata": {
  "kernelspec": {
   "display_name": "Python 2",
   "language": "python",
   "name": "python2"
  },
  "language_info": {
   "codemirror_mode": {
    "name": "ipython",
    "version": 2
   },
   "file_extension": ".py",
   "mimetype": "text/x-python",
   "name": "python",
   "nbconvert_exporter": "python",
   "pygments_lexer": "ipython2",
   "version": "2.7.12"
  }
 },
 "nbformat": 4,
 "nbformat_minor": 2
}
