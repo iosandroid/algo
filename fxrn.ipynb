{
 "cells": [
  {
   "cell_type": "code",
   "execution_count": 1,
   "metadata": {
    "collapsed": false
   },
   "outputs": [],
   "source": [
    "import os\n",
    "import math\n",
    "import numpy as np\n",
    "import pandas as pd\n",
    "import tensorflow as tf\n",
    "import matplotlib.pyplot as plt\n",
    "from tensorflow.contrib import rnn\n",
    "\n",
    "from util.ZigZag import ZigZag\n",
    "from util.BuildData import TrainingSet_NN_Prices, TrainingSet_NN_Logret\n",
    "from util.BuildData import TrainingSet_ML_Prices, TrainingSet_ML_Logret\n",
    "from util.CalcReturns import CalcReturns\n",
    "\n",
    "from sklearn import svm, preprocessing\n"
   ]
  },
  {
   "cell_type": "code",
   "execution_count": 2,
   "metadata": {
    "collapsed": true
   },
   "outputs": [],
   "source": [
    "%matplotlib qt"
   ]
  },
  {
   "cell_type": "code",
   "execution_count": 3,
   "metadata": {
    "collapsed": true
   },
   "outputs": [],
   "source": [
    "def recurrent_neural_network_model(x):\n",
    "\n",
    "    layer = {'w' : tf.Variable(tf.random_normal([num_hidden, n_classes])),\n",
    "             'b' : tf.Variable(tf.random_normal([n_classes]))}\n",
    "    \n",
    "    x = tf.unstack(x, timesteps, 1)    \n",
    "    lstm_cell = rnn.BasicLSTMCell(num_hidden, forget_bias=1.0)    \n",
    "    outs, state = rnn.static_rnn(lstm_cell, x, dtype=tf.float32)        \n",
    "    y = tf.add(tf.matmul(outs[-1], layer['w']), layer['b'], name='nn')\n",
    "    \n",
    "    return y"
   ]
  },
  {
   "cell_type": "code",
   "execution_count": 4,
   "metadata": {
    "collapsed": true
   },
   "outputs": [],
   "source": [
    "def train_and_save_nn(x,y):\n",
    "    nn = recurrent_neural_network_model(x)\n",
    "    \n",
    "    cost = tf.reduce_mean(tf.nn.sigmoid_cross_entropy_with_logits(logits = nn, labels = y))\n",
    "    optimizer = tf.train.GradientDescentOptimizer(learning_rate = 0.001).minimize(cost)   \n",
    "    #optimizer = tf.train.AdamOptimizer(learning_rate = 0.0006).minimize(cost)   \n",
    "    \n",
    "    correct = tf.equal(tf.argmax(nn,1), tf.argmax(y_train, 1), name='correct')\n",
    "    accuracy = tf.reduce_mean(tf.cast(correct, 'float'), name = 'accuracy')\n",
    "    \n",
    "    saver = tf.train.Saver()\n",
    "    \n",
    "    with tf.Session() as session:\n",
    "        session.run(tf.initialize_all_variables())\n",
    "\n",
    "        epoch_loss = 0\n",
    "        for epoch in range(hm_epochs):\n",
    "            epoch_loss = 0\n",
    "            for i in range(int(len(X_train)/batch_size)):\n",
    "                \n",
    "                batch_x = X_train[i*batch_size : (i+1)*batch_size]\n",
    "                batch_y = Y_train[i*batch_size : (i+1)*batch_size]\n",
    "               \n",
    "                batch_x = batch_x.reshape((batch_size, timesteps, num_input))\n",
    "                \n",
    "                _, c = session.run([optimizer, cost], feed_dict = {x: batch_x, y: batch_y})\n",
    "                epoch_loss += c\n",
    "                \n",
    "            if epoch % 100 == 0:\n",
    "                print('Epoch', epoch, 'completed out of', hm_epochs, 'loss', epoch_loss)\n",
    "        \n",
    "        \n",
    "        \n",
    "                \n",
    "        saver.save(session, 'data/fxnn.ckpt')\n",
    "        \n",
    "        print('Last epoch loss: ', epoch_loss)\n",
    "        return nn, correct, accuracy"
   ]
  },
  {
   "cell_type": "code",
   "execution_count": 5,
   "metadata": {
    "collapsed": true
   },
   "outputs": [],
   "source": [
    "def test_nn(x_test, y_test):\n",
    "    with tf.Session() as session:\n",
    "        saver = tf.train.import_meta_graph('data/fxnn.ckpt.meta')\n",
    "        saver.restore(session, tf.train.latest_checkpoint('data/'))\n",
    "        \n",
    "        graph    = tf.get_default_graph()\n",
    "        correct  = graph.get_tensor_by_name('correct:0')\n",
    "        accuracy = graph.get_tensor_by_name('accuracy:0')\n",
    "        \n",
    "        x = graph.get_tensor_by_name('x:0')\n",
    "        y = graph.get_tensor_by_name('y:0')\n",
    "\n",
    "        x_test = x_test.reshape((t_count, timesteps, num_input))\n",
    "        \n",
    "        r = tf.cast(correct, 'float').eval({x:x_test, y:y_test})\n",
    "        \n",
    "        test_buy  = 0.0\n",
    "        test_sell = 0.0\n",
    "        test_hold = 0.0\n",
    "\n",
    "        correct_buy  = 0.0\n",
    "        correct_sell = 0.0\n",
    "        correct_hold = 0.0\n",
    "\n",
    "        incorrect_buy  = 0.0\n",
    "        incorrect_sell = 0.0\n",
    "        incorrect_hold = 0.0\n",
    "        \n",
    "        for i in range(len(r)):\n",
    "          \n",
    "            if y_test[i][2] == 1:\n",
    "                test_buy += 1.0;\n",
    "            elif y_test[i][1] == 1:\n",
    "                test_hold += 1.0;\n",
    "            elif y_test[i][0] == 1:\n",
    "                test_sell += 1.0;\n",
    "                \n",
    "            if r[i] == 1:\n",
    "                if y_test[i][2] == 1:\n",
    "                    correct_buy += 1.0;\n",
    "                elif y_test[i][1] == 1:\n",
    "                    correct_hold += 1.0;\n",
    "                elif y_test[i][0] == 1:\n",
    "                    correct_sell += 1.0;\n",
    "            else:\n",
    "                if y_test[i][2] == 1:\n",
    "                    incorrect_buy += 1.0;\n",
    "                elif y_test[i][1] == 1:\n",
    "                    incorrect_hold += 1.0;\n",
    "                elif y_test[i][0] == 1:\n",
    "                    incorrect_sell += 1.0;\n",
    "        \n",
    "        print('Accuracy:',accuracy.eval({x_train:x_test, y_train:y_test}))\n",
    "        \n",
    "        print( \"Test buy:  \", test_buy  )\n",
    "        print( \"Test sell: \", test_sell )\n",
    "        print( \"Test hold: \", test_hold )\n",
    "\n",
    "        print( \"Correct buy:  \", correct_buy,  \"Incorrect buy:  \", incorrect_buy,  \"Accuracy: \", (correct_buy/test_buy)*100 )\n",
    "        print( \"Correct sell: \", correct_sell, \"Incorrect sell: \", incorrect_sell, \"Accuracy: \", (correct_sell/test_sell)*100 )\n",
    "        print( \"Correct hold: \", correct_hold, \"Incorrect hold: \", incorrect_hold, \"Accuracy: \", (correct_hold/test_hold)*100 )"
   ]
  },
  {
   "cell_type": "code",
   "execution_count": 6,
   "metadata": {
    "collapsed": true
   },
   "outputs": [],
   "source": [
    "n_classes  = 3\n",
    "#n_classes  = 1\n",
    "step = 1\n",
    "timesteps = 1\n",
    "num_input = 1\n",
    "\n",
    "#step == num_input * timesteps\n",
    "\n",
    "hm_epochs  = 1000\n",
    "num_hidden = 240\n",
    "batch_size = 128\n",
    "t_count = 1024\n"
   ]
  },
  {
   "cell_type": "code",
   "execution_count": 7,
   "metadata": {
    "collapsed": false
   },
   "outputs": [
    {
     "name": "stdout",
     "output_type": "stream",
     "text": [
      "Buys: 1899; Sells: 2097; Holds: 10371; Count: 14367\n"
     ]
    }
   ],
   "source": [
    "source = pd.read_csv('EURUSD1.csv', header=0) # source CSV\n",
    "prices = np.array(source.Close) # close prices\n",
    "\n",
    "T, S = TrainingSet_NN_Logret(prices = prices, minsize = 0.0064, lag = step, scale = True)\n",
    "#T, S = TrainingSet_ML_Prices(prices = prices, minsize = 0.0064, lag = step, scale = True)\n",
    "\n",
    "X_train = T['input'][:-t_count]\n",
    "Y_train = T['label'][:-t_count]\n",
    "\n",
    "X_test = T['input'][-t_count:]\n",
    "Y_test = T['label'][-t_count:]"
   ]
  },
  {
   "cell_type": "code",
   "execution_count": 8,
   "metadata": {
    "collapsed": false
   },
   "outputs": [
    {
     "name": "stdout",
     "output_type": "stream",
     "text": [
      "WARNING:tensorflow:From <ipython-input-4-8dafc724cb2f>:14: initialize_all_variables (from tensorflow.python.ops.variables) is deprecated and will be removed after 2017-03-02.\n",
      "Instructions for updating:\n",
      "Use `tf.global_variables_initializer` instead.\n",
      "('Epoch', 0, 'completed out of', 1000, 'loss', 79.078848004341125)\n",
      "('Epoch', 100, 'completed out of', 1000, 'loss', 49.184270098805428)\n",
      "('Epoch', 200, 'completed out of', 1000, 'loss', 49.184199407696724)\n",
      "('Epoch', 300, 'completed out of', 1000, 'loss', 49.184194564819336)\n",
      "('Epoch', 400, 'completed out of', 1000, 'loss', 49.184190362691879)\n",
      "('Epoch', 500, 'completed out of', 1000, 'loss', 49.184187009930611)\n",
      "('Epoch', 600, 'completed out of', 1000, 'loss', 49.184182375669479)\n",
      "('Epoch', 700, 'completed out of', 1000, 'loss', 49.184177458286285)\n",
      "('Epoch', 800, 'completed out of', 1000, 'loss', 49.184174194931984)\n",
      "('Epoch', 900, 'completed out of', 1000, 'loss', 49.18417039513588)\n",
      "('Last epoch loss: ', 49.184166088700294)\n"
     ]
    },
    {
     "data": {
      "text/plain": [
       "(<tf.Tensor 'nn:0' shape=(?, 3) dtype=float32>,\n",
       " <tf.Tensor 'correct:0' shape=(?,) dtype=bool>,\n",
       " <tf.Tensor 'accuracy:0' shape=() dtype=float32>)"
      ]
     },
     "execution_count": 8,
     "metadata": {},
     "output_type": "execute_result"
    }
   ],
   "source": [
    "x_train = tf.placeholder('float', [None, timesteps, num_input], name='x')\n",
    "y_train = tf.placeholder('float', [None, n_classes], name='y')\n",
    "\n",
    "train_and_save_nn(x_train, y_train)"
   ]
  },
  {
   "cell_type": "code",
   "execution_count": 9,
   "metadata": {
    "collapsed": false
   },
   "outputs": [
    {
     "name": "stdout",
     "output_type": "stream",
     "text": [
      "('Accuracy:', 0.81152344)\n",
      "('Test buy:  ', 124.0)\n",
      "('Test sell: ', 69.0)\n",
      "('Test hold: ', 831.0)\n",
      "('Correct buy:  ', 0.0, 'Incorrect buy:  ', 124.0, 'Accuracy: ', 0.0)\n",
      "('Correct sell: ', 0.0, 'Incorrect sell: ', 69.0, 'Accuracy: ', 0.0)\n",
      "('Correct hold: ', 831.0, 'Incorrect hold: ', 0.0, 'Accuracy: ', 100.0)\n"
     ]
    }
   ],
   "source": [
    "test_nn(X_test, Y_test)"
   ]
  },
  {
   "cell_type": "code",
   "execution_count": 10,
   "metadata": {
    "collapsed": false
   },
   "outputs": [
    {
     "data": {
      "text/plain": [
       "array([[ 0],\n",
       "       [ 1],\n",
       "       [ 2],\n",
       "       [ 3],\n",
       "       [ 4],\n",
       "       [ 5],\n",
       "       [ 6],\n",
       "       [ 7],\n",
       "       [ 8],\n",
       "       [ 9],\n",
       "       [10]])"
      ]
     },
     "execution_count": 10,
     "metadata": {},
     "output_type": "execute_result"
    }
   ],
   "source": [
    "from scipy.linalg import hankel\n",
    "L = [0, 1, 2, 3, 4, 5, 6, 7, 8, 9, 10]\n",
    "hankel(L[0:1], L[0:]).T"
   ]
  },
  {
   "cell_type": "code",
   "execution_count": null,
   "metadata": {
    "collapsed": true
   },
   "outputs": [],
   "source": []
  }
 ],
 "metadata": {
  "kernelspec": {
   "display_name": "Python 2",
   "language": "python",
   "name": "python2"
  },
  "language_info": {
   "codemirror_mode": {
    "name": "ipython",
    "version": 2
   },
   "file_extension": ".py",
   "mimetype": "text/x-python",
   "name": "python",
   "nbconvert_exporter": "python",
   "pygments_lexer": "ipython2",
   "version": "2.7.12"
  }
 },
 "nbformat": 4,
 "nbformat_minor": 2
}
