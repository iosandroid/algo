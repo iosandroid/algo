{
 "cells": [
  {
   "cell_type": "code",
   "execution_count": 1,
   "metadata": {
    "collapsed": false
   },
   "outputs": [],
   "source": [
    "import os\n",
    "import math\n",
    "import numpy as np\n",
    "import pandas as pd\n",
    "import tensorflow as tf\n",
    "import matplotlib.pyplot as plt\n",
    "from tensorflow.contrib import rnn\n",
    "\n",
    "from util.ZigZag import ZigZag, ZigZag0\n",
    "from util.CalcReturns import CalcReturns\n",
    "from util.BuildData import TrainingSet_NN_Prices, TrainingSet_NN_Logret\n",
    "from util.BuildData import TrainingSet_ML_Prices, TrainingSet_ML_Logret\n",
    "\n",
    "from sklearn import svm, preprocessing\n"
   ]
  },
  {
   "cell_type": "code",
   "execution_count": 2,
   "metadata": {
    "collapsed": true
   },
   "outputs": [],
   "source": [
    "%matplotlib qt"
   ]
  },
  {
   "cell_type": "code",
   "execution_count": 3,
   "metadata": {
    "collapsed": true
   },
   "outputs": [],
   "source": [
    "def recurrent_neural_network_model(input):\n",
    "\n",
    "    layer = {'w' : tf.Variable(tf.random_normal([num_hidden, n_classes])),\n",
    "             'b' : tf.Variable(tf.random_normal([n_classes]))}\n",
    "    \n",
    "    input = tf.unstack(input, timesteps, 1)    \n",
    "    lstm_cell = rnn.BasicLSTMCell(num_hidden, forget_bias=1.0)    \n",
    "    outs, state = rnn.static_rnn(lstm_cell, input, dtype=tf.float32)        \n",
    "    output = tf.add(tf.matmul(outs[-1], layer['w']), layer['b'], name='nn')\n",
    "    \n",
    "    return output"
   ]
  },
  {
   "cell_type": "code",
   "execution_count": 4,
   "metadata": {
    "collapsed": true
   },
   "outputs": [],
   "source": [
    "def train_and_save_nn(x_data,y_data):\n",
    "    x_train = tf.placeholder('float', [None, timesteps, num_input], name='x')\n",
    "    y_train = tf.placeholder('float', [None, n_classes], name='y')\n",
    "    \n",
    "    nn = recurrent_neural_network_model(x_train)\n",
    "    \n",
    "    cost = tf.reduce_mean(tf.nn.sigmoid_cross_entropy_with_logits(logits = nn, labels = y_train))\n",
    "    optimizer = tf.train.GradientDescentOptimizer(learning_rate = 0.01).minimize(cost)   \n",
    "    #optimizer = tf.train.AdamOptimizer(learning_rate = 0.01).minimize(cost)   \n",
    "    \n",
    "    correct = tf.equal(tf.argmax(nn,1), tf.argmax(y_train, 1), name='correct')\n",
    "    accuracy = tf.reduce_mean(tf.cast(correct, 'float'), name = 'accuracy')\n",
    "    \n",
    "    saver = tf.train.Saver()\n",
    "    \n",
    "    with tf.Session() as session:\n",
    "        session.run(tf.initialize_all_variables())\n",
    "\n",
    "        epoch_loss = 0\n",
    "        for epoch in range(hm_epochs):\n",
    "            epoch_loss = 0\n",
    "            for i in range(int(len(X_train)/batch_size)):\n",
    "                \n",
    "                batch_x = x_data[i*batch_size : (i+1)*batch_size]\n",
    "                batch_y = y_data[i*batch_size : (i+1)*batch_size]\n",
    "               \n",
    "                batch_x = batch_x.reshape((batch_size, timesteps, num_input))\n",
    "                \n",
    "                _, c = session.run([optimizer, cost], feed_dict = {x_train: batch_x, y_train: batch_y})\n",
    "                epoch_loss += c\n",
    "                \n",
    "            if epoch % 10 == 0:\n",
    "                print('Epoch', epoch, 'completed out of', hm_epochs, 'loss', epoch_loss)\n",
    "        \n",
    "        \n",
    "        \n",
    "                \n",
    "        saver.save(session, 'data/fxnn.ckpt')\n",
    "        \n",
    "        print('Last epoch loss: ', epoch_loss)\n",
    "        return nn, correct, accuracy"
   ]
  },
  {
   "cell_type": "code",
   "execution_count": 5,
   "metadata": {
    "collapsed": true
   },
   "outputs": [],
   "source": [
    "def test_nn(x_test, y_test):\n",
    "    with tf.Session() as session:\n",
    "        saver = tf.train.import_meta_graph('data/fxnn.ckpt.meta')\n",
    "        saver.restore(session, tf.train.latest_checkpoint('data/'))\n",
    "        \n",
    "        graph    = tf.get_default_graph()\n",
    "        correct  = graph.get_tensor_by_name('correct:0')\n",
    "        accuracy = graph.get_tensor_by_name('accuracy:0')\n",
    "        \n",
    "        x = graph.get_tensor_by_name('x:0')\n",
    "        y = graph.get_tensor_by_name('y:0')\n",
    "\n",
    "        x_test = x_test.reshape((t_count, timesteps, num_input))\n",
    "        \n",
    "        r = tf.cast(correct, 'float').eval({x:x_test, y:y_test})\n",
    "        \n",
    "        test_buy  = 0.0\n",
    "        test_sell = 0.0\n",
    "        test_hold = 0.0\n",
    "\n",
    "        correct_buy  = 0.0\n",
    "        correct_sell = 0.0\n",
    "        correct_hold = 0.0\n",
    "\n",
    "        incorrect_buy  = 0.0\n",
    "        incorrect_sell = 0.0\n",
    "        incorrect_hold = 0.0\n",
    "        \n",
    "        for i in range(len(r)):\n",
    "          \n",
    "            if y_test[i][2] == 1:\n",
    "                test_buy += 1.0;\n",
    "            elif y_test[i][1] == 1:\n",
    "                test_hold += 1.0;\n",
    "            elif y_test[i][0] == 1:\n",
    "                test_sell += 1.0;\n",
    "                \n",
    "            if r[i] == 1:\n",
    "                if y_test[i][2] == 1:\n",
    "                    correct_buy += 1.0;\n",
    "                elif y_test[i][1] == 1:\n",
    "                    correct_hold += 1.0;\n",
    "                elif y_test[i][0] == 1:\n",
    "                    correct_sell += 1.0;\n",
    "            else:\n",
    "                if y_test[i][2] == 1:\n",
    "                    incorrect_buy += 1.0;\n",
    "                elif y_test[i][1] == 1:\n",
    "                    incorrect_hold += 1.0;\n",
    "                elif y_test[i][0] == 1:\n",
    "                    incorrect_sell += 1.0;\n",
    "        \n",
    "        print('Accuracy:',accuracy.eval({x_train:x_test, y_train:y_test}))\n",
    "        \n",
    "        print( \"Test buy:  \", test_buy  )\n",
    "        print( \"Test sell: \", test_sell )\n",
    "        print( \"Test hold: \", test_hold )\n",
    "\n",
    "        print( \"Correct buy:  \", correct_buy,  \"Incorrect buy:  \", incorrect_buy,  \"Accuracy: \", (correct_buy/(test_buy+1))*100 )\n",
    "        print( \"Correct sell: \", correct_sell, \"Incorrect sell: \", incorrect_sell, \"Accuracy: \", (correct_sell/(test_sell+1))*100 )\n",
    "        print( \"Correct hold: \", correct_hold, \"Incorrect hold: \", incorrect_hold, \"Accuracy: \", (correct_hold/(test_hold+1))*100 )"
   ]
  },
  {
   "cell_type": "code",
   "execution_count": 6,
   "metadata": {
    "collapsed": true
   },
   "outputs": [],
   "source": [
    "n_classes  = 3\n",
    "step = 1\n",
    "timesteps = 1\n",
    "num_input = 1\n",
    "\n",
    "#step == num_input * timesteps\n",
    "\n",
    "hm_epochs  = 1000\n",
    "num_hidden = 4*60\n",
    "batch_size = 4*1440\n",
    "t_count = 1024\n"
   ]
  },
  {
   "cell_type": "code",
   "execution_count": 7,
   "metadata": {
    "collapsed": false
   },
   "outputs": [
    {
     "name": "stdout",
     "output_type": "stream",
     "text": [
      "Buys: 6034; Sells: 8094; Holds: 239; Count: 14367\n"
     ]
    }
   ],
   "source": [
    "source = pd.read_csv('EURUSD1.csv', header=0) # source CSV\n",
    "prices = np.array(source.Close) # close prices\n",
    "\n",
    "T, S = TrainingSet_NN_Prices(prices = prices, minsize = 0.0004, lag = step, scale = True, ZigZagFunc=ZigZag0)\n",
    "\n",
    "X_train = T['input'][:-t_count]\n",
    "Y_train = T['label'][:-t_count]\n",
    "\n",
    "X_test = T['input'][-t_count:]\n",
    "Y_test = T['label'][-t_count:]"
   ]
  },
  {
   "cell_type": "code",
   "execution_count": 8,
   "metadata": {
    "collapsed": false
   },
   "outputs": [
    {
     "name": "stdout",
     "output_type": "stream",
     "text": [
      "WARNING:tensorflow:From <ipython-input-4-b3df2ce1bd6b>:17: initialize_all_variables (from tensorflow.python.ops.variables) is deprecated and will be removed after 2017-03-02.\n",
      "Instructions for updating:\n",
      "Use `tf.global_variables_initializer` instead.\n",
      "('Epoch', 0, 'completed out of', 1000, 'loss', 1.4143467545509338)\n",
      "('Epoch', 10, 'completed out of', 1000, 'loss', 1.164406418800354)\n",
      "('Epoch', 20, 'completed out of', 1000, 'loss', 1.0722748637199402)\n",
      "('Epoch', 30, 'completed out of', 1000, 'loss', 1.0298084020614624)\n",
      "('Epoch', 40, 'completed out of', 1000, 'loss', 1.0065713822841644)\n",
      "('Epoch', 50, 'completed out of', 1000, 'loss', 0.99229231476783752)\n",
      "('Epoch', 60, 'completed out of', 1000, 'loss', 0.98280909657478333)\n",
      "('Epoch', 70, 'completed out of', 1000, 'loss', 0.97613447904586792)\n",
      "('Epoch', 80, 'completed out of', 1000, 'loss', 0.97125563025474548)\n",
      "('Epoch', 90, 'completed out of', 1000, 'loss', 0.96755239367485046)\n",
      "('Epoch', 100, 'completed out of', 1000, 'loss', 0.96468976140022278)\n",
      "('Epoch', 110, 'completed out of', 1000, 'loss', 0.96240508556365967)\n",
      "('Epoch', 120, 'completed out of', 1000, 'loss', 0.9605771005153656)\n",
      "('Epoch', 130, 'completed out of', 1000, 'loss', 0.95907601714134216)\n",
      "('Epoch', 140, 'completed out of', 1000, 'loss', 0.9578171968460083)\n",
      "('Epoch', 150, 'completed out of', 1000, 'loss', 0.95678681135177612)\n"
     ]
    },
    {
     "ename": "KeyboardInterrupt",
     "evalue": "",
     "output_type": "error",
     "traceback": [
      "\u001b[0;31m---------------------------------------------------------------------------\u001b[0m",
      "\u001b[0;31mKeyboardInterrupt\u001b[0m                         Traceback (most recent call last)",
      "\u001b[0;32m<ipython-input-8-343417b0cf81>\u001b[0m in \u001b[0;36m<module>\u001b[0;34m()\u001b[0m\n\u001b[0;32m----> 1\u001b[0;31m \u001b[0mtrain_and_save_nn\u001b[0m\u001b[0;34m(\u001b[0m\u001b[0mX_train\u001b[0m\u001b[0;34m,\u001b[0m \u001b[0mY_train\u001b[0m\u001b[0;34m)\u001b[0m\u001b[0;34m\u001b[0m\u001b[0m\n\u001b[0m",
      "\u001b[0;32m<ipython-input-4-b3df2ce1bd6b>\u001b[0m in \u001b[0;36mtrain_and_save_nn\u001b[0;34m(x_data, y_data)\u001b[0m\n\u001b[1;32m     27\u001b[0m                 \u001b[0mbatch_x\u001b[0m \u001b[0;34m=\u001b[0m \u001b[0mbatch_x\u001b[0m\u001b[0;34m.\u001b[0m\u001b[0mreshape\u001b[0m\u001b[0;34m(\u001b[0m\u001b[0;34m(\u001b[0m\u001b[0mbatch_size\u001b[0m\u001b[0;34m,\u001b[0m \u001b[0mtimesteps\u001b[0m\u001b[0;34m,\u001b[0m \u001b[0mnum_input\u001b[0m\u001b[0;34m)\u001b[0m\u001b[0;34m)\u001b[0m\u001b[0;34m\u001b[0m\u001b[0m\n\u001b[1;32m     28\u001b[0m \u001b[0;34m\u001b[0m\u001b[0m\n\u001b[0;32m---> 29\u001b[0;31m                 \u001b[0m_\u001b[0m\u001b[0;34m,\u001b[0m \u001b[0mc\u001b[0m \u001b[0;34m=\u001b[0m \u001b[0msession\u001b[0m\u001b[0;34m.\u001b[0m\u001b[0mrun\u001b[0m\u001b[0;34m(\u001b[0m\u001b[0;34m[\u001b[0m\u001b[0moptimizer\u001b[0m\u001b[0;34m,\u001b[0m \u001b[0mcost\u001b[0m\u001b[0;34m]\u001b[0m\u001b[0;34m,\u001b[0m \u001b[0mfeed_dict\u001b[0m \u001b[0;34m=\u001b[0m \u001b[0;34m{\u001b[0m\u001b[0mx_train\u001b[0m\u001b[0;34m:\u001b[0m \u001b[0mbatch_x\u001b[0m\u001b[0;34m,\u001b[0m \u001b[0my_train\u001b[0m\u001b[0;34m:\u001b[0m \u001b[0mbatch_y\u001b[0m\u001b[0;34m}\u001b[0m\u001b[0;34m)\u001b[0m\u001b[0;34m\u001b[0m\u001b[0m\n\u001b[0m\u001b[1;32m     30\u001b[0m                 \u001b[0mepoch_loss\u001b[0m \u001b[0;34m+=\u001b[0m \u001b[0mc\u001b[0m\u001b[0;34m\u001b[0m\u001b[0m\n\u001b[1;32m     31\u001b[0m \u001b[0;34m\u001b[0m\u001b[0m\n",
      "\u001b[0;32m/usr/local/lib/python2.7/dist-packages/tensorflow/python/client/session.pyc\u001b[0m in \u001b[0;36mrun\u001b[0;34m(self, fetches, feed_dict, options, run_metadata)\u001b[0m\n\u001b[1;32m    765\u001b[0m     \u001b[0;32mtry\u001b[0m\u001b[0;34m:\u001b[0m\u001b[0;34m\u001b[0m\u001b[0m\n\u001b[1;32m    766\u001b[0m       result = self._run(None, fetches, feed_dict, options_ptr,\n\u001b[0;32m--> 767\u001b[0;31m                          run_metadata_ptr)\n\u001b[0m\u001b[1;32m    768\u001b[0m       \u001b[0;32mif\u001b[0m \u001b[0mrun_metadata\u001b[0m\u001b[0;34m:\u001b[0m\u001b[0;34m\u001b[0m\u001b[0m\n\u001b[1;32m    769\u001b[0m         \u001b[0mproto_data\u001b[0m \u001b[0;34m=\u001b[0m \u001b[0mtf_session\u001b[0m\u001b[0;34m.\u001b[0m\u001b[0mTF_GetBuffer\u001b[0m\u001b[0;34m(\u001b[0m\u001b[0mrun_metadata_ptr\u001b[0m\u001b[0;34m)\u001b[0m\u001b[0;34m\u001b[0m\u001b[0m\n",
      "\u001b[0;32m/usr/local/lib/python2.7/dist-packages/tensorflow/python/client/session.pyc\u001b[0m in \u001b[0;36m_run\u001b[0;34m(self, handle, fetches, feed_dict, options, run_metadata)\u001b[0m\n\u001b[1;32m    963\u001b[0m     \u001b[0;32mif\u001b[0m \u001b[0mfinal_fetches\u001b[0m \u001b[0;32mor\u001b[0m \u001b[0mfinal_targets\u001b[0m\u001b[0;34m:\u001b[0m\u001b[0;34m\u001b[0m\u001b[0m\n\u001b[1;32m    964\u001b[0m       results = self._do_run(handle, final_targets, final_fetches,\n\u001b[0;32m--> 965\u001b[0;31m                              feed_dict_string, options, run_metadata)\n\u001b[0m\u001b[1;32m    966\u001b[0m     \u001b[0;32melse\u001b[0m\u001b[0;34m:\u001b[0m\u001b[0;34m\u001b[0m\u001b[0m\n\u001b[1;32m    967\u001b[0m       \u001b[0mresults\u001b[0m \u001b[0;34m=\u001b[0m \u001b[0;34m[\u001b[0m\u001b[0;34m]\u001b[0m\u001b[0;34m\u001b[0m\u001b[0m\n",
      "\u001b[0;32m/usr/local/lib/python2.7/dist-packages/tensorflow/python/client/session.pyc\u001b[0m in \u001b[0;36m_do_run\u001b[0;34m(self, handle, target_list, fetch_list, feed_dict, options, run_metadata)\u001b[0m\n\u001b[1;32m   1013\u001b[0m     \u001b[0;32mif\u001b[0m \u001b[0mhandle\u001b[0m \u001b[0;32mis\u001b[0m \u001b[0mNone\u001b[0m\u001b[0;34m:\u001b[0m\u001b[0;34m\u001b[0m\u001b[0m\n\u001b[1;32m   1014\u001b[0m       return self._do_call(_run_fn, self._session, feed_dict, fetch_list,\n\u001b[0;32m-> 1015\u001b[0;31m                            target_list, options, run_metadata)\n\u001b[0m\u001b[1;32m   1016\u001b[0m     \u001b[0;32melse\u001b[0m\u001b[0;34m:\u001b[0m\u001b[0;34m\u001b[0m\u001b[0m\n\u001b[1;32m   1017\u001b[0m       return self._do_call(_prun_fn, self._session, handle, feed_dict,\n",
      "\u001b[0;32m/usr/local/lib/python2.7/dist-packages/tensorflow/python/client/session.pyc\u001b[0m in \u001b[0;36m_do_call\u001b[0;34m(self, fn, *args)\u001b[0m\n\u001b[1;32m   1020\u001b[0m   \u001b[0;32mdef\u001b[0m \u001b[0m_do_call\u001b[0m\u001b[0;34m(\u001b[0m\u001b[0mself\u001b[0m\u001b[0;34m,\u001b[0m \u001b[0mfn\u001b[0m\u001b[0;34m,\u001b[0m \u001b[0;34m*\u001b[0m\u001b[0margs\u001b[0m\u001b[0;34m)\u001b[0m\u001b[0;34m:\u001b[0m\u001b[0;34m\u001b[0m\u001b[0m\n\u001b[1;32m   1021\u001b[0m     \u001b[0;32mtry\u001b[0m\u001b[0;34m:\u001b[0m\u001b[0;34m\u001b[0m\u001b[0m\n\u001b[0;32m-> 1022\u001b[0;31m       \u001b[0;32mreturn\u001b[0m \u001b[0mfn\u001b[0m\u001b[0;34m(\u001b[0m\u001b[0;34m*\u001b[0m\u001b[0margs\u001b[0m\u001b[0;34m)\u001b[0m\u001b[0;34m\u001b[0m\u001b[0m\n\u001b[0m\u001b[1;32m   1023\u001b[0m     \u001b[0;32mexcept\u001b[0m \u001b[0merrors\u001b[0m\u001b[0;34m.\u001b[0m\u001b[0mOpError\u001b[0m \u001b[0;32mas\u001b[0m \u001b[0me\u001b[0m\u001b[0;34m:\u001b[0m\u001b[0;34m\u001b[0m\u001b[0m\n\u001b[1;32m   1024\u001b[0m       \u001b[0mmessage\u001b[0m \u001b[0;34m=\u001b[0m \u001b[0mcompat\u001b[0m\u001b[0;34m.\u001b[0m\u001b[0mas_text\u001b[0m\u001b[0;34m(\u001b[0m\u001b[0me\u001b[0m\u001b[0;34m.\u001b[0m\u001b[0mmessage\u001b[0m\u001b[0;34m)\u001b[0m\u001b[0;34m\u001b[0m\u001b[0m\n",
      "\u001b[0;32m/usr/local/lib/python2.7/dist-packages/tensorflow/python/client/session.pyc\u001b[0m in \u001b[0;36m_run_fn\u001b[0;34m(session, feed_dict, fetch_list, target_list, options, run_metadata)\u001b[0m\n\u001b[1;32m   1002\u001b[0m         return tf_session.TF_Run(session, options,\n\u001b[1;32m   1003\u001b[0m                                  \u001b[0mfeed_dict\u001b[0m\u001b[0;34m,\u001b[0m \u001b[0mfetch_list\u001b[0m\u001b[0;34m,\u001b[0m \u001b[0mtarget_list\u001b[0m\u001b[0;34m,\u001b[0m\u001b[0;34m\u001b[0m\u001b[0m\n\u001b[0;32m-> 1004\u001b[0;31m                                  status, run_metadata)\n\u001b[0m\u001b[1;32m   1005\u001b[0m \u001b[0;34m\u001b[0m\u001b[0m\n\u001b[1;32m   1006\u001b[0m     \u001b[0;32mdef\u001b[0m \u001b[0m_prun_fn\u001b[0m\u001b[0;34m(\u001b[0m\u001b[0msession\u001b[0m\u001b[0;34m,\u001b[0m \u001b[0mhandle\u001b[0m\u001b[0;34m,\u001b[0m \u001b[0mfeed_dict\u001b[0m\u001b[0;34m,\u001b[0m \u001b[0mfetch_list\u001b[0m\u001b[0;34m)\u001b[0m\u001b[0;34m:\u001b[0m\u001b[0;34m\u001b[0m\u001b[0m\n",
      "\u001b[0;31mKeyboardInterrupt\u001b[0m: "
     ]
    }
   ],
   "source": [
    "train_and_save_nn(X_train, Y_train)"
   ]
  },
  {
   "cell_type": "code",
   "execution_count": 9,
   "metadata": {
    "collapsed": false
   },
   "outputs": [
    {
     "name": "stdout",
     "output_type": "stream",
     "text": [
      "('Accuracy:', 0.45410156)\n",
      "('Test buy:  ', 515.0)\n",
      "('Test sell: ', 465.0)\n",
      "('Test hold: ', 44.0)\n",
      "('Correct buy:  ', 0.0, 'Incorrect buy:  ', 515.0, 'Accuracy: ', 0.0)\n",
      "('Correct sell: ', 465.0, 'Incorrect sell: ', 0.0, 'Accuracy: ', 99.78540772532189)\n",
      "('Correct hold: ', 0.0, 'Incorrect hold: ', 44.0, 'Accuracy: ', 0.0)\n"
     ]
    }
   ],
   "source": [
    "test_nn(X_test, Y_test)"
   ]
  },
  {
   "cell_type": "code",
   "execution_count": null,
   "metadata": {
    "collapsed": true
   },
   "outputs": [],
   "source": []
  }
 ],
 "metadata": {
  "kernelspec": {
   "display_name": "Python 2",
   "language": "python",
   "name": "python2"
  },
  "language_info": {
   "codemirror_mode": {
    "name": "ipython",
    "version": 2
   },
   "file_extension": ".py",
   "mimetype": "text/x-python",
   "name": "python",
   "nbconvert_exporter": "python",
   "pygments_lexer": "ipython2",
   "version": "2.7.12"
  }
 },
 "nbformat": 4,
 "nbformat_minor": 2
}
