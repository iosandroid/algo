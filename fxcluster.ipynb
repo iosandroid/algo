{
 "cells": [
  {
   "cell_type": "code",
   "execution_count": 1,
   "metadata": {
    "collapsed": true
   },
   "outputs": [],
   "source": [
    "import datetime\n",
    "\n",
    "import numpy as np\n",
    "import pandas as pd\n",
    "import matplotlib.pyplot as plt\n",
    "from matplotlib.collections import LineCollection\n",
    "from sklearn import cluster, covariance, manifold\n",
    "from sklearn.cluster import DBSCAN, AffinityPropagation"
   ]
  },
  {
   "cell_type": "code",
   "execution_count": 2,
   "metadata": {
    "collapsed": false
   },
   "outputs": [],
   "source": [
    "symbols = \\\n",
    "[\n",
    "    'AUDCAD1',\n",
    "    'AUDCHF1',\n",
    "    'AUDJPY1',\n",
    "    'AUDNZD1',\n",
    "    'AUDUSD1',\n",
    "    'CADCHF1',\n",
    "    'CADJPY1',\n",
    "    'CHFJPY1',\n",
    "    'EURAUD1',\n",
    "    'EURCAD1',\n",
    "    'EURCHF1',\n",
    "    'EURDKK1',\n",
    "    'EURGBP1',\n",
    "    'EURHKD1',\n",
    "    'EURJPY1',\n",
    "    'EURNOK1',\n",
    "    'EURNZD1',\n",
    "    'EURPLN1',\n",
    "    'EURSEK1',\n",
    "    'EURTRY1',\n",
    "    'EURUSD1',\n",
    "    'GBPAUD1',\n",
    "    'GBPCAD1',\n",
    "    'GBPCHF1',\n",
    "    'GBPJPY1',\n",
    "    'GBPNZD1',\n",
    "    'GBPSGD1',\n",
    "    'GBPUSD1',\n",
    "    'HKDJPY1',\n",
    "    'NOKJPY1',\n",
    "    'NOKSEK1',\n",
    "    'NZDCAD1',\n",
    "    'NZDCHF1',\n",
    "    'NZDJPY1',\n",
    "    'NZDSGD1',\n",
    "    'NZDUSD1',\n",
    "    'SGDJPY1',\n",
    "    'USDCAD1',\n",
    "    'USDCHF1',\n",
    "    'USDCNH1',\n",
    "    'USDDKK1',\n",
    "    'USDHKD1',\n",
    "    'USDJPY1',\n",
    "    'USDMXN1',\n",
    "    'USDNOK1',\n",
    "    'USDPLN1',\n",
    "    'USDRUB1',\n",
    "    'USDSEK1',\n",
    "    'USDSGD1',\n",
    "    'USDTRY1'\n",
    "]\n",
    "\n",
    "names = np.array(symbols).T\n",
    "\n",
    "quotes = []\n",
    "for symbol in symbols:\n",
    "    s = pd.read_csv('Data/'+symbol+'.csv', names=['Date', 'Time', 'Open', 'High', 'Low', 'Close', 'Volume'])\n",
    "    quotes.append(s)\n",
    "\n",
    "def calc_r(data):\n",
    "    r = []\n",
    "    import math\n",
    "    for i in range(len(data)-1):\n",
    "        v = math.log(math.fabs(data[i+1]/data[i]))\n",
    "        r.append(v)\n",
    "        \n",
    "    return r\n",
    "\n",
    "open = np.array([q.Open[0:2047] for q in quotes]).astype(np.float)\n",
    "close = np.array([q.Close[0:2047] for q in quotes]).astype(np.float)\n",
    "\n",
    "variation = close - open\n",
    "\n",
    "#variation = np.array([calc_r(q.Close[0:1024]) for q in quotes]).astype(np.float)\n",
    "\n",
    "#%matplotlib qt\n",
    "#plt.plot(variation[1])\n"
   ]
  },
  {
   "cell_type": "code",
   "execution_count": 11,
   "metadata": {
    "collapsed": false
   },
   "outputs": [
    {
     "name": "stdout",
     "output_type": "stream",
     "text": [
      "[0 0 0 0 0 0 0 0 0 0 0 0 0 0 0 0 0 0 0 0 0 0 0 0 0 0 0 0 0 0 0 0 0 0 0 0 0\n",
      " 0 0 0 0 0 0 0 0 0 0 0 0 0]\n",
      "Cluster 1: AUDCAD1, AUDCHF1, AUDJPY1, AUDNZD1, AUDUSD1, CADCHF1, CADJPY1, CHFJPY1, EURAUD1, EURCAD1, EURCHF1, EURDKK1, EURGBP1, EURHKD1, EURJPY1, EURNOK1, EURNZD1, EURPLN1, EURSEK1, EURTRY1, EURUSD1, GBPAUD1, GBPCAD1, GBPCHF1, GBPJPY1, GBPNZD1, GBPSGD1, GBPUSD1, HKDJPY1, NOKJPY1, NOKSEK1, NZDCAD1, NZDCHF1, NZDJPY1, NZDSGD1, NZDUSD1, SGDJPY1, USDCAD1, USDCHF1, USDCNH1, USDDKK1, USDHKD1, USDJPY1, USDMXN1, USDNOK1, USDPLN1, USDRUB1, USDSEK1, USDSGD1, USDTRY1\n"
     ]
    }
   ],
   "source": [
    "edge_model = covariance.GraphLassoCV()\n",
    "#edge_model = covariance.GraphLasso()\n",
    "\n",
    "X = variation.copy().T\n",
    "X /= X.std(axis=0)\n",
    "\n",
    "#print(X)\n",
    "\n",
    "edge_model.fit(X)\n",
    "\n",
    "#_, labels = cluster.affinity_propagation(edge_model.covariance_)\n",
    "_, labels = cluster.mean_shift(edge_model.covariance_)\n",
    "\n",
    "\n",
    "#labels = AffinityPropagation().fit_predict(edge_model.covariance_)\n",
    "print(labels)\n",
    "#print(edge_model.covariance_)\n",
    "\n",
    "#labels = DBSCAN().fit_predict(edge_model.covariance_)\n",
    "#print(labels)\n",
    "\n",
    "n_labels = labels.max()\n",
    "\n",
    "for i in range(n_labels + 1):\n",
    "    print('Cluster %i: %s' % ((i + 1), ', '.join(names[labels == i])))"
   ]
  },
  {
   "cell_type": "code",
   "execution_count": 4,
   "metadata": {
    "collapsed": true
   },
   "outputs": [],
   "source": [
    "# We use a dense eigen_solver to achieve reproducibility (arpack is\n",
    "# initiated with random vectors that we don't control). In addition, we\n",
    "# use a large number of neighbors to capture the large-scale structure.\n",
    "node_position_model = manifold.LocallyLinearEmbedding(\n",
    "    n_components=2, eigen_solver='dense', n_neighbors=6)\n",
    "\n",
    "embedding = node_position_model.fit_transform(X.T).T"
   ]
  },
  {
   "cell_type": "code",
   "execution_count": 5,
   "metadata": {
    "collapsed": false
   },
   "outputs": [
    {
     "name": "stdout",
     "output_type": "stream",
     "text": [
      "[[ 1.         0.         0.        ..., -0.         0.        -0.       ]\n",
      " [ 0.         1.0000183 -0.        ...,  0.        -0.         0.       ]\n",
      " [ 0.        -0.         1.        ...,  0.         0.        -0.       ]\n",
      " ..., \n",
      " [-0.         0.         0.        ...,  1.        -0.         0.       ]\n",
      " [ 0.        -0.         0.        ..., -0.         1.         0.       ]\n",
      " [-0.         0.        -0.        ...,  0.         0.         1.       ]]\n"
     ]
    }
   ],
   "source": [
    "%matplotlib qt\n",
    "plt.figure(1, facecolor='w', figsize=(10, 8))\n",
    "plt.clf()\n",
    "ax = plt.axes([0., 0., 1., 1.])\n",
    "plt.axis('off')\n",
    "\n",
    "# Display a graph of the partial correlations\n",
    "partial_correlations = edge_model.precision_.copy()\n",
    "print(partial_correlations)\n",
    "\n",
    "d = 1 / np.sqrt(np.diag(partial_correlations))\n",
    "\n",
    "partial_correlations *= d\n",
    "partial_correlations *= d[:, np.newaxis]\n",
    "non_zero = (np.abs(np.triu(partial_correlations, k=1)) > 0.02)\n",
    "\n",
    "# Plot the nodes using the coordinates of our embedding\n",
    "plt.scatter(embedding[0], embedding[1], s=100 * d ** 2, c=labels,\n",
    "            cmap=plt.cm.spectral)\n",
    "\n",
    "# Plot the edges\n",
    "start_idx, end_idx = np.where(non_zero)\n",
    "#a sequence of (*line0*, *line1*, *line2*), where::\n",
    "#            linen = (x0, y0), (x1, y1), ... (xm, ym)\n",
    "segments = [[embedding[:, start], embedding[:, stop]]\n",
    "            for start, stop in zip(start_idx, end_idx)]\n",
    "values = np.abs(partial_correlations[non_zero])\n",
    "\n",
    "#lc = LineCollection(segments,\n",
    "#                    zorder=0, cmap=plt.cm.hot_r,\n",
    "#                    norm=plt.Normalize(0, .7 * values.max()))\n",
    "#lc.set_array(values)\n",
    "#lc.set_linewidths(15 * values)\n",
    "#ax.add_collection(lc)\n",
    "\n",
    "# Add a label to each node. The challenge here is that we want to\n",
    "# position the labels to avoid overlap with other labels\n",
    "for index, (name, label, (x, y)) in enumerate(\n",
    "        zip(names, labels, embedding.T)):\n",
    "\n",
    "    dx = x - embedding[0]\n",
    "    dx[index] = 1\n",
    "    dy = y - embedding[1]\n",
    "    dy[index] = 1\n",
    "    this_dx = dx[np.argmin(np.abs(dy))]\n",
    "    this_dy = dy[np.argmin(np.abs(dx))]\n",
    "    if this_dx > 0:\n",
    "        horizontalalignment = 'left'\n",
    "        x = x + .002\n",
    "    else:\n",
    "        horizontalalignment = 'right'\n",
    "        x = x - .002\n",
    "    if this_dy > 0:\n",
    "        verticalalignment = 'bottom'\n",
    "        y = y + .002\n",
    "    else:\n",
    "        verticalalignment = 'top'\n",
    "        y = y - .002\n",
    "    plt.text(x, y, name, size=10,\n",
    "             horizontalalignment=horizontalalignment,\n",
    "             verticalalignment=verticalalignment,\n",
    "             bbox=dict(facecolor='w',\n",
    "                       edgecolor=plt.cm.spectral(label / float(n_labels)),\n",
    "                       alpha=.6))\n",
    "\n",
    "plt.xlim(embedding[0].min() - .15 * embedding[0].ptp(),\n",
    "         embedding[0].max() + .10 * embedding[0].ptp(),)\n",
    "plt.ylim(embedding[1].min() - .03 * embedding[1].ptp(),\n",
    "         embedding[1].max() + .03 * embedding[1].ptp())\n",
    "\n",
    "plt.show()"
   ]
  },
  {
   "cell_type": "code",
   "execution_count": null,
   "metadata": {
    "collapsed": true
   },
   "outputs": [],
   "source": []
  },
  {
   "cell_type": "code",
   "execution_count": null,
   "metadata": {
    "collapsed": true
   },
   "outputs": [],
   "source": []
  }
 ],
 "metadata": {
  "kernelspec": {
   "display_name": "Python 2",
   "language": "python",
   "name": "python2"
  },
  "language_info": {
   "codemirror_mode": {
    "name": "ipython",
    "version": 2
   },
   "file_extension": ".py",
   "mimetype": "text/x-python",
   "name": "python",
   "nbconvert_exporter": "python",
   "pygments_lexer": "ipython2",
   "version": "2.7.12"
  }
 },
 "nbformat": 4,
 "nbformat_minor": 2
}
