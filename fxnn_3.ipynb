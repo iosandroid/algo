{
 "cells": [
  {
   "cell_type": "code",
   "execution_count": 1,
   "metadata": {
    "collapsed": false
   },
   "outputs": [],
   "source": [
    "import os\n",
    "import math\n",
    "import numpy as np\n",
    "import pandas as pd\n",
    "import tensorflow as tf\n",
    "import matplotlib.pyplot as plt\n",
    "from tensorflow.contrib import rnn\n",
    "\n",
    "from util.ZigZag import ZigZag\n",
    "from util.BuildData import BuildTrainSetForMLUsingPrices,  BuildTrainSetForMLUsingReturns\n",
    "from util.CalcReturns import CalcReturns\n",
    "\n",
    "from sklearn import svm, preprocessing"
   ]
  },
  {
   "cell_type": "code",
   "execution_count": 2,
   "metadata": {
    "collapsed": true
   },
   "outputs": [],
   "source": [
    "%matplotlib qt"
   ]
  },
  {
   "cell_type": "code",
   "execution_count": 3,
   "metadata": {
    "collapsed": true
   },
   "outputs": [],
   "source": [
    "def recurrent_neural_network_model(x):\n",
    "\n",
    "    layer = {'w' : tf.Variable(tf.random_normal([num_hidden, n_classes])),\n",
    "             'b' : tf.Variable(tf.random_normal([n_classes]))}\n",
    "    \n",
    "    x = tf.unstack(x, timesteps, 1)    \n",
    "    lstm_cell = rnn.BasicLSTMCell(num_hidden, forget_bias=1.0)    \n",
    "    outs, state = rnn.static_rnn(lstm_cell, x, dtype=tf.float32)        \n",
    "    y = tf.add(tf.matmul(outs[-1], layer['w']), layer['b'], name='nn')\n",
    "    \n",
    "    return y"
   ]
  },
  {
   "cell_type": "code",
   "execution_count": 4,
   "metadata": {
    "collapsed": true
   },
   "outputs": [],
   "source": [
    "def train_and_save_nn(x,y):\n",
    "    nn = recurrent_neural_network_model(x)\n",
    "    \n",
    "    cost = tf.reduce_mean(tf.nn.sigmoid_cross_entropy_with_logits(logits = nn, labels = y))\n",
    "    #optimizer = tf.train.GradientDescentOptimizer(learning_rate = 0.001).minimize(cost)   \n",
    "    optimizer = tf.train.AdamOptimizer(learning_rate = 0.0006).minimize(cost)   \n",
    "    \n",
    "    correct = tf.equal(tf.argmax(nn,1), tf.argmax(y_train, 1), name='correct')\n",
    "    accuracy = tf.reduce_mean(tf.cast(correct, 'float'), name = 'accuracy')\n",
    "    \n",
    "    saver = tf.train.Saver()\n",
    "    \n",
    "    with tf.Session() as session:\n",
    "        session.run(tf.initialize_all_variables())\n",
    "\n",
    "        epoch_loss = 0\n",
    "        for epoch in range(hm_epochs):\n",
    "            epoch_loss = 0\n",
    "            for i in range(int((len(D) - t_count)/batch_size)):\n",
    "                \n",
    "                batch_x = D[i*batch_size : (i+1)*batch_size]\n",
    "                batch_y = L[i*batch_size : (i+1)*batch_size]\n",
    "               \n",
    "                batch_x = batch_x.reshape((batch_size, timesteps, num_input))\n",
    "                \n",
    "                _, c = session.run([optimizer, cost], feed_dict = {x: batch_x, y: batch_y})\n",
    "                epoch_loss += c\n",
    "                \n",
    "            if epoch % 100 == 0:\n",
    "                print('Epoch', epoch, 'completed out of', hm_epochs, 'loss', epoch_loss)\n",
    "        \n",
    "        \n",
    "        \n",
    "                \n",
    "        saver.save(session, 'data/fxnn.ckpt')\n",
    "        \n",
    "        print('Last epoch loss: ', epoch_loss)\n",
    "        return nn, correct, accuracy"
   ]
  },
  {
   "cell_type": "code",
   "execution_count": 5,
   "metadata": {
    "collapsed": true
   },
   "outputs": [],
   "source": [
    "def test_nn(x_test, y_test):\n",
    "    with tf.Session() as session:\n",
    "        saver = tf.train.import_meta_graph('data/fxnn.ckpt.meta')\n",
    "        saver.restore(session, tf.train.latest_checkpoint('data/'))\n",
    "        \n",
    "        graph    = tf.get_default_graph()\n",
    "        correct  = graph.get_tensor_by_name('correct:0')\n",
    "        accuracy = graph.get_tensor_by_name('accuracy:0')\n",
    "        \n",
    "        x = graph.get_tensor_by_name('x:0')\n",
    "        y = graph.get_tensor_by_name('y:0')\n",
    "\n",
    "        x_test = x_test.reshape((t_count, timesteps, num_input))\n",
    "        \n",
    "        r = tf.cast(correct, 'float').eval({x:x_test, y:y_test})       \n",
    "\n",
    "        #for i in range(len(r)):\n",
    "        #    print '%s %s' % (r[i], y_test[i])        \n",
    "\n",
    "        test_buy  = 0.0\n",
    "        test_sell = 0.0\n",
    "\n",
    "        correct_buy  = 0.0\n",
    "        correct_sell = 0.0\n",
    "\n",
    "        incorrect_buy  = 0.0\n",
    "        incorrect_sell = 0.0\n",
    "\n",
    "        for i in range(len(r)):\n",
    "            if y_test[i][1] == 1:\n",
    "                test_buy += 1.0;\n",
    "            elif y_test[i][0] == 1:\n",
    "                test_sell += 1.0;\n",
    "\n",
    "            if r[i] == 1:\n",
    "                if y_test[i][1] == 1:\n",
    "                    correct_buy += 1.0;\n",
    "                elif y_test[i][0] == 1:\n",
    "                    correct_sell += 1.0;\n",
    "            else:\n",
    "                if y_test[i][1] == 1:\n",
    "                    incorrect_buy += 1.0;\n",
    "                elif y_test[i][0] == 1:\n",
    "                    incorrect_sell += 1.0;\n",
    "\n",
    "        print('Accuracy:',accuracy.eval({x:x_test, y:y_test}))\n",
    "\n",
    "        print( \"Test buy:  \", test_buy  )\n",
    "        print( \"Test sell: \", test_sell )\n",
    "\n",
    "        print( \"Correct buy:  \", correct_buy,  \"Incorrect buy:  \", incorrect_buy,  \"Accuracy: \", (correct_buy/test_buy)*100 )\n",
    "        print( \"Correct sell: \", correct_sell, \"Incorrect sell: \", incorrect_sell, \"Accuracy: \", (correct_sell/test_sell)*100 )"
   ]
  },
  {
   "cell_type": "code",
   "execution_count": 6,
   "metadata": {
    "collapsed": false
   },
   "outputs": [
    {
     "name": "stdout",
     "output_type": "stream",
     "text": [
      "815 1049 234 1 0.00649 1.17489 1.18138 0.00649\n",
      "1049 1758 709 0 0 1.18138 1.18115 -0.00023\n",
      "1758 2240 482 -1 -0.00642 1.18115 1.17473 -0.00642\n",
      "2240 3486 1246 0 0 1.17473 1.17439 -0.00034\n",
      "3486 3889 403 1 0.00655 1.17439 1.18094 0.00655\n",
      "3889 6753 2864 0 0 1.18094 1.17933 -0.00161\n",
      "6753 6756 3 1 0.00663 1.17933 1.18596 0.00663\n",
      "6756 7052 296 0 0 1.18596 1.18771 0.00175\n",
      "7052 7174 122 1 0.0066 1.18771 1.19431 0.0066\n",
      "7174 7663 489 0 0 1.19431 1.19185 -0.00246\n",
      "7663 8447 784 1 0.00643 1.19185 1.19828 0.00643\n",
      "8447 9207 760 0 0 1.19828 1.19956 0.00128\n",
      "9207 9277 70 1 0.00651 1.19956 1.20607 0.00651\n",
      "9277 9819 542 0 0 1.20607 1.20125 -0.00482\n",
      "9819 9995 176 -1 -0.00652 1.20125 1.19473 -0.00652\n",
      "9995 10708 713 0 0 1.19473 1.19594 0.00121\n",
      "10708 10982 274 -1 -0.00641 1.19594 1.18953 -0.00641\n",
      "10982 11046 64 0 0 1.18953 1.19356 0.00403\n",
      "11046 11990 944 -1 -0.00642 1.19356 1.18714 -0.00642\n",
      "11990 12251 261 0 0 1.18714 1.18915 0.00201\n",
      "12251 12403 152 -1 -0.00645 1.18915 1.1827 -0.00645\n",
      "12403 12464 61 0 0 1.1827 1.1841 0.0014\n",
      "12464 12623 159 1 0.00644 1.1841 1.19054 0.00644\n",
      "12623 13734 1111 0 0 1.19054 1.191 0.00046\n",
      "13734 13858 124 1 0.0064 1.191 1.1974 0.0064\n",
      "13858 13861 3 0 0 1.1974 1.19741 1.00000000001e-05\n",
      "13861 13874 13 -1 -0.00651 1.19741 1.1909 -0.00651\n",
      "13874 13892 18 0 0 1.1909 1.19155 0.00065\n",
      "13892 13948 56 -1 -0.00641 1.19155 1.18514 -0.00641\n",
      "14367 13133\n",
      "(14307, 61) (14307, 60)\n"
     ]
    },
    {
     "name": "stderr",
     "output_type": "stream",
     "text": [
      "/usr/local/lib/python2.7/dist-packages/numpy/core/numeric.py:301: FutureWarning: in the future, full(14306, 0) will return an array of dtype('int64')\n",
      "  format(shape, fill_value, array(fill_value).dtype), FutureWarning)\n",
      "/usr/local/lib/python2.7/dist-packages/numpy/core/numeric.py:301: FutureWarning: in the future, full(234, 1) will return an array of dtype('int64')\n",
      "  format(shape, fill_value, array(fill_value).dtype), FutureWarning)\n",
      "/usr/local/lib/python2.7/dist-packages/numpy/core/numeric.py:301: FutureWarning: in the future, full(709, 0) will return an array of dtype('int64')\n",
      "  format(shape, fill_value, array(fill_value).dtype), FutureWarning)\n",
      "/usr/local/lib/python2.7/dist-packages/numpy/core/numeric.py:301: FutureWarning: in the future, full(482, -1) will return an array of dtype('int64')\n",
      "  format(shape, fill_value, array(fill_value).dtype), FutureWarning)\n",
      "/usr/local/lib/python2.7/dist-packages/numpy/core/numeric.py:301: FutureWarning: in the future, full(1246, 0) will return an array of dtype('int64')\n",
      "  format(shape, fill_value, array(fill_value).dtype), FutureWarning)\n",
      "/usr/local/lib/python2.7/dist-packages/numpy/core/numeric.py:301: FutureWarning: in the future, full(403, 1) will return an array of dtype('int64')\n",
      "  format(shape, fill_value, array(fill_value).dtype), FutureWarning)\n",
      "/usr/local/lib/python2.7/dist-packages/numpy/core/numeric.py:301: FutureWarning: in the future, full(2864, 0) will return an array of dtype('int64')\n",
      "  format(shape, fill_value, array(fill_value).dtype), FutureWarning)\n",
      "/usr/local/lib/python2.7/dist-packages/numpy/core/numeric.py:301: FutureWarning: in the future, full(3, 1) will return an array of dtype('int64')\n",
      "  format(shape, fill_value, array(fill_value).dtype), FutureWarning)\n",
      "/usr/local/lib/python2.7/dist-packages/numpy/core/numeric.py:301: FutureWarning: in the future, full(296, 0) will return an array of dtype('int64')\n",
      "  format(shape, fill_value, array(fill_value).dtype), FutureWarning)\n",
      "/usr/local/lib/python2.7/dist-packages/numpy/core/numeric.py:301: FutureWarning: in the future, full(122, 1) will return an array of dtype('int64')\n",
      "  format(shape, fill_value, array(fill_value).dtype), FutureWarning)\n",
      "/usr/local/lib/python2.7/dist-packages/numpy/core/numeric.py:301: FutureWarning: in the future, full(489, 0) will return an array of dtype('int64')\n",
      "  format(shape, fill_value, array(fill_value).dtype), FutureWarning)\n",
      "/usr/local/lib/python2.7/dist-packages/numpy/core/numeric.py:301: FutureWarning: in the future, full(784, 1) will return an array of dtype('int64')\n",
      "  format(shape, fill_value, array(fill_value).dtype), FutureWarning)\n",
      "/usr/local/lib/python2.7/dist-packages/numpy/core/numeric.py:301: FutureWarning: in the future, full(760, 0) will return an array of dtype('int64')\n",
      "  format(shape, fill_value, array(fill_value).dtype), FutureWarning)\n",
      "/usr/local/lib/python2.7/dist-packages/numpy/core/numeric.py:301: FutureWarning: in the future, full(70, 1) will return an array of dtype('int64')\n",
      "  format(shape, fill_value, array(fill_value).dtype), FutureWarning)\n",
      "/usr/local/lib/python2.7/dist-packages/numpy/core/numeric.py:301: FutureWarning: in the future, full(542, 0) will return an array of dtype('int64')\n",
      "  format(shape, fill_value, array(fill_value).dtype), FutureWarning)\n",
      "/usr/local/lib/python2.7/dist-packages/numpy/core/numeric.py:301: FutureWarning: in the future, full(176, -1) will return an array of dtype('int64')\n",
      "  format(shape, fill_value, array(fill_value).dtype), FutureWarning)\n",
      "/usr/local/lib/python2.7/dist-packages/numpy/core/numeric.py:301: FutureWarning: in the future, full(713, 0) will return an array of dtype('int64')\n",
      "  format(shape, fill_value, array(fill_value).dtype), FutureWarning)\n",
      "/usr/local/lib/python2.7/dist-packages/numpy/core/numeric.py:301: FutureWarning: in the future, full(274, -1) will return an array of dtype('int64')\n",
      "  format(shape, fill_value, array(fill_value).dtype), FutureWarning)\n",
      "/usr/local/lib/python2.7/dist-packages/numpy/core/numeric.py:301: FutureWarning: in the future, full(64, 0) will return an array of dtype('int64')\n",
      "  format(shape, fill_value, array(fill_value).dtype), FutureWarning)\n",
      "/usr/local/lib/python2.7/dist-packages/numpy/core/numeric.py:301: FutureWarning: in the future, full(944, -1) will return an array of dtype('int64')\n",
      "  format(shape, fill_value, array(fill_value).dtype), FutureWarning)\n",
      "/usr/local/lib/python2.7/dist-packages/numpy/core/numeric.py:301: FutureWarning: in the future, full(261, 0) will return an array of dtype('int64')\n",
      "  format(shape, fill_value, array(fill_value).dtype), FutureWarning)\n",
      "/usr/local/lib/python2.7/dist-packages/numpy/core/numeric.py:301: FutureWarning: in the future, full(152, -1) will return an array of dtype('int64')\n",
      "  format(shape, fill_value, array(fill_value).dtype), FutureWarning)\n",
      "/usr/local/lib/python2.7/dist-packages/numpy/core/numeric.py:301: FutureWarning: in the future, full(61, 0) will return an array of dtype('int64')\n",
      "  format(shape, fill_value, array(fill_value).dtype), FutureWarning)\n",
      "/usr/local/lib/python2.7/dist-packages/numpy/core/numeric.py:301: FutureWarning: in the future, full(159, 1) will return an array of dtype('int64')\n",
      "  format(shape, fill_value, array(fill_value).dtype), FutureWarning)\n",
      "/usr/local/lib/python2.7/dist-packages/numpy/core/numeric.py:301: FutureWarning: in the future, full(1111, 0) will return an array of dtype('int64')\n",
      "  format(shape, fill_value, array(fill_value).dtype), FutureWarning)\n",
      "/usr/local/lib/python2.7/dist-packages/numpy/core/numeric.py:301: FutureWarning: in the future, full(124, 1) will return an array of dtype('int64')\n",
      "  format(shape, fill_value, array(fill_value).dtype), FutureWarning)\n",
      "/usr/local/lib/python2.7/dist-packages/numpy/core/numeric.py:301: FutureWarning: in the future, full(3, 0) will return an array of dtype('int64')\n",
      "  format(shape, fill_value, array(fill_value).dtype), FutureWarning)\n",
      "/usr/local/lib/python2.7/dist-packages/numpy/core/numeric.py:301: FutureWarning: in the future, full(13, -1) will return an array of dtype('int64')\n",
      "  format(shape, fill_value, array(fill_value).dtype), FutureWarning)\n",
      "/usr/local/lib/python2.7/dist-packages/numpy/core/numeric.py:301: FutureWarning: in the future, full(18, 0) will return an array of dtype('int64')\n",
      "  format(shape, fill_value, array(fill_value).dtype), FutureWarning)\n",
      "/usr/local/lib/python2.7/dist-packages/numpy/core/numeric.py:301: FutureWarning: in the future, full(56, -1) will return an array of dtype('int64')\n",
      "  format(shape, fill_value, array(fill_value).dtype), FutureWarning)\n",
      "/usr/local/lib/python2.7/dist-packages/numpy/core/numeric.py:301: FutureWarning: in the future, full((14307, 60), 0) will return an array of dtype('int64')\n",
      "  format(shape, fill_value, array(fill_value).dtype), FutureWarning)\n"
     ]
    }
   ],
   "source": [
    "n_classes  = 2\n",
    "\n",
    "step = 61\n",
    "\n",
    "timesteps = 10\n",
    "num_input = 6\n",
    "\n",
    "#step - 1 == num_input * timesteps\n",
    "\n",
    "hm_epochs  = 1000\n",
    "num_hidden = 16\n",
    "batch_size = 100\n",
    "t_count = 1024\n",
    "\n",
    "\n",
    "##########################################################################\n",
    "\n",
    "source = pd.read_csv('EURUSD1.csv', header=0) # source CSV\n",
    "prices = np.array(source.Close) # close prices\n",
    "\n",
    "#Z = ZigZag(P, 0.0064) # build ZigZag\n",
    "\n",
    "T, S = BuildTrainSetForMLUsingReturns(prices, 0.0064, 60)\n",
    "\n",
    "\n",
    "#T, _ = BuildData0(Z, P) # prepare training set\n",
    "\n",
    "#plt.plot(T[\"input\"])\n",
    "\n",
    "\n",
    "#dims = T[\"input\"].shape\n",
    "\n",
    "#print dims\n",
    "\n",
    "#D = S[\"data\"]\n",
    "#L = []\n",
    "\n",
    "#for i in S[\"label\"]:\n",
    "#    if i == 1:\n",
    "#        L.append([0, 1])\n",
    "#    elif i == -1:\n",
    "#        L.append([1, 0])\n",
    "\n",
    "#L = np.array(L)\n",
    "        \n",
    "##print D.shape\n",
    "##print L.shape\n",
    "\n",
    "#x_train = tf.placeholder('float', [None, timesteps, num_input], name='x')\n",
    "#y_train = tf.placeholder('float', [None, n_classes], name='y')\n",
    "\n",
    "#train_and_save_nn(x_train, y_train)"
   ]
  },
  {
   "cell_type": "code",
   "execution_count": null,
   "metadata": {
    "collapsed": true
   },
   "outputs": [],
   "source": [
    "x_test = D[len(D)-t_count:]\n",
    "y_test = L[len(L)-t_count:]\n",
    "\n",
    "test_nn(x_test, y_test)"
   ]
  },
  {
   "cell_type": "code",
   "execution_count": 3,
   "metadata": {
    "collapsed": false
   },
   "outputs": [
    {
     "data": {
      "text/plain": [
       "array([[0, 1, 2, 3],\n",
       "       [1, 2, 3, 4],\n",
       "       [2, 3, 4, 5],\n",
       "       [3, 4, 5, 6]])"
      ]
     },
     "execution_count": 3,
     "metadata": {},
     "output_type": "execute_result"
    }
   ],
   "source": [
    "from scipy.linalg import hankel\n",
    "L = [0, 1, 2, 3, 4, 5, 6]\n",
    "hankel(L[0:4], L[3:])"
   ]
  },
  {
   "cell_type": "code",
   "execution_count": null,
   "metadata": {
    "collapsed": true
   },
   "outputs": [],
   "source": []
  }
 ],
 "metadata": {
  "kernelspec": {
   "display_name": "Python 2",
   "language": "python",
   "name": "python2"
  },
  "language_info": {
   "codemirror_mode": {
    "name": "ipython",
    "version": 2
   },
   "file_extension": ".py",
   "mimetype": "text/x-python",
   "name": "python",
   "nbconvert_exporter": "python",
   "pygments_lexer": "ipython2",
   "version": "2.7.12"
  }
 },
 "nbformat": 4,
 "nbformat_minor": 2
}
