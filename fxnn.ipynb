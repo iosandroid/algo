{
 "cells": [
  {
   "cell_type": "code",
   "execution_count": 10,
   "metadata": {
    "collapsed": false,
    "deletable": true,
    "editable": true
   },
   "outputs": [],
   "source": [
    "import os\n",
    "import math\n",
    "import numpy as np\n",
    "import pandas as pd\n",
    "import tensorflow as tf\n",
    "import matplotlib.pyplot as plt\n",
    "\n",
    "from util.ZigZag import ZigZag\n",
    "from util.BuildData import BuildData3\n",
    "from util.CalcReturns import CalcReturns\n",
    "\n",
    "from sklearn import svm, preprocessing"
   ]
  },
  {
   "cell_type": "code",
   "execution_count": 11,
   "metadata": {
    "collapsed": false,
    "deletable": true,
    "editable": true
   },
   "outputs": [],
   "source": [
    "df = pd.read_csv('EURUSD1.csv', header=0)\n",
    "train = np.array(df.Close)"
   ]
  },
  {
   "cell_type": "code",
   "execution_count": 12,
   "metadata": {
    "collapsed": false,
    "deletable": true,
    "editable": true
   },
   "outputs": [
    {
     "name": "stdout",
     "output_type": "stream",
     "text": [
      "(1060, 120)\n",
      "(1060, 3)\n"
     ]
    }
   ],
   "source": [
    "Z = ZigZag(train, 0.0004)\n",
    "returns = CalcReturns(train)\n",
    "\n",
    "D, L = BuildData3(Z, returns, 121)\n",
    "t_count = 1024\n",
    "\n",
    "dims = D.shape[1]\n",
    "print D.shape\n",
    "print L.shape"
   ]
  },
  {
   "cell_type": "code",
   "execution_count": 13,
   "metadata": {
    "collapsed": false,
    "deletable": true,
    "editable": true
   },
   "outputs": [],
   "source": [
    "def neural_network_model(x):\n",
    "\n",
    "    hl1 = {'w' : tf.Variable(tf.random_normal([dims, n_nodes_hl1])),\n",
    "           'b' : tf.Variable(tf.random_normal([n_nodes_hl1]))}\n",
    "\n",
    "    hl2 = {'w' : tf.Variable(tf.random_normal([n_nodes_hl1, n_nodes_hl2])),\n",
    "           'b' : tf.Variable(tf.random_normal([n_nodes_hl2]))}\n",
    "\n",
    "    hl3 = {'w' : tf.Variable(tf.random_normal([n_nodes_hl2, n_nodes_hl3])),\n",
    "           'b' : tf.Variable(tf.random_normal([n_nodes_hl3]))}\n",
    "    \n",
    "    hl4 = {'w' : tf.Variable(tf.random_normal([n_nodes_hl3, n_nodes_hl4])),\n",
    "           'b' : tf.Variable(tf.random_normal([n_nodes_hl4]))}\n",
    "\n",
    "    out = {'w' : tf.Variable(tf.random_normal([n_nodes_hl4, n_classes])),\n",
    "           'b' : tf.Variable(tf.random_normal([n_classes]))}\n",
    "\n",
    "    l1 = tf.matmul(x, hl1['w']) + hl1['b']\n",
    "    l1 = tf.nn.relu(l1)\n",
    "\n",
    "    l2 = tf.matmul(l1, hl2['w']) + hl2['b']\n",
    "    l2 = tf.nn.relu(l2)\n",
    "\n",
    "    l3 = tf.matmul(l2, hl3['w']) + hl3['b']\n",
    "    l3 = tf.nn.relu(l3)\n",
    "    \n",
    "    l4 = tf.matmul(l3, hl4['w']) + hl4['b']\n",
    "    l4 = tf.tanh(l4)\n",
    "\n",
    "    y = tf.matmul(l1, out['w']) + out['b']\n",
    "    return y"
   ]
  },
  {
   "cell_type": "code",
   "execution_count": 14,
   "metadata": {
    "collapsed": false,
    "deletable": true,
    "editable": true
   },
   "outputs": [],
   "source": [
    "batch_size = 100\n",
    "\n",
    "def train_neural_network(x,y):\n",
    "    nn = neural_network_model(x)\n",
    "    \n",
    "    cost = tf.reduce_mean(tf.nn.softmax_cross_entropy_with_logits(logits = nn, labels = y))\n",
    "    optimizer = tf.train.AdamOptimizer(0.6).minimize(cost)   \n",
    "    \n",
    "    correct = tf.equal(tf.argmax(nn,1), tf.argmax(y_train, 1))\n",
    "    accuracy = tf.reduce_mean(tf.cast(correct, 'float'))\n",
    "    \n",
    "    saver = tf.train.Saver()\n",
    "    \n",
    "    with tf.Session() as session:\n",
    "        session.run(tf.initialize_all_variables())\n",
    "\n",
    "        epoch_loss = 0\n",
    "        for epoch in range(hm_epochs):\n",
    "            epoch_loss = 0\n",
    "            for i in range(int((len(D) - t_count)/batch_size)):\n",
    "                \n",
    "                epoch_x = D[i*batch_size : (i+1)*batch_size]\n",
    "                epoch_y = L[i*batch_size : (i+1)*batch_size]\n",
    "                \n",
    "                _, c = session.run([optimizer, cost], feed_dict = {x: epoch_x, y: epoch_y})\n",
    "                epoch_loss += c\n",
    "                \n",
    "            if epoch % 100 == 0:\n",
    "                print('Epoch', epoch, 'completed out of', hm_epochs, 'loss', epoch_loss)\n",
    "                \n",
    "        saver.save(session, 'data/fxnn.ckpt')\n",
    "        \n",
    "        print('Last epoch loss: ', epoch_loss)\n",
    "        return nn, correct, accuracy\n",
    "        "
   ]
  },
  {
   "cell_type": "code",
   "execution_count": 15,
   "metadata": {
    "collapsed": true,
    "deletable": true,
    "editable": true
   },
   "outputs": [],
   "source": [
    "def test_neural_network(x_test, y_test, nn, correct, accuracy):\n",
    "    saver = tf.train.Saver()\n",
    "    with tf.Session() as session:\n",
    "        saver.restore(session, 'data/fxnn.ckpt')\n",
    "        r = tf.cast(correct, 'float').eval({x_train:x_test, y_train:y_test})\n",
    "        \n",
    "        test_buy  = 0.0\n",
    "        test_sell = 0.0\n",
    "        test_hold = 0.0\n",
    "\n",
    "        correct_buy  = 0.0\n",
    "        correct_sell = 0.0\n",
    "        correct_hold = 0.0\n",
    "\n",
    "        incorrect_buy  = 0.0\n",
    "        incorrect_sell = 0.0\n",
    "        incorrect_hold = 0.0\n",
    "        \n",
    "        for i in range(len(r)):\n",
    "            if L[i][2] == 1:\n",
    "                test_buy += 1.0;\n",
    "            elif L[i][1] == 1:\n",
    "                test_hold += 1.0;\n",
    "            elif L[i][0] == 1:\n",
    "                test_sell += 1.0;\n",
    "                \n",
    "            if r[i] == 1:\n",
    "                if L[i][2] == 1:\n",
    "                    correct_buy += 1.0;\n",
    "                elif L[i][1] == 1:\n",
    "                    correct_hold += 1.0;\n",
    "                elif L[i][0] == 1:\n",
    "                    correct_sell += 1.0;\n",
    "            else:\n",
    "                if L[i][2] == 1:\n",
    "                    incorrect_buy += 1.0;\n",
    "                elif L[i][1] == 1:\n",
    "                    incorrect_hold += 1.0;\n",
    "                elif L[i][0] == 1:\n",
    "                    incorrect_sell += 1.0;\n",
    "        \n",
    "        print('Accuracy:',accuracy.eval({x_train:x_test, y_train:y_test}))\n",
    "        \n",
    "        print( \"Test buy:  \", test_buy  )\n",
    "        print( \"Test sell: \", test_sell )\n",
    "        print( \"Test hold: \", test_hold )\n",
    "\n",
    "        print( \"Correct buy:  \", correct_buy,  \"Incorrect buy:  \", incorrect_buy,  \"Accuracy: \", (correct_buy/test_buy)*100 )\n",
    "        print( \"Correct sell: \", correct_sell, \"Incorrect sell: \", incorrect_sell, \"Accuracy: \", (correct_sell/test_sell)*100 )\n",
    "        print( \"Correct hold: \", correct_hold, \"Incorrect hold: \", incorrect_hold, \"Accuracy: \", (correct_hold/test_hold)*100 )\n",
    "        \n",
    "            "
   ]
  },
  {
   "cell_type": "code",
   "execution_count": 16,
   "metadata": {
    "collapsed": false,
    "deletable": true,
    "editable": true
   },
   "outputs": [
    {
     "name": "stdout",
     "output_type": "stream",
     "text": [
      "WARNING:tensorflow:From <ipython-input-14-22714704e015>:15: initialize_all_variables (from tensorflow.python.ops.variables) is deprecated and will be removed after 2017-03-02.\n",
      "Instructions for updating:\n",
      "Use `tf.global_variables_initializer` instead.\n",
      "('Epoch', 0, 'completed out of', 1000, 'loss', 0)\n",
      "('Epoch', 100, 'completed out of', 1000, 'loss', 0)\n",
      "('Epoch', 200, 'completed out of', 1000, 'loss', 0)\n",
      "('Epoch', 300, 'completed out of', 1000, 'loss', 0)\n",
      "('Epoch', 400, 'completed out of', 1000, 'loss', 0)\n",
      "('Epoch', 500, 'completed out of', 1000, 'loss', 0)\n",
      "('Epoch', 600, 'completed out of', 1000, 'loss', 0)\n",
      "('Epoch', 700, 'completed out of', 1000, 'loss', 0)\n",
      "('Epoch', 800, 'completed out of', 1000, 'loss', 0)\n",
      "('Epoch', 900, 'completed out of', 1000, 'loss', 0)\n",
      "('Last epoch loss: ', 0)\n"
     ]
    }
   ],
   "source": [
    "n_nodes_hl1 = 1000\n",
    "n_nodes_hl2 = 1000\n",
    "n_nodes_hl3 = 1000\n",
    "n_nodes_hl4 = 1000\n",
    "\n",
    "n_classes = 3\n",
    "hm_epochs = 1000\n",
    "\n",
    "x_train = tf.placeholder('float', [None, 120])\n",
    "y_train = tf.placeholder('float')\n",
    "\n",
    "nn, correct, accuracy = train_neural_network(x_train, y_train)"
   ]
  },
  {
   "cell_type": "code",
   "execution_count": 17,
   "metadata": {
    "collapsed": false,
    "deletable": true,
    "editable": true
   },
   "outputs": [
    {
     "name": "stdout",
     "output_type": "stream",
     "text": [
      "('Accuracy:', 0.34277344)\n",
      "('Test buy:  ', 342.0)\n",
      "('Test sell: ', 339.0)\n",
      "('Test hold: ', 343.0)\n",
      "('Correct buy:  ', 108.0, 'Incorrect buy:  ', 234.0, 'Accuracy: ', 31.57894736842105)\n",
      "('Correct sell: ', 133.0, 'Incorrect sell: ', 206.0, 'Accuracy: ', 39.233038348082594)\n",
      "('Correct hold: ', 110.0, 'Incorrect hold: ', 233.0, 'Accuracy: ', 32.06997084548105)\n"
     ]
    }
   ],
   "source": [
    "x_test = D[len(D)-t_count:]\n",
    "y_test = L[len(L)-t_count:]\n",
    "\n",
    "test_neural_network(x_test, y_test, nn, correct, accuracy)"
   ]
  },
  {
   "cell_type": "code",
   "execution_count": 12,
   "metadata": {
    "collapsed": false,
    "deletable": true,
    "editable": true
   },
   "outputs": [],
   "source": [
    "from tensorflow.contrib.tensorboard.plugins import projector\n",
    "\n",
    "LOG_DIR = 'data/logs'\n",
    "metadata_path = os.path.join(LOG_DIR, 'metadata.tsv')\n",
    "\n",
    "data = tf.Variable(D, name='fxnn')\n",
    "\n",
    "with open(metadata_path, 'w') as metadata_file:\n",
    "    for label in L:\n",
    "        if label[0] == 1:\n",
    "            metadata_file.write('-1\\n')\n",
    "        elif label[1] == 1:\n",
    "            metadata_file.write('0\\n')\n",
    "        elif label[2] == 1:\n",
    "            metadata_file.write('1\\n')\n",
    "\n",
    "with tf.Session() as sess:\n",
    "    saver = tf.train.Saver([data])\n",
    "\n",
    "    sess.run(data.initializer)\n",
    "    saver.save(sess, os.path.join(LOG_DIR, 'fxnn.ckpt'))\n",
    "    \n",
    "    config = projector.ProjectorConfig()\n",
    "    \n",
    "    # One can add multiple embeddings.\n",
    "    embedding = config.embeddings.add()\n",
    "    embedding.tensor_name = data.name\n",
    "    \n",
    "    # Link this tensor to its metadata file (e.g. labels).\n",
    "    embedding.metadata_path = 'logs/metadata.tsv'\n",
    "    \n",
    "    # Saves a config file that TensorBoard will read during startup.\n",
    "    projector.visualize_embeddings(tf.summary.FileWriter(LOG_DIR), config)"
   ]
  }
 ],
 "metadata": {
  "kernelspec": {
   "display_name": "Python 2",
   "language": "python",
   "name": "python2"
  },
  "language_info": {
   "codemirror_mode": {
    "name": "ipython",
    "version": 2
   },
   "file_extension": ".py",
   "mimetype": "text/x-python",
   "name": "python",
   "nbconvert_exporter": "python",
   "pygments_lexer": "ipython2",
   "version": "2.7.12"
  }
 },
 "nbformat": 4,
 "nbformat_minor": 0
}
