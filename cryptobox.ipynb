{
 "cells": [
  {
   "cell_type": "code",
   "execution_count": 1,
   "metadata": {
    "collapsed": false
   },
   "outputs": [],
   "source": [
    "import os\n",
    "import math\n",
    "import numpy as np\n",
    "import pandas as pd\n",
    "import tensorflow as tf\n",
    "import matplotlib.pyplot as plt\n",
    "\n",
    "from numpy.linalg import eig\n",
    "\n",
    "from util.ZigZag0 import ZigZag\n",
    "from util.calc_returns import DifRet, iDifRet\n",
    "\n",
    "from matplotlib.animation import FuncAnimation\n",
    "\n",
    "from sklearn.cluster import KMeans\n",
    "from sklearn.decomposition import PCA\n",
    "from sklearn.preprocessing import MinMaxScaler"
   ]
  },
  {
   "cell_type": "code",
   "execution_count": 2,
   "metadata": {
    "collapsed": false
   },
   "outputs": [],
   "source": [
    "#eth = np.array(pd.read_csv('fxclub_ETHUSD1.csv', header=0).Close)\n",
    "#btc = np.array(pd.read_csv('fxclub_BTCUSD1.csv', header=0).Close)\n",
    "#dsh = np.array(pd.read_csv('fxclub_DSHUSD1.csv', header=0).Close)\n",
    "\n",
    "#eth = np.array(pd.read_csv('fxopen_ETHUSD1.csv', header=0).Close)\n",
    "#btc = np.array(pd.read_csv('fxopen_BTCUSD1.csv', header=0).Close)\n",
    "#mbt = np.array(pd.read_csv('fxopen_MBTUSD1.csv', header=0).Close)\n",
    "#eur = np.array(pd.read_csv('fxopen_EURUSD1.csv', header=0).Close)\n",
    "#gbp = np.array(pd.read_csv('fxopen_GBPUSD1.csv', header=0).Close)\n",
    "#rub = np.array(pd.read_csv('fxopen_USDRUB1.csv', header=0).Close)\n",
    "\n",
    "#btc = np.array(pd.read_csv('gdax_BTCUSD1.csv', header=0).Close)\n",
    "#eth = np.array(pd.read_csv('gdax_ETHUSD1.csv', header=0).Close)\n",
    "#bch = np.array(pd.read_csv('gdax_BCHUSD1.csv', header=0).Close)\n",
    "#ltc = np.array(pd.read_csv('gdax_LTCUSD1.csv', header=0).Close)\n",
    "\n",
    "bch = np.array(pd.read_csv('bitfinex_BCHUSD1.csv', header=0).Close)\n",
    "btc = np.array(pd.read_csv('bitfinex_BTCUSD1.csv', header=0).Close)\n",
    "dsh = np.array(pd.read_csv('bitfinex_DSHUSD1.csv', header=0).Close)\n",
    "eos = np.array(pd.read_csv('bitfinex_EOSUSD1.csv', header=0).Close)\n",
    "etc = np.array(pd.read_csv('bitfinex_ETCUSD1.csv', header=0).Close)\n",
    "eth = np.array(pd.read_csv('bitfinex_ETHUSD1.csv', header=0).Close)\n",
    "ltc = np.array(pd.read_csv('bitfinex_LTCUSD1.csv', header=0).Close)\n",
    "neo = np.array(pd.read_csv('bitfinex_NEOUSD1.csv', header=0).Close)\n",
    "xmr = np.array(pd.read_csv('bitfinex_XMRUSD1.csv', header=0).Close)\n",
    "xrp = np.array(pd.read_csv('bitfinex_XRPUSD1.csv', header=0).Close)\n",
    "\n",
    "\n",
    "#coin = np.row_stack((bch, btc, dsh, eos, etc, eth, ltc, neo, xmr, xrp))\n",
    "#text = ['bch', 'btc', 'dsh', 'eos', 'etc', 'eth', 'ltc', 'neo', 'xmr', 'xrp']\n",
    "\n",
    "coin = np.row_stack((btc, dsh, eth))\n",
    "text = ['btc', 'dsh', 'eth']"
   ]
  },
  {
   "cell_type": "code",
   "execution_count": 3,
   "metadata": {
    "collapsed": false
   },
   "outputs": [],
   "source": [
    "def SSA(S):\n",
    "    R = DifRet(S)\n",
    "    cov_matrix = np.dot(R.T, R)\n",
    "    w, v = eig(cov_matrix)\n",
    "    \n",
    "    R0 = np.matmul(v, R.T)\n",
    "    S0 = np.matmul(v, X[0].T)\n",
    "    \n",
    "    F = iDifRet(S0, R0.T)    \n",
    "    return v, F\n",
    "\n",
    "def plot_SSA(S, F, t):\n",
    "    \n",
    "    R = DifRet(S.T)\n",
    "    \n",
    "    n = len(F[0,:])\n",
    "    for i in range(n):\n",
    "        for j in range(i):\n",
    "            if i != j:\n",
    "                fig = plt.figure()\n",
    "                \n",
    "                ax = plt.subplot(3,1,1)\n",
    "                ax.plot(S[i], label = t[i])\n",
    "                ax.legend()\n",
    "                \n",
    "                ax = plt.subplot(3,1,2)\n",
    "                ax.plot(S[j], label = t[j])\n",
    "                ax.legend()\n",
    "                \n",
    "                ax = plt.subplot(3,1,3)\n",
    "                ax.scatter(R.T[i], R.T[j])                \n",
    "                ax.legend()\n",
    "                \n",
    "                plt.show()\n",
    "    \n",
    "    fig = plt.figure()\n",
    "    for i in range(n):    \n",
    "        ax = plt.subplot(n,1,i+1)\n",
    "        ax.plot(F.T[i], label = 'F[' + str(i) + ']')\n",
    "        ax.legend()\n",
    "        \n",
    "    plt.show()"
   ]
  },
  {
   "cell_type": "code",
   "execution_count": 4,
   "metadata": {
    "collapsed": false
   },
   "outputs": [
    {
     "name": "stdout",
     "output_type": "stream",
     "text": [
      "Using matplotlib backend: TkAgg\n",
      "[[-0.55745494 -0.74889142 -0.35833732]\n",
      " [-0.7986991   0.60155168 -0.0146737 ]\n",
      " [-0.22654743 -0.27802377  0.93347686]]\n"
     ]
    }
   ],
   "source": [
    "%matplotlib\n",
    "X = coin.T\n",
    "\n",
    "v, S = SSA(X)\n",
    "print v\n",
    "\n",
    "plot_SSA(X.T, S, text)\n"
   ]
  },
  {
   "cell_type": "code",
   "execution_count": 16,
   "metadata": {
    "collapsed": false
   },
   "outputs": [
    {
     "name": "stdout",
     "output_type": "stream",
     "text": [
      "Using matplotlib backend: TkAgg\n",
      "[[  9352.7     577.5     826.51]\n",
      " [  9353.2     578.6     826.8 ]\n",
      " [  9334.      578.6     826.5 ]\n",
      " ..., \n",
      " [ 10554.      553.97    790.74]\n",
      " [ 10559.      553.97    790.67]\n",
      " [ 10565.      553.9     790.67]]\n"
     ]
    },
    {
     "data": {
      "text/plain": [
       "[<matplotlib.lines.Line2D at 0x7f04dfa33ed0>]"
      ]
     },
     "execution_count": 16,
     "metadata": {},
     "output_type": "execute_result"
    }
   ],
   "source": [
    "%matplotlib\n",
    "\n",
    "T = iDifRet(coin.T[0], X)\n",
    "\n",
    "print X\n",
    "\n",
    "plt.plot(X[:,2])\n",
    "\n",
    "#plt.plot(S[1])\n",
    "\n",
    "#v1 = np.array([0.08, -0.7, -0.7])\n",
    "#s1 = np.matmul(X, v1.T)\n",
    "\n",
    "#plt.figure()\n",
    "#ax = plt.subplot(1,1,1)\n",
    "#ax.plot(S[1], label = 'S[1]')\n",
    "#ax.plot(s1, label = 's1')\n",
    "#ax.legend()\n"
   ]
  },
  {
   "cell_type": "code",
   "execution_count": 12,
   "metadata": {
    "collapsed": false
   },
   "outputs": [
    {
     "data": {
      "text/plain": [
       "array([ 0.0841051 , -0.68946819, -0.71941639])"
      ]
     },
     "execution_count": 12,
     "metadata": {},
     "output_type": "execute_result"
    }
   ],
   "source": [
    "p = [11074.0, 858.120, 619.600]\n",
    "s = v[1]\n",
    "\n",
    "e = np.dot(p,s)\n",
    "\n",
    "v[1]\n",
    "\n",
    "\n",
    "\n",
    "# 'btc'  'eth'    'dsh'    'iot'  'ltc'  'xpr'\n",
    "# 62.77  -705.12  -706.28  4.88   1.30    0.57\n",
    "\n",
    "# 'btc'       'eth'        'dsh'    \n",
    "# 8410        -68946       -71941\n"
   ]
  },
  {
   "cell_type": "code",
   "execution_count": 21,
   "metadata": {
    "collapsed": false
   },
   "outputs": [
    {
     "name": "stdout",
     "output_type": "stream",
     "text": [
      "Using matplotlib backend: TkAgg\n"
     ]
    },
    {
     "data": {
      "text/plain": [
       "<matplotlib.legend.Legend at 0x7f3ee2b6aad0>"
      ]
     },
     "execution_count": 21,
     "metadata": {},
     "output_type": "execute_result"
    }
   ],
   "source": [
    "%matplotlib\n",
    "\n",
    "gdax   = np.array(pd.read_csv('gdax__BTCUSD1.csv', header=0).Close)\n",
    "fxopen = np.array(pd.read_csv('fxopen__BTCUSD1.csv', header=0).Close)\n",
    "fxclub = np.array(pd.read_csv('fxclub__BTCUSD1.csv', header=0).Close)\n",
    "bitfinex = np.array(pd.read_csv('bitfinex__BTCUSD1.csv', header=0).Close)\n",
    "\n",
    "plt.plot(gdax[1:10000], label='gdax (BTCUSD 1 min)')\n",
    "plt.plot(fxopen[1:10000], label='fxopen (BTCUSD 1 min)')\n",
    "plt.plot(fxclub[1:10000], label='fxclub (BTCUSD 1 min)')\n",
    "plt.plot(bitfinex[1:10000], label='bitfinex (BTCUSD 1 min)')\n",
    "plt.legend()\n",
    "\n",
    "#w = np.array([0.08, -0.7, 0.7])\n",
    "#e = np.dot(X,w.T)\n",
    "\n",
    "#plt.plot(e, label='e')\n",
    "#plt.plot(S[1], label='S[1]')\n",
    "#plt.legend()\n"
   ]
  },
  {
   "cell_type": "code",
   "execution_count": 5,
   "metadata": {
    "collapsed": true
   },
   "outputs": [],
   "source": [
    "#T=coin\n",
    "#xT=(9200, 10200)\n",
    "#yT=(800, 850)\n",
    "\n",
    "#fig, ax0 = plt.subplots(nrows=1, ncols=1)\n",
    "#ax0.set(xlim=xT, ylim=yT)\n",
    "\n",
    "#def animate(i):\n",
    "#    ax0.scatter(T[0][i], T[1][i], marker='.')\n",
    "    \n",
    "#anim = FuncAnimation(fig, animate, interval=1, frames=len(T[0])-1)\n",
    "#plt.draw()\n",
    "#plt.show()"
   ]
  },
  {
   "cell_type": "code",
   "execution_count": null,
   "metadata": {
    "collapsed": true
   },
   "outputs": [],
   "source": [
    "#%matplotlib\n",
    "\n",
    "#L = 1024\n",
    "#X = coin.T\n",
    "\n",
    "#S = []\n",
    "#for i in range(0, len(X.T[0]) - L):\n",
    "#    v, _, _ = SSA(X[i:L+i])\n",
    "#    S.append(v[1])\n",
    "    \n",
    "#S = np.array(S)\n",
    "#S = S.T\n",
    "\n",
    "##plt.scatter(S.T[0], S.T[1])\n",
    "\n",
    "##T=S\n",
    "##xT=(-0.15, 0.1)\n",
    "##yT=(-1.5, 1.5)\n",
    "\n",
    "##fig, ax0 = plt.subplots(nrows=1, ncols=1)\n",
    "##ax0.set(xlim=xT, ylim=yT)\n",
    "\n",
    "##def animate(i):\n",
    "##    ax0.scatter(T[0][i], T[1][i], marker='.')\n",
    "    \n",
    "##anim = FuncAnimation(fig, animate, interval=1, frames=len(T[0])-1)\n",
    "##plt.draw()\n",
    "##plt.show()\n",
    "\n",
    "#plt.figure()\n",
    "\n",
    "#plt.subplot(2,1,1)\n",
    "#plt.plot(S[0])\n",
    "\n",
    "#plt.subplot(2,1,2)\n",
    "#plt.plot(X.T[0][L+1:-1])\n",
    "\n",
    "##plt.subplot(4,1,3)\n",
    "##plt.plot(X.T[1][1025:2948])\n",
    "\n",
    "##plt.subplot(4,1,4)\n",
    "##plt.plot(S[1])\n"
   ]
  }
 ],
 "metadata": {
  "kernelspec": {
   "display_name": "Python 2",
   "language": "python",
   "name": "python2"
  },
  "language_info": {
   "codemirror_mode": {
    "name": "ipython",
    "version": 2
   },
   "file_extension": ".py",
   "mimetype": "text/x-python",
   "name": "python",
   "nbconvert_exporter": "python",
   "pygments_lexer": "ipython2",
   "version": "2.7.12"
  }
 },
 "nbformat": 4,
 "nbformat_minor": 2
}
