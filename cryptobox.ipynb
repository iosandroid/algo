{
 "cells": [
  {
   "cell_type": "code",
   "execution_count": 1,
   "metadata": {
    "collapsed": false
   },
   "outputs": [],
   "source": [
    "import os\n",
    "import math\n",
    "import numpy as np\n",
    "import pandas as pd\n",
    "import tensorflow as tf\n",
    "import matplotlib.pyplot as plt\n",
    "\n",
    "from numpy.linalg import eig\n",
    "\n",
    "from util.ZigZag0 import ZigZag\n",
    "from util.CalcReturns import CalcReturns\n",
    "\n",
    "from matplotlib.animation import FuncAnimation\n",
    "\n",
    "from sklearn.cluster import KMeans\n",
    "from sklearn.decomposition import PCA\n",
    "from sklearn.preprocessing import MinMaxScaler"
   ]
  },
  {
   "cell_type": "code",
   "execution_count": 2,
   "metadata": {
    "collapsed": false
   },
   "outputs": [],
   "source": [
    "eth = np.array(pd.read_csv('ETHUSD1.csv', header=0).Close)\n",
    "btc = np.array(pd.read_csv('BTCUSD1.csv', header=0).Close)\n",
    "\n",
    "coin = np.row_stack((btc, eth))\n",
    "\n"
   ]
  },
  {
   "cell_type": "code",
   "execution_count": 18,
   "metadata": {
    "collapsed": false
   },
   "outputs": [],
   "source": [
    "#%matplotlib\n",
    "#anim_syn_and_scatter(s=syn240, T=coir240_, xs=(0, 250), ys=(-3000, 3000), xT=(100, 22000), yT=(0, 1600))\n",
    "\n",
    "T=coin\n",
    "xT=(9200, 10200)\n",
    "yT=(800, 850)\n",
    "\n",
    "fig, ax0 = plt.subplots(nrows=1, ncols=1)\n",
    "ax0.set(xlim=xT, ylim=yT)\n",
    "\n",
    "def animate(i):\n",
    "    ax0.scatter(T[0][i], T[1][i], marker='.')\n",
    "    \n",
    "anim = FuncAnimation(fig, animate, interval=1, frames=len(T[0])-1)\n",
    "plt.draw()\n",
    "plt.show()\n",
    "\n",
    "\n"
   ]
  },
  {
   "cell_type": "code",
   "execution_count": 8,
   "metadata": {
    "collapsed": false
   },
   "outputs": [],
   "source": [
    "def SSA(X):\n",
    "    \n",
    "    cov_matrix = np.dot(X.T, X)\n",
    "    w, v = eig(cov_matrix)\n",
    "    \n",
    "    S = []\n",
    "    for i in range(len(v)):\n",
    "        t = np.matmul(X, v[i].T)\n",
    "        S.append(t)\n",
    "\n",
    "    return v, S\n",
    "\n",
    "def plot_SSA(X, S):\n",
    "    n = len(S)\n",
    "    N = 2*n - 1\n",
    "    \n",
    "    plt.figure()\n",
    "    for i in range(n):\n",
    "        plt.subplot(N,1,i+1)\n",
    "        plt.plot(S[i])\n",
    "    \n",
    "    for i in range(n-1):\n",
    "        plt.subplot(N,1,n+i+1)\n",
    "        plt.scatter(X[i], X[i+1])\n",
    "\n",
    "    \n",
    "    #plt.subplot(5,1,4)\n",
    "    #plt.plot(X[0])\n",
    "\n",
    "    #plt.subplot(5,1,5)\n",
    "    #plt.plot(X[1])\n",
    "\n",
    "    "
   ]
  },
  {
   "cell_type": "code",
   "execution_count": 5,
   "metadata": {
    "collapsed": false
   },
   "outputs": [
    {
     "name": "stdout",
     "output_type": "stream",
     "text": [
      "Using matplotlib backend: TkAgg\n"
     ]
    },
    {
     "data": {
      "text/plain": [
       "[<matplotlib.lines.Line2D at 0x7f162ba6b4d0>]"
      ]
     },
     "execution_count": 5,
     "metadata": {},
     "output_type": "execute_result"
    }
   ],
   "source": [
    "%matplotlib\n",
    "\n",
    "L = 1024\n",
    "X = coin.T\n",
    "\n",
    "\n",
    "\n",
    "S = []\n",
    "for i in range(0, len(X.T[0]) - L):\n",
    "    v, _, _ = SSA(X[i:L+i])\n",
    "    S.append(v[1])\n",
    "    \n",
    "S = np.array(S)\n",
    "S = S.T\n",
    "\n",
    "\n",
    "\n",
    "#plt.scatter(S.T[0], S.T[1])\n",
    "\n",
    "#T=S\n",
    "#xT=(-0.15, 0.1)\n",
    "#yT=(-1.5, 1.5)\n",
    "\n",
    "#fig, ax0 = plt.subplots(nrows=1, ncols=1)\n",
    "#ax0.set(xlim=xT, ylim=yT)\n",
    "\n",
    "#def animate(i):\n",
    "#    ax0.scatter(T[0][i], T[1][i], marker='.')\n",
    "    \n",
    "#anim = FuncAnimation(fig, animate, interval=1, frames=len(T[0])-1)\n",
    "#plt.draw()\n",
    "#plt.show()\n",
    "\n",
    "plt.figure()\n",
    "\n",
    "plt.subplot(2,1,1)\n",
    "plt.plot(S[0])\n",
    "\n",
    "plt.subplot(2,1,2)\n",
    "plt.plot(X.T[0][L+1:-1])\n",
    "\n",
    "#plt.subplot(4,1,3)\n",
    "#plt.plot(X.T[1][1025:2948])\n",
    "\n",
    "#plt.subplot(4,1,4)\n",
    "#plt.plot(S[1])\n",
    "\n"
   ]
  },
  {
   "cell_type": "code",
   "execution_count": 10,
   "metadata": {
    "collapsed": false
   },
   "outputs": [
    {
     "name": "stdout",
     "output_type": "stream",
     "text": [
      "Using matplotlib backend: TkAgg\n",
      "[[ 0.9965044 -0.0835403]\n",
      " [ 0.0835403  0.9965044]]\n"
     ]
    }
   ],
   "source": [
    "%matplotlib\n",
    "\n",
    "L = 20000\n",
    "i = 0\n",
    "\n",
    "X = coin.T\n",
    "\n",
    "v, S = SSA(X[i:i+L])\n",
    "print v\n",
    "\n",
    "plot_SSA(X[i:i+L].T, S)\n"
   ]
  },
  {
   "cell_type": "code",
   "execution_count": 7,
   "metadata": {
    "collapsed": false
   },
   "outputs": [
    {
     "data": {
      "text/plain": [
       "[<matplotlib.lines.Line2D at 0x7f1628029290>]"
      ]
     },
     "execution_count": 7,
     "metadata": {},
     "output_type": "execute_result"
    }
   ],
   "source": [
    "plt.plot(S1)"
   ]
  },
  {
   "cell_type": "code",
   "execution_count": null,
   "metadata": {
    "collapsed": true
   },
   "outputs": [],
   "source": []
  }
 ],
 "metadata": {
  "kernelspec": {
   "display_name": "Python 2",
   "language": "python",
   "name": "python2"
  },
  "language_info": {
   "codemirror_mode": {
    "name": "ipython",
    "version": 2
   },
   "file_extension": ".py",
   "mimetype": "text/x-python",
   "name": "python",
   "nbconvert_exporter": "python",
   "pygments_lexer": "ipython2",
   "version": "2.7.12"
  }
 },
 "nbformat": 4,
 "nbformat_minor": 2
}
