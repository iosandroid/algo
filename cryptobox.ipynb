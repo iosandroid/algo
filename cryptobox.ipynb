{
 "cells": [
  {
   "cell_type": "code",
   "execution_count": 1,
   "metadata": {
    "collapsed": false
   },
   "outputs": [],
   "source": [
    "import os\n",
    "import math\n",
    "import numpy as np\n",
    "import pandas as pd\n",
    "import tensorflow as tf\n",
    "import matplotlib.pyplot as plt\n",
    "\n",
    "from numpy.linalg import eig\n",
    "\n",
    "from util.ZigZag0 import ZigZag\n",
    "from util.CalcReturns import CalcReturns\n",
    "\n",
    "from matplotlib.animation import FuncAnimation\n",
    "\n",
    "from sklearn.cluster import KMeans\n",
    "from sklearn.decomposition import PCA\n",
    "from sklearn.preprocessing import MinMaxScaler"
   ]
  },
  {
   "cell_type": "code",
   "execution_count": 2,
   "metadata": {
    "collapsed": false
   },
   "outputs": [],
   "source": [
    "#eth = np.array(pd.read_csv('fxclub_ETHUSD1.csv', header=0).Close)\n",
    "#btc = np.array(pd.read_csv('fxclub_BTCUSD1.csv', header=0).Close)\n",
    "#dsh = np.array(pd.read_csv('fxclub_DSHUSD1.csv', header=0).Close)\n",
    "\n",
    "#eth = np.array(pd.read_csv('fxopen_ETHUSD1.csv', header=0).Close)\n",
    "#btc = np.array(pd.read_csv('fxopen_BTCUSD1.csv', header=0).Close)\n",
    "#mbt = np.array(pd.read_csv('fxopen_MBTUSD1.csv', header=0).Close)\n",
    "#eur = np.array(pd.read_csv('fxopen_EURUSD1.csv', header=0).Close)\n",
    "#gbp = np.array(pd.read_csv('fxopen_GBPUSD1.csv', header=0).Close)\n",
    "#rub = np.array(pd.read_csv('fxopen_USDRUB1.csv', header=0).Close)\n",
    "\n",
    "btc = np.array(pd.read_csv('gdax_BTCUSD1.csv', header=0).Close)\n",
    "eth = np.array(pd.read_csv('gdax_ETHUSD1.csv', header=0).Close)\n",
    "bch = np.array(pd.read_csv('gdax_BCHUSD1.csv', header=0).Close)\n",
    "ltc = np.array(pd.read_csv('gdax_LTCUSD1.csv', header=0).Close)\n",
    "\n",
    "coin = np.row_stack((btc, eth, bch, ltc))\n",
    "text = ['btc', 'eth', 'bch', 'ltc']"
   ]
  },
  {
   "cell_type": "code",
   "execution_count": 3,
   "metadata": {
    "collapsed": false
   },
   "outputs": [],
   "source": [
    "def SSA(X):    \n",
    "    cov_matrix = np.dot(X.T, X)\n",
    "    w, v = eig(cov_matrix)\n",
    "    \n",
    "    S = []\n",
    "    for i in range(len(v)):\n",
    "        t = np.matmul(X, v[i].T)\n",
    "        S.append(t)\n",
    "\n",
    "    return v, S\n",
    "\n",
    "def plot_SSA(X, S, t):\n",
    "    n = len(S)\n",
    "    for i in range(n):\n",
    "        for j in range(i):\n",
    "            if i != j:\n",
    "                fig = plt.figure()\n",
    "                \n",
    "                ax = plt.subplot(3,1,1)\n",
    "                ax.plot(X[i], label = t[i])\n",
    "                ax.legend()\n",
    "                \n",
    "                ax = plt.subplot(3,1,2)\n",
    "                ax.plot(X[j], label = t[j])\n",
    "                ax.legend()\n",
    "                \n",
    "                ax = plt.subplot(3,1,3)\n",
    "                ax.scatter(X[i], X[j])                \n",
    "                ax.legend()\n",
    "                \n",
    "                plt.show()\n",
    "    \n",
    "    fig = plt.figure()\n",
    "    for i in range(n):    \n",
    "        ax = plt.subplot(n,1,i+1)\n",
    "        ax.plot(S[i], label = 'S[' + str(i) + ']')\n",
    "        ax.legend()\n",
    "        \n",
    "    plt.show()"
   ]
  },
  {
   "cell_type": "code",
   "execution_count": 4,
   "metadata": {
    "collapsed": false
   },
   "outputs": [
    {
     "name": "stdout",
     "output_type": "stream",
     "text": [
      "Using matplotlib backend: TkAgg\n",
      "[[ 0.98951827 -0.14129166  0.02981879 -0.00105081]\n",
      " [ 0.07981525  0.37420032 -0.88489218 -0.26564916]\n",
      " [ 0.11873587  0.91333376  0.38850184  0.02809903]\n",
      " [ 0.01961926  0.07636902 -0.25523126  0.96365962]]\n"
     ]
    }
   ],
   "source": [
    "%matplotlib\n",
    "\n",
    "X = coin.T\n",
    "\n",
    "L = len(X)\n",
    "i = 0\n",
    "\n",
    "\n",
    "\n",
    "v, S = SSA(X[i:i+L])\n",
    "print v\n",
    "\n",
    "plot_SSA(X[i:i+L].T, S, text)\n"
   ]
  },
  {
   "cell_type": "code",
   "execution_count": 8,
   "metadata": {
    "collapsed": false
   },
   "outputs": [
    {
     "name": "stdout",
     "output_type": "stream",
     "text": [
      "Using matplotlib backend: TkAgg\n"
     ]
    },
    {
     "data": {
      "text/plain": [
       "[<matplotlib.lines.Line2D at 0x7f3ee1bcde90>]"
      ]
     },
     "execution_count": 8,
     "metadata": {},
     "output_type": "execute_result"
    }
   ],
   "source": [
    "%matplotlib\n",
    "\n",
    "plt.plot(S[3])\n",
    "\n",
    "#v1 = np.array([0.08, -0.7, -0.7])\n",
    "#s1 = np.matmul(X, v1.T)\n",
    "\n",
    "#plt.figure()\n",
    "#ax = plt.subplot(1,1,1)\n",
    "#ax.plot(S[1], label = 'S[1]')\n",
    "#ax.plot(s1, label = 's1')\n",
    "#ax.legend()\n"
   ]
  },
  {
   "cell_type": "code",
   "execution_count": 12,
   "metadata": {
    "collapsed": false
   },
   "outputs": [
    {
     "data": {
      "text/plain": [
       "array([ 0.0841051 , -0.68946819, -0.71941639])"
      ]
     },
     "execution_count": 12,
     "metadata": {},
     "output_type": "execute_result"
    }
   ],
   "source": [
    "p = [11074.0, 858.120, 619.600]\n",
    "s = v[1]\n",
    "\n",
    "e = np.dot(p,s)\n",
    "\n",
    "v[1]\n",
    "\n",
    "\n",
    "\n",
    "# 'btc'  'eth'    'dsh'    'iot'  'ltc'  'xpr'\n",
    "# 62.77  -705.12  -706.28  4.88   1.30    0.57\n",
    "\n",
    "# 'btc'       'eth'        'dsh'    \n",
    "# 8410        -68946       -71941\n"
   ]
  },
  {
   "cell_type": "code",
   "execution_count": 13,
   "metadata": {
    "collapsed": false
   },
   "outputs": [
    {
     "name": "stdout",
     "output_type": "stream",
     "text": [
      "Using matplotlib backend: TkAgg\n"
     ]
    }
   ],
   "source": [
    "%matplotlib\n",
    "\n",
    "#gdax   = np.array(pd.read_csv('gdax__BTCUSD1.csv', header=0).Close)\n",
    "#fxopen = np.array(pd.read_csv('fxopen__BTCUSD1.csv', header=0).Close)\n",
    "\n",
    "sub = gdax - fxopen\n",
    "\n",
    "#plt.plot(gdax, label='gdax (BTCUSD 1 min)')\n",
    "#plt.plot(fxopen, label='fxopen (BTCUSD 1 min)')\n",
    "#plt.plot(sub)\n",
    "#plt.legend()\n",
    "\n",
    "#w = np.array([0.08, -0.7, 0.7])\n",
    "#e = np.dot(X,w.T)\n",
    "\n",
    "#plt.plot(e, label='e')\n",
    "#plt.plot(S[1], label='S[1]')\n",
    "#plt.legend()\n"
   ]
  },
  {
   "cell_type": "code",
   "execution_count": 5,
   "metadata": {
    "collapsed": true
   },
   "outputs": [],
   "source": [
    "#T=coin\n",
    "#xT=(9200, 10200)\n",
    "#yT=(800, 850)\n",
    "\n",
    "#fig, ax0 = plt.subplots(nrows=1, ncols=1)\n",
    "#ax0.set(xlim=xT, ylim=yT)\n",
    "\n",
    "#def animate(i):\n",
    "#    ax0.scatter(T[0][i], T[1][i], marker='.')\n",
    "    \n",
    "#anim = FuncAnimation(fig, animate, interval=1, frames=len(T[0])-1)\n",
    "#plt.draw()\n",
    "#plt.show()"
   ]
  },
  {
   "cell_type": "code",
   "execution_count": null,
   "metadata": {
    "collapsed": true
   },
   "outputs": [],
   "source": [
    "#%matplotlib\n",
    "\n",
    "#L = 1024\n",
    "#X = coin.T\n",
    "\n",
    "#S = []\n",
    "#for i in range(0, len(X.T[0]) - L):\n",
    "#    v, _, _ = SSA(X[i:L+i])\n",
    "#    S.append(v[1])\n",
    "    \n",
    "#S = np.array(S)\n",
    "#S = S.T\n",
    "\n",
    "##plt.scatter(S.T[0], S.T[1])\n",
    "\n",
    "##T=S\n",
    "##xT=(-0.15, 0.1)\n",
    "##yT=(-1.5, 1.5)\n",
    "\n",
    "##fig, ax0 = plt.subplots(nrows=1, ncols=1)\n",
    "##ax0.set(xlim=xT, ylim=yT)\n",
    "\n",
    "##def animate(i):\n",
    "##    ax0.scatter(T[0][i], T[1][i], marker='.')\n",
    "    \n",
    "##anim = FuncAnimation(fig, animate, interval=1, frames=len(T[0])-1)\n",
    "##plt.draw()\n",
    "##plt.show()\n",
    "\n",
    "#plt.figure()\n",
    "\n",
    "#plt.subplot(2,1,1)\n",
    "#plt.plot(S[0])\n",
    "\n",
    "#plt.subplot(2,1,2)\n",
    "#plt.plot(X.T[0][L+1:-1])\n",
    "\n",
    "##plt.subplot(4,1,3)\n",
    "##plt.plot(X.T[1][1025:2948])\n",
    "\n",
    "##plt.subplot(4,1,4)\n",
    "##plt.plot(S[1])\n"
   ]
  }
 ],
 "metadata": {
  "kernelspec": {
   "display_name": "Python 2",
   "language": "python",
   "name": "python2"
  },
  "language_info": {
   "codemirror_mode": {
    "name": "ipython",
    "version": 2
   },
   "file_extension": ".py",
   "mimetype": "text/x-python",
   "name": "python",
   "nbconvert_exporter": "python",
   "pygments_lexer": "ipython2",
   "version": "2.7.12"
  }
 },
 "nbformat": 4,
 "nbformat_minor": 2
}
