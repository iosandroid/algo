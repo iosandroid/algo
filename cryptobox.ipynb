{
 "cells": [
  {
   "cell_type": "code",
   "execution_count": 1,
   "metadata": {
    "collapsed": true
   },
   "outputs": [],
   "source": [
    "import os\n",
    "import math\n",
    "import numpy as np\n",
    "import pandas as pd\n",
    "import tensorflow as tf\n",
    "import matplotlib.pyplot as plt\n",
    "\n",
    "from sklearn.preprocessing import MinMaxScaler"
   ]
  },
  {
   "cell_type": "code",
   "execution_count": 7,
   "metadata": {
    "collapsed": false
   },
   "outputs": [],
   "source": [
    "eth0 = np.array(pd.read_csv('ETHUSD1.csv', header=0).Close)[18000:19300]\n",
    "btc0 = np.array(pd.read_csv('BTCUSD1.csv', header=0).Close)[18000:19300]\n",
    "\n",
    "eth1 = np.array(pd.read_csv('ETHUSD1.csv', header=0).Close)[10000:18000]\n",
    "btc1 = np.array(pd.read_csv('BTCUSD1.csv', header=0).Close)[10000:18000]\n",
    "\n",
    "syn0 = btc0-10*eth0\n",
    "syn1 = btc1-10*eth1\n",
    "\n",
    "#sc = MinMaxScaler()\n",
    "\n",
    "#eth = sc.fit_transform(eth)\n",
    "#btc = sc.fit_transform(btc)\n"
   ]
  },
  {
   "cell_type": "code",
   "execution_count": 8,
   "metadata": {
    "collapsed": false
   },
   "outputs": [
    {
     "name": "stdout",
     "output_type": "stream",
     "text": [
      "Using matplotlib backend: TkAgg\n"
     ]
    },
    {
     "data": {
      "text/plain": [
       "[<matplotlib.lines.Line2D at 0x7f114e2ef490>]"
      ]
     },
     "execution_count": 8,
     "metadata": {},
     "output_type": "execute_result"
    }
   ],
   "source": [
    "%matplotlib\n",
    "#plt.plot(btc)\n",
    "#plt.plot(10*eth)\n",
    "#plt.plot(btc-eth)\n",
    "\n",
    "\n",
    "\n",
    "plt.plot(syn0)\n"
   ]
  },
  {
   "cell_type": "code",
   "execution_count": 12,
   "metadata": {
    "collapsed": false
   },
   "outputs": [
    {
     "data": {
      "text/plain": [
       "1085.8250875999997"
      ]
     },
     "execution_count": 12,
     "metadata": {},
     "output_type": "execute_result"
    }
   ],
   "source": [
    "syn.mean()"
   ]
  },
  {
   "cell_type": "code",
   "execution_count": null,
   "metadata": {
    "collapsed": true
   },
   "outputs": [],
   "source": []
  }
 ],
 "metadata": {
  "kernelspec": {
   "display_name": "Python 2",
   "language": "python",
   "name": "python2"
  },
  "language_info": {
   "codemirror_mode": {
    "name": "ipython",
    "version": 2
   },
   "file_extension": ".py",
   "mimetype": "text/x-python",
   "name": "python",
   "nbconvert_exporter": "python",
   "pygments_lexer": "ipython2",
   "version": "2.7.12"
  }
 },
 "nbformat": 4,
 "nbformat_minor": 2
}
