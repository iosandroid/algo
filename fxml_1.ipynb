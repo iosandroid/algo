{
 "cells": [
  {
   "cell_type": "code",
   "execution_count": 6,
   "metadata": {
    "collapsed": false
   },
   "outputs": [],
   "source": [
    "import math\n",
    "import numpy as np\n",
    "import pandas as pd\n",
    "import tensorflow as tf\n",
    "import matplotlib.pyplot as plt\n",
    "\n",
    "from util.ZigZag import ZigZag\n",
    "from util.BuildData import BuildData4\n",
    "from util.CalcReturns import CalcReturns\n",
    "\n",
    "from sklearn import svm\n",
    "from sklearn.tree import DecisionTreeClassifier\n",
    "from sklearn.neighbors import KNeighborsClassifier\n",
    "\n",
    "from sklearn.ensemble import VotingClassifier\n",
    "from sklearn.ensemble import BaggingClassifier\n",
    "from sklearn.ensemble import AdaBoostClassifier\n",
    "from sklearn.ensemble import ExtraTreesClassifier\n",
    "from sklearn.ensemble import RandomForestClassifier\n",
    "from sklearn.ensemble import GradientBoostingClassifier\n",
    "from sklearn.kernel_approximation import RBFSampler\n",
    "from sklearn.linear_model import SGDClassifier"
   ]
  },
  {
   "cell_type": "code",
   "execution_count": 7,
   "metadata": {
    "collapsed": true
   },
   "outputs": [],
   "source": [
    "df = pd.read_csv('EURUSD1.csv', header=0)\n",
    "train = np.array(df.Close)"
   ]
  },
  {
   "cell_type": "code",
   "execution_count": 8,
   "metadata": {
    "collapsed": false
   },
   "outputs": [
    {
     "name": "stdout",
     "output_type": "stream",
     "text": [
      "(14187, 15)\n"
     ]
    }
   ],
   "source": [
    "Z = ZigZag(train, 0.001)\n",
    "R = CalcReturns(train)\n",
    "R = [x * 1000000 for x in R]  \n",
    "S = BuildData4(Z, R, 16)\n",
    "\n",
    "#for i in range(len(S[\"data\"])):\n",
    "#    print \"%i: %s %s\" % (i, S[\"data\"][i], S[\"label\"][i])\n",
    "\n",
    "t_count = 1024\n",
    "print(S['data'].shape)"
   ]
  },
  {
   "cell_type": "code",
   "execution_count": 32,
   "metadata": {
    "collapsed": false
   },
   "outputs": [
    {
     "data": {
      "text/plain": [
       "AdaBoostClassifier(algorithm='SAMME.R', base_estimator=None,\n",
       "          learning_rate=0.6, n_estimators=100, random_state=None)"
      ]
     },
     "execution_count": 32,
     "metadata": {},
     "output_type": "execute_result"
    }
   ],
   "source": [
    "#clf = svm.SVC(kernel=\"poly\", C=0.0001, degree=6, coef0=0.0001)\n",
    "#clf = RandomForestClassifier(n_estimators = 100, criterion='entropy') # 79%\n",
    "#clf = ExtraTreesClassifier(n_estimators = 10, oob_score = True, bootstrap = True)\n",
    "#clf = ExtraTreesClassifier(n_estimators = 100)\n",
    "#clf = DecisionTreeClassifier()\n",
    "#clf = AdaBoostClassifier(learning_rate = 0.6, n_estimators = 100) # 71%\n",
    "#clf = GradientBoostingClassifier(n_estimators = 100, learning_rate=1.1) # 81%\n",
    "#clf = BaggingClassifier() #79 %\n",
    "#clf = KNeighborsClassifier(n_neighbors=100, algorithm='brute') # 37%\n",
    "#clf = BaggingClassifier(base_estimator = KNeighborsClassifier(n_neighbors=100)) # 36%\n",
    "#clf = GradientBoostingClassifier(n_estimators = 100, learning_rate=0.1) # 81%\n",
    "\n",
    "#x = S['data'][:-t_count]\n",
    "#y = S['label'][:-t_count]\n",
    "\n",
    "#rbf_feature = RBFSampler(gamma=0.7, random_state=6)\n",
    "#x_features = rbf_feature.fit_transform(x)\n",
    "\n",
    "#clf = SGDClassifier()\n",
    "#clf.fit(x_features, y)\n",
    "\n",
    "clf.fit(x,y)"
   ]
  },
  {
   "cell_type": "code",
   "execution_count": 33,
   "metadata": {
    "collapsed": false
   },
   "outputs": [
    {
     "name": "stdout",
     "output_type": "stream",
     "text": [
      "('Accuracy:  ', 64.35546875)\n",
      "('Test buy:  ', 459.0)\n",
      "('Test sell: ', 565.0)\n",
      "('Correct buy:  ', 259.0, 'Incorrect buy:  ', 200.0, 'Accuracy: ', 56.42701525054466)\n",
      "('Correct sell: ', 400.0, 'Incorrect sell: ', 165.0, 'Accuracy: ', 70.79646017699115)\n"
     ]
    }
   ],
   "source": [
    "correct_count  = 0.0\n",
    "\n",
    "test_buy  = 0.0\n",
    "test_sell = 0.0\n",
    "\n",
    "correct_buy  = 0.0\n",
    "correct_sell = 0.0\n",
    "\n",
    "incorrect_buy  = 0.0\n",
    "incorrect_sell = 0.0\n",
    "\n",
    "v = S['data'][len(S['data'])-t_count:]\n",
    "#v_features = rbf_feature.fit_transform(v)\n",
    "\n",
    "#p = clf.predict(v_features)\n",
    "p = clf.predict(v)\n",
    "c = S['label'][len(S['data'])-t_count:]\n",
    "\n",
    "for i in range(0, t_count):\n",
    "    \n",
    "    if c[i] == 1:\n",
    "        test_buy += 1.0;\n",
    "    elif c[i] == -1:\n",
    "        test_sell += 1.0;\n",
    "    \n",
    "    if p[i] == c[i]:\n",
    "        correct_count += 1.0\n",
    "        \n",
    "        if c[i] == 1:\n",
    "            correct_buy += 1.0;\n",
    "        elif c[i] == -1:\n",
    "            correct_sell += 1.0;\n",
    "\n",
    "    else:        \n",
    "        if c[i] == 1:\n",
    "            incorrect_buy += 1.0;\n",
    "        elif c[i] == -1:\n",
    "            incorrect_sell += 1.0;            \n",
    "\n",
    "print( \"Accuracy:  \", (correct_count/t_count)*100.00 )\n",
    "\n",
    "print( \"Test buy:  \", test_buy  )\n",
    "print( \"Test sell: \", test_sell )\n",
    "\n",
    "print( \"Correct buy:  \", correct_buy,  \"Incorrect buy:  \", incorrect_buy,  \"Accuracy: \", (correct_buy/test_buy)*100 )\n",
    "print( \"Correct sell: \", correct_sell, \"Incorrect sell: \", incorrect_sell, \"Accuracy: \", (correct_sell/test_sell)*100 )\n"
   ]
  },
  {
   "cell_type": "code",
   "execution_count": 6,
   "metadata": {
    "collapsed": false
   },
   "outputs": [
    {
     "data": {
      "text/plain": [
       "[<matplotlib.lines.Line2D at 0x7f64f0041410>]"
      ]
     },
     "execution_count": 6,
     "metadata": {},
     "output_type": "execute_result"
    }
   ],
   "source": [
    "%matplotlib qt\n",
    "\n",
    "plt.plot(S['data'][7])\n",
    "#plt.plot(Z['time'], Z['zigzag'], range(0, len(train)), train)"
   ]
  },
  {
   "cell_type": "code",
   "execution_count": null,
   "metadata": {
    "collapsed": true
   },
   "outputs": [],
   "source": []
  }
 ],
 "metadata": {
  "kernelspec": {
   "display_name": "Python 2",
   "language": "python",
   "name": "python2"
  },
  "language_info": {
   "codemirror_mode": {
    "name": "ipython",
    "version": 2
   },
   "file_extension": ".py",
   "mimetype": "text/x-python",
   "name": "python",
   "nbconvert_exporter": "python",
   "pygments_lexer": "ipython2",
   "version": "2.7.12"
  }
 },
 "nbformat": 4,
 "nbformat_minor": 2
}
