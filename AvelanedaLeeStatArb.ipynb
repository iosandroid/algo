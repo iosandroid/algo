{
 "cells": [
  {
   "cell_type": "code",
   "execution_count": 1,
   "metadata": {
    "collapsed": false
   },
   "outputs": [],
   "source": [
    "import os\n",
    "import math\n",
    "import numpy as np\n",
    "import pandas as pd\n",
    "import tensorflow as tf\n",
    "import statsmodels as sm\n",
    "import statsmodels.api as smapi\n",
    "import matplotlib.pyplot as plt\n",
    "\n",
    "from numpy.linalg import eig\n",
    "\n",
    "from util.ZigZag0 import ZigZag\n",
    "from matplotlib.animation import FuncAnimation\n",
    "\n",
    "from sklearn.cluster import KMeans\n",
    "from sklearn.decomposition import PCA\n",
    "from sklearn.preprocessing import MinMaxScaler"
   ]
  },
  {
   "cell_type": "code",
   "execution_count": 2,
   "metadata": {
    "collapsed": false
   },
   "outputs": [],
   "source": [
    "btc = np.array(pd.read_csv('bitfinex_BTCUSD5m.csv', header=0).Close)\n",
    "dsh = np.array(pd.read_csv('bitfinex_DSHUSD5m.csv', header=0).Close)\n",
    "eth = np.array(pd.read_csv('bitfinex_ETHUSD5m.csv', header=0).Close)\n",
    "\n",
    "prices = pd.DataFrame(np.column_stack((btc, dsh, eth)))\n",
    "returns = prices.pct_change().dropna()"
   ]
  },
  {
   "cell_type": "code",
   "execution_count": 3,
   "metadata": {
    "collapsed": false
   },
   "outputs": [],
   "source": [
    "Y = np.copy(returns.values)\n",
    "(row, col) = np.shape(Y)"
   ]
  },
  {
   "cell_type": "code",
   "execution_count": 4,
   "metadata": {
    "collapsed": true
   },
   "outputs": [],
   "source": [
    "for j in range(0,col):\n",
    "    mean = np.mean(Y[:,j])\n",
    "    std = np.std(Y[:,j])\n",
    "    \n",
    "    for i in range(0, row):\n",
    "        Y[i,j] = (Y[i,j] - mean) / std"
   ]
  },
  {
   "cell_type": "code",
   "execution_count": 5,
   "metadata": {
    "collapsed": false
   },
   "outputs": [],
   "source": [
    "corr = np.dot(Y.T, Y) / (row - 1)"
   ]
  },
  {
   "cell_type": "code",
   "execution_count": 6,
   "metadata": {
    "collapsed": false
   },
   "outputs": [],
   "source": [
    "eigval, eigv = np.linalg.eig(corr)\n",
    "sortedindex = eigval.argsort()[::-1]\n",
    "eigv = eigv[:, sortedindex]"
   ]
  },
  {
   "cell_type": "code",
   "execution_count": 7,
   "metadata": {
    "collapsed": false
   },
   "outputs": [
    {
     "data": {
      "text/plain": [
       "[<matplotlib.lines.Line2D at 0x7f53e279d710>]"
      ]
     },
     "execution_count": 7,
     "metadata": {},
     "output_type": "execute_result"
    }
   ],
   "source": [
    "cumeigval = np.cumsum(eigval)\n",
    "plt.plot(cumeigval)"
   ]
  },
  {
   "cell_type": "code",
   "execution_count": 8,
   "metadata": {
    "collapsed": false
   },
   "outputs": [
    {
     "name": "stdout",
     "output_type": "stream",
     "text": [
      "[[ 0.34921267]\n",
      " [ 0.31101515]\n",
      " [ 0.33977218]]\n"
     ]
    }
   ],
   "source": [
    "eigv = eigv[:, :1]\n",
    "eigvec = np.zeros(np.shape(eigv))\n",
    "\n",
    "for i in range(0, np.shape(eigv)[0]):\n",
    "    for j in range(0, np.shape(eigv)[1]):\n",
    "        eigvec[i,j] = eigv[i,j].real / np.std(returns.values[:,j])\n",
    "        \n",
    "for i in range(0,np.shape(eigvec)[1]):\n",
    "    eigvec[:,i] = eigvec[:,i] / np.sum(np.abs(eigvec[:,j]))\n",
    "\n",
    "eigret = np.dot(returns.values, eigvec)\n",
    "\n",
    "print eigvec\n"
   ]
  },
  {
   "cell_type": "code",
   "execution_count": 9,
   "metadata": {
    "collapsed": false
   },
   "outputs": [],
   "source": [
    "def fit_OU(ts):\n",
    "    X = smapi.add_constant(ts[:-1])\n",
    "    model = smapi.OLS(ts[1:], X)\n",
    "    results = model.fit()\n",
    "    b = results.params[1]\n",
    "    a = results.params[0]\n",
    "    e = np.std(results.resid)\n",
    "    k = -math.log(b) * 252\n",
    "    var = e**2 / (2*k) * (1 - math.exp(-2 * k))\n",
    "    num = -a * np.sqrt(1-b**2)\n",
    "    den = (1-b) * np.sqrt(var)\n",
    "    return num / den, 0. "
   ]
  },
  {
   "cell_type": "code",
   "execution_count": 10,
   "metadata": {
    "collapsed": false
   },
   "outputs": [
    {
     "name": "stdout",
     "output_type": "stream",
     "text": [
      "Using matplotlib backend: TkAgg\n"
     ]
    }
   ],
   "source": [
    "%matplotlib\n",
    "\n",
    "S = []\n",
    "for s in returns:\n",
    "    # regress stock returns on eigen portfolio returns\n",
    "    results = smapi.OLS(returns[s].values, smapi.add_constant(eigret)).fit()\n",
    "    b = results.params\n",
    "    cumresid = np.cumsum(results.resid)\n",
    "    score, hf = fit_OU(cumresid) # fit OU    \n",
    "    S.append(cumresid)\n",
    "    \n",
    "    #if abs(score) > 2 and sm.tsa.stattools.adfuller(cumresid)[1] < 0.01:\n",
    "    #plt.plot(np.cumsum(results.resid))\n",
    "    #break"
   ]
  },
  {
   "cell_type": "code",
   "execution_count": 22,
   "metadata": {
    "collapsed": false
   },
   "outputs": [
    {
     "name": "stdout",
     "output_type": "stream",
     "text": [
      "Using matplotlib backend: TkAgg\n"
     ]
    },
    {
     "data": {
      "text/plain": [
       "[<matplotlib.lines.Line2D at 0x7f53ca7ae2d0>]"
      ]
     },
     "execution_count": 22,
     "metadata": {},
     "output_type": "execute_result"
    }
   ],
   "source": [
    "%matplotlib\n",
    "\n",
    "plt.plot(S[1])\n",
    "\n"
   ]
  },
  {
   "cell_type": "code",
   "execution_count": null,
   "metadata": {
    "collapsed": true
   },
   "outputs": [],
   "source": []
  }
 ],
 "metadata": {
  "kernelspec": {
   "display_name": "Python 2",
   "language": "python",
   "name": "python2"
  },
  "language_info": {
   "codemirror_mode": {
    "name": "ipython",
    "version": 2
   },
   "file_extension": ".py",
   "mimetype": "text/x-python",
   "name": "python",
   "nbconvert_exporter": "python",
   "pygments_lexer": "ipython2",
   "version": "2.7.12"
  }
 },
 "nbformat": 4,
 "nbformat_minor": 2
}
