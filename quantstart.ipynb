{
 "cells": [
  {
   "cell_type": "code",
   "execution_count": 4,
   "metadata": {
    "collapsed": true
   },
   "outputs": [],
   "source": [
    "import numpy as np\n",
    "import pandas as pd\n",
    "import matplotlib.pyplot as plt"
   ]
  },
  {
   "cell_type": "code",
   "execution_count": 3,
   "metadata": {
    "collapsed": false
   },
   "outputs": [
    {
     "name": "stdout",
     "output_type": "stream",
     "text": [
      "No variables match your requested type.\n"
     ]
    }
   ],
   "source": [
    "whos(plot)"
   ]
  },
  {
   "cell_type": "code",
   "execution_count": 1,
   "metadata": {
    "collapsed": false
   },
   "outputs": [],
   "source": [
    "#np.info(plt.plot)"
   ]
  },
  {
   "cell_type": "code",
   "execution_count": 7,
   "metadata": {
    "collapsed": false
   },
   "outputs": [],
   "source": [
    "sp500tr = pd.read_csv('SP500TR.csv')"
   ]
  },
  {
   "cell_type": "code",
   "execution_count": 8,
   "metadata": {
    "collapsed": false
   },
   "outputs": [
    {
     "data": {
      "text/plain": [
       "0       1132.989990\n",
       "1       1136.520020\n",
       "2       1137.140015\n",
       "3       1141.689941\n",
       "4       1144.979980\n",
       "5       1146.979980\n",
       "6       1136.219971\n",
       "7       1145.680054\n",
       "8       1148.459961\n",
       "9       1136.030029\n",
       "10      1150.229980\n",
       "11      1138.040039\n",
       "12      1116.479980\n",
       "13      1091.760010\n",
       "14      1096.780029\n",
       "15      1092.170044\n",
       "16      1097.500000\n",
       "17      1084.530029\n",
       "18      1073.869995\n",
       "19      1089.189941\n",
       "20      1103.319946\n",
       "21      1097.280029\n",
       "22      1063.109985\n",
       "23      1066.189941\n",
       "24      1056.739990\n",
       "25      1070.520020\n",
       "26      1068.130005\n",
       "27      1078.469971\n",
       "28      1075.510010\n",
       "29      1094.869995\n",
       "           ...     \n",
       "1599    2064.459961\n",
       "1600    2064.110107\n",
       "1601    2046.609985\n",
       "1602    2066.659912\n",
       "1603    2047.209961\n",
       "1604    2047.630005\n",
       "1605    2040.040039\n",
       "1606    2052.320068\n",
       "1607    2048.040039\n",
       "1608    2076.060059\n",
       "1609    2090.540039\n",
       "1610    2090.100098\n",
       "1611    2099.060059\n",
       "1612    2096.949951\n",
       "1613    2099.330078\n",
       "1614    2105.260010\n",
       "1615    2099.129883\n",
       "1616    2109.409912\n",
       "1617    2112.129883\n",
       "1618    2119.120117\n",
       "1619    2115.479980\n",
       "1620    2096.070068\n",
       "1621    2079.060059\n",
       "1622    2075.320068\n",
       "1623    2071.500000\n",
       "1624    2077.989990\n",
       "1625    2071.219971\n",
       "1626    2083.250000\n",
       "1627    2088.899902\n",
       "1628    2085.449951\n",
       "Name: Close, dtype: float64"
      ]
     },
     "execution_count": 8,
     "metadata": {},
     "output_type": "execute_result"
    }
   ],
   "source": [
    "sp500tr.Close"
   ]
  },
  {
   "cell_type": "code",
   "execution_count": 9,
   "metadata": {
    "collapsed": false
   },
   "outputs": [],
   "source": [
    "plt.plot(sp500tr.Close)\n",
    "plt.show()"
   ]
  },
  {
   "cell_type": "code",
   "execution_count": 10,
   "metadata": {
    "collapsed": false
   },
   "outputs": [],
   "source": [
    "%matplotlib qt\n"
   ]
  },
  {
   "cell_type": "code",
   "execution_count": 11,
   "metadata": {
    "collapsed": false
   },
   "outputs": [],
   "source": [
    "def ZigZag(data, minsize):\n",
    "    \n",
    "    N = len(data)-1\n",
    "    Z = {'zigzag': [], 'time': []}\n",
    "    \n",
    "    T = N\n",
    "    \n",
    "    Count = 0;\n",
    "    \n",
    "    Max  = 0\n",
    "    Min  = 0\n",
    "    \n",
    "    Flag = False\n",
    "    \n",
    "    PriceLow = 0\n",
    "    PriceHigh = 0    \n",
    "        \n",
    "    while N >= 0:\n",
    "        \n",
    "        PriceLow = data[N]\n",
    "        PriceHigh = data[N]        \n",
    "        \n",
    "        if Flag:\n",
    "            \n",
    "            if PriceHigh > Max:\n",
    "                \n",
    "                T = N\n",
    "                Max = PriceHigh                \n",
    "                \n",
    "            elif (Max - PriceLow >= minsize):\n",
    "                \n",
    "                Z['time'].append(T)\n",
    "                Z['zigzag'].append(Max)\n",
    "                \n",
    "                Flag = False\n",
    "                Count = Count + 1                                \n",
    "                \n",
    "                T = N\n",
    "                Min = PriceLow                \n",
    "                \n",
    "        else:\n",
    "               \n",
    "            if PriceLow < Min:\n",
    "                \n",
    "                T = N\n",
    "                Min = PriceLow                \n",
    "                    \n",
    "            elif (PriceHigh - Min >= minsize):\n",
    "                    \n",
    "                Z['time'].append(T)\n",
    "                Z['zigzag'].append(Min)\n",
    "                \n",
    "                Flag = True\n",
    "                Count = Count + 1                \n",
    "                \n",
    "                T = N\n",
    "                Max = PriceHigh                 \n",
    "    \n",
    "        N = N - 1\n",
    "        \n",
    "    Z['time'] = list(reversed(Z['time']))\n",
    "    Z['time'] = Z['time'][:Count-1]\n",
    "    \n",
    "    Z['zigzag'] = list(reversed(Z['zigzag']))\n",
    "    Z['zigzag'] = Z['zigzag'][:Count-1]\n",
    "    \n",
    "    return Z\n",
    "\n"
   ]
  },
  {
   "cell_type": "code",
   "execution_count": 12,
   "metadata": {
    "collapsed": false
   },
   "outputs": [],
   "source": [
    "z = ZigZag(sp500tr.Close, 60)"
   ]
  },
  {
   "cell_type": "code",
   "execution_count": 13,
   "metadata": {
    "collapsed": false
   },
   "outputs": [
    {
     "data": {
      "text/plain": [
       "[<matplotlib.lines.Line2D at 0x7f4800110ed0>,\n",
       " <matplotlib.lines.Line2D at 0x7f47f8db3450>]"
      ]
     },
     "execution_count": 13,
     "metadata": {},
     "output_type": "execute_result"
    }
   ],
   "source": [
    "plt.plot(range(0,len(sp500tr.Close)), sp500tr.Close,z['time'],z['zigzag'])"
   ]
  },
  {
   "cell_type": "code",
   "execution_count": 22,
   "metadata": {
    "collapsed": false
   },
   "outputs": [
    {
     "data": {
      "text/plain": [
       "[<matplotlib.lines.Line2D at 0x7fb2904af8d0>,\n",
       " <matplotlib.lines.Line2D at 0x7fb2904afad0>]"
      ]
     },
     "execution_count": 22,
     "metadata": {},
     "output_type": "execute_result"
    }
   ],
   "source": [
    "def load_csv(symbol):\n",
    "    s = pd.read_csv('Data/'+symbol+'.csv', names=['Date', 'Time', 'Open', 'High', 'Low', 'Close', 'Volume'])\n",
    "    return s\n",
    "\n",
    "gbpnzd1 = load_csv('GBPNZD1')\n",
    "noksek1 = load_csv('NOKSEK1')\n",
    "\n",
    "s0 = np.array(gbpnzd1.Close).astype(np.float)\n",
    "s1 = np.array(noksek1.Close).astype(np.float)\n",
    "\n",
    "s0 = (s0 - s0.mean())/s0.std()\n",
    "s1 = (s1 - s1.mean())/s1.std()\n",
    "\n",
    "%matplotlib qt\n",
    "plt.plot(range(0,len(s0)), s0, range(0,len(s1)), s1)"
   ]
  },
  {
   "cell_type": "code",
   "execution_count": null,
   "metadata": {
    "collapsed": true
   },
   "outputs": [],
   "source": []
  }
 ],
 "metadata": {
  "kernelspec": {
   "display_name": "Python 2",
   "language": "python",
   "name": "python2"
  },
  "language_info": {
   "codemirror_mode": {
    "name": "ipython",
    "version": 2
   },
   "file_extension": ".py",
   "mimetype": "text/x-python",
   "name": "python",
   "nbconvert_exporter": "python",
   "pygments_lexer": "ipython2",
   "version": "2.7.12"
  }
 },
 "nbformat": 4,
 "nbformat_minor": 2
}
