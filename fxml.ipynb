{
 "cells": [
  {
   "cell_type": "code",
   "execution_count": 1,
   "metadata": {
    "collapsed": false,
    "deletable": true,
    "editable": true
   },
   "outputs": [],
   "source": [
    "import math\n",
    "import numpy as np\n",
    "import pandas as pd\n",
    "import tensorflow as tf\n",
    "import matplotlib.pyplot as plt\n",
    "\n",
    "from util.ZigZag import ZigZag\n",
    "from util.BuildData import BuildData2\n",
    "from util.CalcReturns import CalcReturns\n",
    "\n",
    "from sklearn import svm\n",
    "from sklearn.tree import DecisionTreeClassifier\n",
    "from sklearn.neighbors import KNeighborsClassifier\n",
    "\n",
    "from sklearn.ensemble import VotingClassifier\n",
    "from sklearn.ensemble import BaggingClassifier\n",
    "from sklearn.ensemble import AdaBoostClassifier\n",
    "from sklearn.ensemble import ExtraTreesClassifier\n",
    "from sklearn.ensemble import RandomForestClassifier\n",
    "from sklearn.ensemble import GradientBoostingClassifier\n"
   ]
  },
  {
   "cell_type": "code",
   "execution_count": 2,
   "metadata": {
    "collapsed": false,
    "deletable": true,
    "editable": true
   },
   "outputs": [],
   "source": [
    "df = pd.read_csv('EURUSD1.csv', names=['Date', 'Time', 'Open', 'High', 'Low', 'Close', 'Volume'])\n",
    "train = np.array(df.Close)"
   ]
  },
  {
   "cell_type": "code",
   "execution_count": 3,
   "metadata": {
    "collapsed": false,
    "deletable": true,
    "editable": true
   },
   "outputs": [
    {
     "name": "stdout",
     "output_type": "stream",
     "text": [
      "(10146, 60)\n",
      "10146\n"
     ]
    }
   ],
   "source": [
    "Z = ZigZag(train, 0.0004)\n",
    "returns = CalcReturns(train)\n",
    "\n",
    "S = BuildData2(Z, returns, 61)\n",
    "\n",
    "Dim = S['data'].shape[1]\n",
    "t_count = 1024\n",
    "\n",
    "#D, L = BuildData1(Z, returns, 61)\n",
    "#D, L = BuildData0(Z, train, 61)\n",
    "\n",
    "print(S['data'].shape)\n",
    "print(len(S['data']))\n"
   ]
  },
  {
   "cell_type": "code",
   "execution_count": 4,
   "metadata": {
    "collapsed": false,
    "deletable": true,
    "editable": true
   },
   "outputs": [
    {
     "data": {
      "text/plain": [
       "BaggingClassifier(base_estimator=GradientBoostingClassifier(criterion='friedman_mse', init=None,\n",
       "              learning_rate=0.1, loss='deviance', max_depth=3,\n",
       "              max_features=None, max_leaf_nodes=None,\n",
       "              min_impurity_split=1e-07, min_samples_leaf=1,\n",
       "              min_samples_split=2, min_weight_fraction_leaf=0.0,\n",
       "              n_estimators=100, presort='auto', random_state=None,\n",
       "              subsample=1.0, verbose=0, warm_start=False),\n",
       "         bootstrap=True, bootstrap_features=False, max_features=1.0,\n",
       "         max_samples=1.0, n_estimators=10, n_jobs=1, oob_score=False,\n",
       "         random_state=None, verbose=0, warm_start=False)"
      ]
     },
     "execution_count": 4,
     "metadata": {},
     "output_type": "execute_result"
    }
   ],
   "source": [
    "#clf = svm.SVC(kernel=\"poly\", C=0.0001, degree=6, coef0=0.0001)\n",
    "#clf = RandomForestClassifier(n_estimators = 100, criterion='entropy') # 79%\n",
    "#clf = ExtraTreesClassifier(n_estimators = 10, oob_score = True, bootstrap = True)\n",
    "#clf = ExtraTreesClassifier(n_estimators = 100)\n",
    "#clf = DecisionTreeClassifier()\n",
    "#clf = AdaBoostClassifier(learning_rate = 0.6, n_estimators = 100) # 71%\n",
    "#clf = GradientBoostingClassifier(n_estimators = 100, learning_rate=1.1) # 81%\n",
    "#clf = BaggingClassifier() #79 %\n",
    "#clf = KNeighborsClassifier(n_neighbors=100, algorithm='brute') # 37%\n",
    "#clf = BaggingClassifier(base_estimator = KNeighborsClassifier(n_neighbors=100)) # 36%\n",
    "clf = BaggingClassifier(base_estimator = GradientBoostingClassifier(n_estimators = 100, learning_rate=0.1)) # 81%\n",
    "\n",
    "#clf0 = GradientBoostingClassifier(n_estimators = 100, learning_rate=0.1) # 81%\n",
    "#clf1 = KNeighborsClassifier(n_neighbors=100, algorithm='brute') # 37%\n",
    "\n",
    "#clf = VotingClassifier(estimators=[('gbc', clf0),('knc', clf1)], voting='soft')\n",
    "clf.fit(S['data'][:-t_count], S['label'][:-t_count])"
   ]
  },
  {
   "cell_type": "code",
   "execution_count": 6,
   "metadata": {
    "collapsed": false,
    "deletable": true,
    "editable": true
   },
   "outputs": [
    {
     "name": "stdout",
     "output_type": "stream",
     "text": [
      "('Accuracy:  ', 75.29296875)\n",
      "('Test buy:  ', 289.0)\n",
      "('Test sell: ', 233.0)\n",
      "('Test hold: ', 505.0)\n",
      "('Correct buy:  ', 219.0, 'Incorrect buy:  ', 69.0, 'Accuracy: ', 75.77854671280276)\n",
      "('Correct sell: ', 178.0, 'Incorrect sell: ', 54.0, 'Accuracy: ', 76.39484978540773)\n",
      "('Correct hold: ', 374.0, 'Incorrect hold: ', 130.0, 'Accuracy: ', 74.05940594059406)\n"
     ]
    }
   ],
   "source": [
    "correct_count  = 0.0\n",
    "\n",
    "test_buy  = 1.0\n",
    "test_sell = 1.0\n",
    "test_hold = 1.0\n",
    "\n",
    "correct_buy  = 0.0\n",
    "correct_sell = 0.0\n",
    "correct_hold = 0.0\n",
    "\n",
    "incorrect_buy  = 0.0\n",
    "incorrect_sell = 0.0\n",
    "incorrect_hold = 0.0\n",
    "\n",
    "p = clf.predict(S['data'][len(S['data'])-t_count:])\n",
    "c = S['label'][len(S['data'])-t_count:]\n",
    "\n",
    "for i in range(0, t_count):\n",
    "    \n",
    "    if c[i] == 1:\n",
    "        test_buy += 1.0;\n",
    "    elif c[i] == 0:\n",
    "        test_hold += 1.0;\n",
    "    elif c[i] == -1:\n",
    "        test_sell += 1.0;\n",
    "    \n",
    "    if p[i] == c[i]:\n",
    "        correct_count += 1.0\n",
    "        \n",
    "        if c[i] == 1:\n",
    "            correct_buy += 1.0;\n",
    "        elif c[i] == 0:\n",
    "            correct_hold += 1.0;\n",
    "        elif c[i] == -1:\n",
    "            correct_sell += 1.0;\n",
    "\n",
    "    else:        \n",
    "        if c[i] == 1:\n",
    "            incorrect_buy += 1.0;\n",
    "        elif c[i] == 0:\n",
    "            incorrect_hold += 1.0;\n",
    "        elif c[i] == -1:\n",
    "            incorrect_sell += 1.0;            \n",
    "\n",
    "print( \"Accuracy:  \", (correct_count/t_count)*100.00 )\n",
    "\n",
    "print( \"Test buy:  \", test_buy  )\n",
    "print( \"Test sell: \", test_sell )\n",
    "print( \"Test hold: \", test_hold )\n",
    "\n",
    "print( \"Correct buy:  \", correct_buy,  \"Incorrect buy:  \", incorrect_buy,  \"Accuracy: \", (correct_buy/test_buy)*100 )\n",
    "print( \"Correct sell: \", correct_sell, \"Incorrect sell: \", incorrect_sell, \"Accuracy: \", (correct_sell/test_sell)*100 )\n",
    "print( \"Correct hold: \", correct_hold, \"Incorrect hold: \", incorrect_hold, \"Accuracy: \", (correct_hold/test_hold)*100 )\n"
   ]
  },
  {
   "cell_type": "code",
   "execution_count": 25,
   "metadata": {
    "collapsed": false,
    "deletable": true,
    "editable": true
   },
   "outputs": [
    {
     "data": {
      "text/plain": [
       "[<matplotlib.lines.Line2D at 0x7f8bfb9a4a10>,\n",
       " <matplotlib.lines.Line2D at 0x7f8bfb9a4c10>]"
      ]
     },
     "execution_count": 25,
     "metadata": {},
     "output_type": "execute_result"
    }
   ],
   "source": [
    "%matplotlib qt\n",
    "\n",
    "colour = []\n",
    "for i in range(0, t_count):\n",
    "    if p[i] == c[i]:\n",
    "        colour.append('r')\n",
    "    else:\n",
    "        colour.append('g')\n",
    "\n",
    "plt.plot(Z['time'], Z['zigzag'], range(0, len(train)), train)\n",
    "#plt.scatter(S['index'], (S['data'].T)[59], s=60, c='r')\n",
    "\n",
    "#print(len((S['data'].T)[59]))\n",
    "#print(S['data'].shape)\n",
    "\n",
    "\n"
   ]
  },
  {
   "cell_type": "code",
   "execution_count": null,
   "metadata": {
    "collapsed": true
   },
   "outputs": [],
   "source": []
  }
 ],
 "metadata": {
  "kernelspec": {
   "display_name": "Python 2",
   "language": "python",
   "name": "python2"
  },
  "language_info": {
   "codemirror_mode": {
    "name": "ipython",
    "version": 2
   },
   "file_extension": ".py",
   "mimetype": "text/x-python",
   "name": "python",
   "nbconvert_exporter": "python",
   "pygments_lexer": "ipython2",
   "version": "2.7.12"
  }
 },
 "nbformat": 4,
 "nbformat_minor": 0
}
