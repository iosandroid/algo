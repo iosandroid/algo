{
 "cells": [
  {
   "cell_type": "code",
   "execution_count": 1,
   "metadata": {
    "collapsed": false,
    "deletable": true,
    "editable": true
   },
   "outputs": [],
   "source": [
    "import math\n",
    "import numpy as np\n",
    "import pandas as pd\n",
    "import tensorflow as tf\n",
    "import matplotlib.pyplot as plt\n",
    "\n",
    "from util.ZigZag import ZigZag, ZigZag0\n",
    "from util.CalcReturns import CalcReturns\n",
    "from util.BuildData import TrainingSet_ML_Prices,  TrainingSet_ML_Logret\n",
    "\n",
    "from sklearn import svm\n",
    "from sklearn.tree import DecisionTreeClassifier\n",
    "from sklearn.neighbors import KNeighborsClassifier\n",
    "\n",
    "from sklearn.ensemble import VotingClassifier\n",
    "from sklearn.ensemble import BaggingClassifier\n",
    "from sklearn.ensemble import AdaBoostClassifier\n",
    "from sklearn.ensemble import ExtraTreesClassifier\n",
    "from sklearn.ensemble import RandomForestClassifier\n",
    "from sklearn.ensemble import GradientBoostingClassifier\n",
    "\n",
    "test_set_size = 1024\n"
   ]
  },
  {
   "cell_type": "code",
   "execution_count": 2,
   "metadata": {
    "collapsed": false,
    "deletable": true,
    "editable": true
   },
   "outputs": [
    {
     "data": {
      "image/png": "[encoded data removed]",
      "text/plain": [
       "<matplotlib.figure.Figure at 0x7f5dcd3c48d0>"
      ]
     },
     "metadata": {},
     "output_type": "display_data"
    },
    {
     "name": "stdout",
     "output_type": "stream",
     "text": [
      "Buys: 6034; Sells: 8094; Holds: 239; Count: 14367\n"
     ]
    }
   ],
   "source": [
    "source = pd.read_csv('EURUSD1.csv', header=0)\n",
    "prices = np.array(source.Close)\n",
    "\n",
    "T, S = TrainingSet_ML_Prices(prices = prices, minsize = 0.0004, lag = 4*60, scale = True, ZigZagFunc = ZigZag0)\n",
    "\n",
    "X_train = T['input'][:-test_set_size]\n",
    "Y_train = T['label'][:-test_set_size]\n",
    "\n",
    "X_test = T['input'][-test_set_size:]\n",
    "Y_test = T['label'][-test_set_size:]"
   ]
  },
  {
   "cell_type": "code",
   "execution_count": 17,
   "metadata": {
    "collapsed": false,
    "deletable": true,
    "editable": true
   },
   "outputs": [
    {
     "data": {
      "text/plain": [
       "BaggingClassifier(base_estimator=GradientBoostingClassifier(criterion='friedman_mse', init=None,\n",
       "              learning_rate=0.1, loss='deviance', max_depth=3,\n",
       "              max_features=None, max_leaf_nodes=None,\n",
       "              min_impurity_split=1e-07, min_samples_leaf=1,\n",
       "              min_samples_split=2, min_weight_fraction_leaf=0.0,\n",
       "              n_estimators=100, presort='auto', random_state=None,\n",
       "              subsample=1.0, verbose=0, warm_start=False),\n",
       "         bootstrap=True, bootstrap_features=False, max_features=1.0,\n",
       "         max_samples=1.0, n_estimators=10, n_jobs=1, oob_score=False,\n",
       "         random_state=None, verbose=0, warm_start=False)"
      ]
     },
     "execution_count": 17,
     "metadata": {},
     "output_type": "execute_result"
    }
   ],
   "source": [
    "#clf = svm.SVC(kernel=\"poly\", C=0.0001, degree=6, coef0=0.0001)\n",
    "#clf = RandomForestClassifier(n_estimators = 100, criterion='entropy') # \n",
    "#clf = ExtraTreesClassifier(n_estimators = 4*60, oob_score = True, bootstrap = True)\n",
    "#clf = ExtraTreesClassifier(n_estimators = 100)\n",
    "#clf = DecisionTreeClassifier() # 53% !!!!!\n",
    "#clf = AdaBoostClassifier(learning_rate = 0.6, n_estimators = 100) #\n",
    "#clf = GradientBoostingClassifier(n_estimators = 100, learning_rate=1.01) # ~ 66% !!!!!!!!\n",
    "#clf = BaggingClassifier() \n",
    "#clf = KNeighborsClassifier(n_neighbors=100, algorithm='brute') # \n",
    "#clf = BaggingClassifier(base_estimator = KNeighborsClassifier(n_neighbors=100)) # \n",
    "clf = BaggingClassifier(base_estimator = GradientBoostingClassifier(n_estimators = 100, learning_rate=0.1)) \n",
    "\n",
    "#clf0 = GradientBoostingClassifier(n_estimators = 100, learning_rate=0.1) # \n",
    "#clf1 = KNeighborsClassifier(n_neighbors=100, algorithm='brute') # \n",
    "\n",
    "#clf = VotingClassifier(estimators=[('gbc', clf0),('knc', clf1)], voting='soft')\n",
    "\n",
    "clf.fit(X_train, Y_train)"
   ]
  },
  {
   "cell_type": "code",
   "execution_count": 18,
   "metadata": {
    "collapsed": false,
    "deletable": true,
    "editable": true
   },
   "outputs": [
    {
     "name": "stdout",
     "output_type": "stream",
     "text": [
      "('Accuracy:  ', 48.2421875)\n",
      "('Test buy:  ', 615.0)\n",
      "('Test sell: ', 359.0)\n",
      "('Test hold: ', 50.0)\n",
      "('Correct buy:  ', 228.0, 'Incorrect buy:  ', 387.0, 'Accuracy: ', 37.073170731707314)\n",
      "('Correct sell: ', 266.0, 'Incorrect sell: ', 93.0, 'Accuracy: ', 74.09470752089136)\n",
      "('Correct hold: ', 0.0, 'Incorrect hold: ', 50.0, 'Accuracy: ', 0.0)\n"
     ]
    }
   ],
   "source": [
    "correct_count  = 0.0\n",
    "\n",
    "test_buy  = 0.0\n",
    "test_sell = 0.0\n",
    "test_hold = 0.0\n",
    "\n",
    "correct_buy  = 0.0\n",
    "correct_sell = 0.0\n",
    "correct_hold = 0.0\n",
    "\n",
    "incorrect_buy  = 0.0\n",
    "incorrect_sell = 0.0\n",
    "incorrect_hold = 0.0\n",
    "\n",
    "p = clf.predict(X_test)\n",
    "c = Y_test\n",
    "\n",
    "for i in range(0, test_set_size):\n",
    "    \n",
    "    if c[i] == 1:\n",
    "        test_buy += 1.0;\n",
    "    elif c[i] == 0:\n",
    "        test_hold += 1.0;\n",
    "    elif c[i] == -1:\n",
    "        test_sell += 1.0;\n",
    "    \n",
    "    if p[i] == c[i]:\n",
    "        correct_count += 1.0\n",
    "        \n",
    "        if c[i] == 1:\n",
    "            correct_buy += 1.0;\n",
    "        elif c[i] == 0:\n",
    "            correct_hold += 1.0;\n",
    "        elif c[i] == -1:\n",
    "            correct_sell += 1.0;\n",
    "\n",
    "    else:        \n",
    "        if c[i] == 1:\n",
    "            incorrect_buy += 1.0;\n",
    "        elif c[i] == 0:\n",
    "            incorrect_hold += 1.0;\n",
    "        elif c[i] == -1:\n",
    "            incorrect_sell += 1.0;            \n",
    "\n",
    "print( \"Accuracy:  \", (correct_count/test_set_size)*100.00 )\n",
    "\n",
    "print( \"Test buy:  \", test_buy  )\n",
    "print( \"Test sell: \", test_sell )\n",
    "print( \"Test hold: \", test_hold )\n",
    "\n",
    "print( \"Correct buy:  \", correct_buy,  \"Incorrect buy:  \", incorrect_buy,  \"Accuracy: \", (correct_buy/(test_buy if test_buy > 0 else 1))*100 )\n",
    "print( \"Correct sell: \", correct_sell, \"Incorrect sell: \", incorrect_sell, \"Accuracy: \", (correct_sell/(test_sell if test_sell > 0 else 1))*100 )\n",
    "print( \"Correct hold: \", correct_hold, \"Incorrect hold: \", incorrect_hold, \"Accuracy: \", (correct_hold/(test_hold if test_hold > 0 else 1))*100 )\n"
   ]
  },
  {
   "cell_type": "code",
   "execution_count": 5,
   "metadata": {
    "collapsed": false
   },
   "outputs": [
    {
     "name": "stdout",
     "output_type": "stream",
     "text": [
      "Using matplotlib backend: TkAgg\n"
     ]
    }
   ],
   "source": [
    "%matplotlib\n",
    "\n",
    "\n",
    "fig, ax = plt.subplots()\n",
    "ax.plot(X_train[0], color = 'red')\n",
    "#ax.plot(S.inverse_transform(X_train[0]), color = 'blue')\n",
    "\n",
    "plt.show()\n"
   ]
  },
  {
   "cell_type": "code",
   "execution_count": null,
   "metadata": {
    "collapsed": true
   },
   "outputs": [],
   "source": []
  }
 ],
 "metadata": {
  "kernelspec": {
   "display_name": "Python 2",
   "language": "python",
   "name": "python2"
  },
  "language_info": {
   "codemirror_mode": {
    "name": "ipython",
    "version": 2
   },
   "file_extension": ".py",
   "mimetype": "text/x-python",
   "name": "python",
   "nbconvert_exporter": "python",
   "pygments_lexer": "ipython2",
   "version": "2.7.12"
  }
 },
 "nbformat": 4,
 "nbformat_minor": 0
}
