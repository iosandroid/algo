{
 "cells": [
  {
   "cell_type": "code",
   "execution_count": 1,
   "metadata": {
    "collapsed": false
   },
   "outputs": [
    {
     "name": "stderr",
     "output_type": "stream",
     "text": [
      "/usr/local/lib/python2.7/dist-packages/statsmodels/compat/pandas.py:56: FutureWarning: The pandas.core.datetools module is deprecated and will be removed in a future version. Please use the pandas.tseries module instead.\n",
      "  from pandas.core import datetools\n"
     ]
    }
   ],
   "source": [
    "import sys\n",
    "import math\n",
    "\n",
    "import time\n",
    "import numpy as np\n",
    "import pandas as pd\n",
    "import matplotlib.pyplot as plt\n",
    "import missingno as msno\n",
    "import seaborn as sns\n",
    "import scipy.stats as stats\n",
    "\n",
    "from sklearn.svm import SVC\n",
    "from sklearn.tree import DecisionTreeClassifier\n",
    "from sklearn.ensemble import RandomForestClassifier, BaggingClassifier\n",
    "from sklearn.model_selection import train_test_split, cross_val_score, ShuffleSplit\n",
    "from sklearn.metrics import roc_curve, classification_report\n",
    "\n",
    "from multiprocessing import cpu_count\n",
    "from tqdm import tqdm, tqdm_notebook\n",
    "\n",
    "from mpengine import mpPandasObj\n",
    "from util import cprintf\n",
    "\n",
    "from zig_zag import zig_zag_df\n",
    "from statsmodels.tsa.stattools import adfuller\n",
    "from statsmodels.distributions.empirical_distribution import ECDF\n",
    "\n",
    "from entropy_features import plugIn, lempelZiv_lib, konto\n",
    "from structural_breaks import get_bsadf, get_bsadf0\n",
    "from sample_weights import mpNumCoEvents, mpSampleW, mpSampleTW, getAvgUniqueness, getIndMatrix\n",
    "from financial_data_structures import dollar_bar_df\n",
    "from cross_validation_in_finance import PurgedKFold, cvScore\n",
    "from labeling import getDailyVol, getTEvents, addVerticalBarrier, getEvents, getBins, getBinsOld, df_returns, df_rolling_autocorr\n",
    "from fractionally_differentiated_features import fracDiff, fracDiff_FFD, plotMinFFD"
   ]
  },
  {
   "cell_type": "code",
   "execution_count": 2,
   "metadata": {
    "collapsed": true
   },
   "outputs": [],
   "source": [
    "#filepath = '~/Dev/notebook/lopez/data/bitfinex_BTCUSD_trades.csv'\n",
    "filepath = '~/Dev/notebook/lopez/data/btcusd_trades.csv'\n",
    "cols = list(map(str.lower, ['Datetime','Amount','Price','<Unknown>']))\n",
    "columns = dict(zip(range(len(cols)), cols))\n",
    "\n",
    "df = pd.read_csv(filepath, header = None).rename(columns = columns).assign(dates = lambda df: (pd.to_datetime(df['datetime'], format='%Y-%m-%d %H:%M:%S.%f'))).assign(dollar_volume=lambda df: df['amount'] * df['price']).assign(volume=lambda df: df['amount']).drop(['datetime', '<unknown>'], axis = 1).set_index('dates').drop_duplicates()\n",
    "df = df.iloc[::-1]"
   ]
  },
  {
   "cell_type": "code",
   "execution_count": 6,
   "metadata": {
    "collapsed": false
   },
   "outputs": [
    {
     "name": "stderr",
     "output_type": "stream",
     "text": [
      "100%|██████████| 9931276/9931276 [00:02<00:00, 3319201.51it/s]9931276 [00:00<323:26:01,  8.53it/s]\n"
     ]
    }
   ],
   "source": [
    "dollar_M = 1000000\n",
    "dollar_df = dollar_bar_df(df, 'dollar_volume', dollar_M)\n",
    "#dollar_df = dollar_df.iloc[0:800]"
   ]
  },
  {
   "cell_type": "code",
   "execution_count": 7,
   "metadata": {
    "collapsed": false
   },
   "outputs": [
    {
     "data": {
      "text/plain": [
       "38294"
      ]
     },
     "execution_count": 7,
     "metadata": {},
     "output_type": "execute_result"
    }
   ],
   "source": [
    "close = dollar_df.price.copy()\n",
    "close = close[~close.index.duplicated(keep='first')]\n",
    "len(close)"
   ]
  },
  {
   "cell_type": "code",
   "execution_count": 8,
   "metadata": {
    "collapsed": false
   },
   "outputs": [],
   "source": [
    "features = pd.DataFrame(index = dollar_df.index, columns = ['price'])\n",
    "features.price = close"
   ]
  },
  {
   "cell_type": "code",
   "execution_count": 9,
   "metadata": {
    "collapsed": false
   },
   "outputs": [],
   "source": [
    "def add_aggressor_side_entropy0(features_df, raw_df):\n",
    "    features_df['aggressor_side_entropy0'] = pd.Series(index = features_df.index)\n",
    "    \n",
    "    for i in tqdm(range(len(features_df.index)-1)):\n",
    "        p = raw_df[features_df.index[i]:features_df.index[i+1]].price\n",
    "        p = p.diff()\n",
    "        p = (p / np.abs(p)).fillna(0) + 1\n",
    "    \n",
    "        msg = ''\n",
    "        for j in p:\n",
    "            msg = msg + str(int(j))\n",
    "\n",
    "        e = konto(msg) \n",
    "        features_df.aggressor_side_entropy0[features_df.index[i + 1]] = e['h']\n",
    "    \n",
    "    return features_df\n",
    "\n"
   ]
  },
  {
   "cell_type": "code",
   "execution_count": 10,
   "metadata": {
    "collapsed": false
   },
   "outputs": [],
   "source": [
    "def add_aggressor_side_entropy1(features_df, raw_df):\n",
    "    features_df['aggressor_side_entropy1'] = pd.Series(index = features_df.index)\n",
    "    \n",
    "    for i in tqdm(range(len(features_df.index)-1)):\n",
    "        vol = raw_df[features_df.index[i]:features_df.index[i+1]].volume\n",
    "        vol = vol / np.abs(vol)\n",
    "        vol = (vol + 1) / 2\n",
    "    \n",
    "        msg = ''\n",
    "        for j in vol:\n",
    "            msg = msg + str(int(j))\n",
    "\n",
    "        e = konto(msg) \n",
    "        features_df.aggressor_side_entropy1[features_df.index[i + 1]] = e['h']\n",
    "    \n",
    "    return features_df"
   ]
  },
  {
   "cell_type": "code",
   "execution_count": 11,
   "metadata": {
    "collapsed": true
   },
   "outputs": [],
   "source": [
    "def add_bsadf(features_df):\n",
    "    features_df['bsadf'] = pd.Series(index = features_df.index)\n",
    "    \n",
    "    price = features_df.price\n",
    "    logp = np.log(price)\n",
    "    \n",
    "    for i in tqdm(range(1,logp.shape[0])):\n",
    "        index = features_df.index[i]        \n",
    "        features_df.bsadf[index] = get_bsadf0(logP = logp[0:i], minSL = 100, constant ='ctt', lags = 16)['gsadf']\n",
    "\n",
    "    return features_df"
   ]
  },
  {
   "cell_type": "code",
   "execution_count": 12,
   "metadata": {
    "collapsed": true
   },
   "outputs": [],
   "source": [
    "def get_quantile_encoding_msg(series, quantile = 10):\n",
    "    Q = np.linspace(.0, 1., quantile + 1)    \n",
    "    \n",
    "    msg = '';\n",
    "    for x in tqdm(series):\n",
    "        for i in range(len(Q)-1):\n",
    "          \n",
    "            q0 = series.quantile(Q[i])\n",
    "            q1 = series.quantile(Q[i+1])\n",
    "            \n",
    "            if x >= q0 and x < q1:\n",
    "                msg = msg + str(int(i))\n",
    "                break\n",
    "                \n",
    "    return msg\n",
    "\n",
    "def add_returns_entropy(features_df, q = 2):\n",
    "    features_df['returns_entropy'] = pd.Series(index = features_df.index)\n",
    "    \n",
    "    s0 = features_df.price[0:-2]\n",
    "    s1 = features_df.price[1:-1]\n",
    "\n",
    "    r = np.log(np.divide(s1,s0))\n",
    "    msg = get_quantile_encoding_msg(r, q)\n",
    "    \n",
    "    for i in tqdm(range(100, len(msg))):\n",
    "        msg0 = msg[0:i]\n",
    "        e = konto(msg0)\n",
    "        \n",
    "        index = features_df.index[i]  \n",
    "        features_df.returns_entropy[index] = e['h']\n",
    "      \n",
    "    return features_df"
   ]
  },
  {
   "cell_type": "code",
   "execution_count": 13,
   "metadata": {
    "collapsed": false
   },
   "outputs": [],
   "source": [
    "def add_buys_volume_entropy(features_df, raw_df, q = 2):\n",
    "    features_df['buys_volume_entropy'] = pd.Series(index = features_df.index)\n",
    "    \n",
    "    s = pd.Series(index = features_df.index)\n",
    "\n",
    "    for i in tqdm(range(len(features_df.index)-1)):\n",
    "        df0 = raw_df[features_df.index[i]:features_df.index[i + 1]]\n",
    "\n",
    "        Vb = df0[df0.volume > 0].volume.sum()\n",
    "        V = df0.volume.abs().sum()\n",
    "\n",
    "        index = features_df.index[i+1] \n",
    "        s[index] = Vb/V\n",
    "    \n",
    "    \n",
    "    s = s.dropna()\n",
    "    msg = get_quantile_encoding_msg(s, 2)\n",
    "\n",
    "    for i in tqdm(range(100, len(msg))):\n",
    "            msg0 = msg[0:i]\n",
    "            e = konto(msg0)\n",
    "\n",
    "            index = features_df.index[i]\n",
    "            features_df.buys_volume_entropy[index] = e['h']\n",
    "    \n",
    "    return features_df"
   ]
  },
  {
   "cell_type": "code",
   "execution_count": 14,
   "metadata": {
    "collapsed": false
   },
   "outputs": [],
   "source": [
    "def add_kyles_lambda(features_df, raw_df):    \n",
    "    features_df['kyles_lambda'] = pd.Series(index = features_df.index)\n",
    "    \n",
    "    from sklearn import linear_model\n",
    "    \n",
    "    for i in tqdm(range(len(features_df.index)-1)):\n",
    "        df0 = raw_df[features_df.index[i]:features_df.index[i + 1]]\n",
    "        \n",
    "        dP = df0.price.diff()\n",
    "        dP = dP.dropna()\n",
    "\n",
    "        bV = df0.volume[dP.index]\n",
    "\n",
    "        dP = np.array(dP)\n",
    "        bV = np.array(bV)\n",
    "\n",
    "        bV = bV.reshape(-1, 1)\n",
    "\n",
    "        regr = linear_model.LinearRegression()\n",
    "        regr.fit(bV, dP)\n",
    "        \n",
    "        index = features_df.index[i]\n",
    "        features_df.kyles_lambda[index] = regr.coef_\n",
    "        \n",
    "    return features_df"
   ]
  },
  {
   "cell_type": "code",
   "execution_count": 15,
   "metadata": {
    "collapsed": false
   },
   "outputs": [],
   "source": [
    "def add_amihuds_lambda(features_df, raw_df, start = 100):\n",
    "    features_df['amihuds_lambda'] = pd.Series(index = features_df.index)\n",
    "\n",
    "    dLogP = np.abs(np.log(features_df.price).diff())\n",
    "    dLogP = dLogP.dropna()\n",
    "    \n",
    "    bV = pd.Series(index = dLogP.index)\n",
    "    \n",
    "    from sklearn import linear_model\n",
    "    \n",
    "    for i in tqdm(range(len(features_df.index)-1)):\n",
    "        index0 = features_df.index[i]\n",
    "        index1 = features_df.index[i + 1]\n",
    "        \n",
    "        df0 = raw_df[index0:index1]        \n",
    "        bV[index1] = df0.volume.sum()\n",
    "    \n",
    "    for i in tqdm(range(start,len(dLogP.index))):        \n",
    "        X = bV.iloc[:i]\n",
    "        Y = dLogP.iloc[:i]\n",
    "        \n",
    "        X = np.array(X)\n",
    "        Y = np.array(Y)\n",
    "        \n",
    "        X = X.reshape(-1, 1)\n",
    "        \n",
    "        regr = linear_model.LinearRegression()\n",
    "        regr.fit(X, Y)\n",
    "    \n",
    "        index = dLogP.index[i]\n",
    "        features_df.amihuds_lambda[index] = regr.coef_\n",
    "        \n",
    "    return features_df"
   ]
  },
  {
   "cell_type": "code",
   "execution_count": 16,
   "metadata": {
    "collapsed": true
   },
   "outputs": [],
   "source": [
    "def add_vpin(features_df, raw_df):\n",
    "    features_df['vpin'] = pd.Series(index = features_df.index)\n",
    "    \n",
    "    Vb = pd.Series(index = features_df.index)\n",
    "    Vs = pd.Series(index = features_df.index)\n",
    "    V  = pd.Series(index = features_df.index)\n",
    "    \n",
    "    for i in tqdm(range(len(features_df.index)-1)):\n",
    "        index0 = features_df.index[i]\n",
    "        index1 = features_df.index[i + 1]\n",
    "        \n",
    "        df0 = raw_df[index0:index1]\n",
    "        \n",
    "        dfB = df0[df0.volume > 0]\n",
    "        dfS = df0[df0.volume < 0]\n",
    "        \n",
    "        Vb[index1] = np.abs(dfB.volume).sum()\n",
    "        Vs[index1] = np.abs(dfS.volume).sum()\n",
    "        \n",
    "        V[index1] = Vb[index1] + Vs[index1]\n",
    "        \n",
    "    V  = V.dropna()\n",
    "    Vb = Vb.dropna()\n",
    "    Vs = Vs.dropna()\n",
    "        \n",
    "    for i in tqdm(range(1, len(features_df.index))):    \n",
    "        Vb0 = Vb.iloc[:i]\n",
    "        Vs0 = Vs.iloc[:i]\n",
    "        V0  = V.iloc[:i]\n",
    "        \n",
    "        index = features_df.index[i]\n",
    "        features_df.vpin[index] = np.abs(np.subtract(Vb0, Vs0)).sum() / V0.sum()\n",
    "        \n",
    "    return features_df        "
   ]
  },
  {
   "cell_type": "code",
   "execution_count": 17,
   "metadata": {
    "collapsed": false
   },
   "outputs": [
    {
     "name": "stderr",
     "output_type": "stream",
     "text": [
      "100%|██████████| 38293/38293 [00:52<00:00, 728.24it/s]  | 1/38293 [00:00<6:40:56,  1.59it/s]\n",
      "100%|██████████| 38293/38293 [00:25<00:00, 1477.60it/s]\n"
     ]
    }
   ],
   "source": [
    "features = add_vpin(features, df)\n",
    "features.vpin = features.vpin - features.vpin.mean()"
   ]
  },
  {
   "cell_type": "code",
   "execution_count": 18,
   "metadata": {
    "collapsed": false
   },
   "outputs": [
    {
     "name": "stderr",
     "output_type": "stream",
     "text": [
      "100%|██████████| 38293/38293 [00:11<00:00, 3388.98it/s] | 298/38293 [00:00<00:12, 2975.87it/s]\n",
      "100%|██████████| 38193/38193 [00:35<00:00, 1072.42it/s]\n"
     ]
    }
   ],
   "source": [
    "features = add_amihuds_lambda(features, df)\n",
    "features.amihuds_lambda = features.amihuds_lambda - features.amihuds_lambda.mean()"
   ]
  },
  {
   "cell_type": "code",
   "execution_count": 20,
   "metadata": {
    "collapsed": false
   },
   "outputs": [
    {
     "name": "stderr",
     "output_type": "stream",
     "text": [
      "  0%|          | 0/38293 [00:00<?, ?it/s]Exception KeyError: KeyError(<weakref at 0x7fc9e29c4f70; to 'tqdm' at 0x7fca207030d0>,) in <bound method tqdm.__del__ of   0%|          | 0/38293 [00:00<?, ?it/s]> ignored\n"
     ]
    },
    {
     "ename": "ValueError",
     "evalue": "cannot reindex from a duplicate axis",
     "output_type": "error",
     "traceback": [
      "\u001b[0;31m---------------------------------------------------------------------------\u001b[0m",
      "\u001b[0;31mValueError\u001b[0m                                Traceback (most recent call last)",
      "\u001b[0;32m<ipython-input-20-6bbac267c15e>\u001b[0m in \u001b[0;36m<module>\u001b[0;34m()\u001b[0m\n\u001b[0;32m----> 1\u001b[0;31m \u001b[0mfeatures\u001b[0m \u001b[0;34m=\u001b[0m \u001b[0madd_kyles_lambda\u001b[0m\u001b[0;34m(\u001b[0m\u001b[0mfeatures\u001b[0m\u001b[0;34m,\u001b[0m \u001b[0mdf\u001b[0m\u001b[0;34m)\u001b[0m\u001b[0;34m\u001b[0m\u001b[0m\n\u001b[0m\u001b[1;32m      2\u001b[0m \u001b[0mfeatures\u001b[0m\u001b[0;34m.\u001b[0m\u001b[0mkyles_lambda\u001b[0m \u001b[0;34m=\u001b[0m \u001b[0mfeatures\u001b[0m\u001b[0;34m.\u001b[0m\u001b[0mkyles_lambda\u001b[0m \u001b[0;34m-\u001b[0m \u001b[0mfeatures\u001b[0m\u001b[0;34m.\u001b[0m\u001b[0mkyles_lambda\u001b[0m\u001b[0;34m.\u001b[0m\u001b[0mmean\u001b[0m\u001b[0;34m(\u001b[0m\u001b[0;34m)\u001b[0m\u001b[0;34m\u001b[0m\u001b[0m\n",
      "\u001b[0;32m<ipython-input-14-255692239e5c>\u001b[0m in \u001b[0;36madd_kyles_lambda\u001b[0;34m(features_df, raw_df)\u001b[0m\n\u001b[1;32m     10\u001b[0m         \u001b[0mdP\u001b[0m \u001b[0;34m=\u001b[0m \u001b[0mdP\u001b[0m\u001b[0;34m.\u001b[0m\u001b[0mdropna\u001b[0m\u001b[0;34m(\u001b[0m\u001b[0;34m)\u001b[0m\u001b[0;34m\u001b[0m\u001b[0m\n\u001b[1;32m     11\u001b[0m \u001b[0;34m\u001b[0m\u001b[0m\n\u001b[0;32m---> 12\u001b[0;31m         \u001b[0mbV\u001b[0m \u001b[0;34m=\u001b[0m \u001b[0mdf0\u001b[0m\u001b[0;34m.\u001b[0m\u001b[0mvolume\u001b[0m\u001b[0;34m[\u001b[0m\u001b[0mdP\u001b[0m\u001b[0;34m.\u001b[0m\u001b[0mindex\u001b[0m\u001b[0;34m]\u001b[0m\u001b[0;34m\u001b[0m\u001b[0m\n\u001b[0m\u001b[1;32m     13\u001b[0m \u001b[0;34m\u001b[0m\u001b[0m\n\u001b[1;32m     14\u001b[0m         \u001b[0mdP\u001b[0m \u001b[0;34m=\u001b[0m \u001b[0mnp\u001b[0m\u001b[0;34m.\u001b[0m\u001b[0marray\u001b[0m\u001b[0;34m(\u001b[0m\u001b[0mdP\u001b[0m\u001b[0;34m)\u001b[0m\u001b[0;34m\u001b[0m\u001b[0m\n",
      "\u001b[0;32m/usr/local/lib/python2.7/dist-packages/pandas/core/series.pyc\u001b[0m in \u001b[0;36m__getitem__\u001b[0;34m(self, key)\u001b[0m\n\u001b[1;32m    808\u001b[0m             \u001b[0mkey\u001b[0m \u001b[0;34m=\u001b[0m \u001b[0mcheck_bool_indexer\u001b[0m\u001b[0;34m(\u001b[0m\u001b[0mself\u001b[0m\u001b[0;34m.\u001b[0m\u001b[0mindex\u001b[0m\u001b[0;34m,\u001b[0m \u001b[0mkey\u001b[0m\u001b[0;34m)\u001b[0m\u001b[0;34m\u001b[0m\u001b[0m\n\u001b[1;32m    809\u001b[0m \u001b[0;34m\u001b[0m\u001b[0m\n\u001b[0;32m--> 810\u001b[0;31m         \u001b[0;32mreturn\u001b[0m \u001b[0mself\u001b[0m\u001b[0;34m.\u001b[0m\u001b[0m_get_with\u001b[0m\u001b[0;34m(\u001b[0m\u001b[0mkey\u001b[0m\u001b[0;34m)\u001b[0m\u001b[0;34m\u001b[0m\u001b[0m\n\u001b[0m\u001b[1;32m    811\u001b[0m \u001b[0;34m\u001b[0m\u001b[0m\n\u001b[1;32m    812\u001b[0m     \u001b[0;32mdef\u001b[0m \u001b[0m_get_with\u001b[0m\u001b[0;34m(\u001b[0m\u001b[0mself\u001b[0m\u001b[0;34m,\u001b[0m \u001b[0mkey\u001b[0m\u001b[0;34m)\u001b[0m\u001b[0;34m:\u001b[0m\u001b[0;34m\u001b[0m\u001b[0m\n",
      "\u001b[0;32m/usr/local/lib/python2.7/dist-packages/pandas/core/series.pyc\u001b[0m in \u001b[0;36m_get_with\u001b[0;34m(self, key)\u001b[0m\n\u001b[1;32m    851\u001b[0m                         \u001b[0;32mreturn\u001b[0m \u001b[0mself\u001b[0m\u001b[0;34m.\u001b[0m\u001b[0mloc\u001b[0m\u001b[0;34m[\u001b[0m\u001b[0mkey\u001b[0m\u001b[0;34m]\u001b[0m\u001b[0;34m\u001b[0m\u001b[0m\n\u001b[1;32m    852\u001b[0m \u001b[0;34m\u001b[0m\u001b[0m\n\u001b[0;32m--> 853\u001b[0;31m                     \u001b[0;32mreturn\u001b[0m \u001b[0mself\u001b[0m\u001b[0;34m.\u001b[0m\u001b[0mreindex\u001b[0m\u001b[0;34m(\u001b[0m\u001b[0mkey\u001b[0m\u001b[0;34m)\u001b[0m\u001b[0;34m\u001b[0m\u001b[0m\n\u001b[0m\u001b[1;32m    854\u001b[0m                 \u001b[0;32mexcept\u001b[0m \u001b[0mException\u001b[0m\u001b[0;34m:\u001b[0m\u001b[0;34m\u001b[0m\u001b[0m\n\u001b[1;32m    855\u001b[0m                     \u001b[0;31m# [slice(0, 5, None)] will break if you convert to ndarray,\u001b[0m\u001b[0;34m\u001b[0m\u001b[0;34m\u001b[0m\u001b[0m\n",
      "\u001b[0;32m/usr/local/lib/python2.7/dist-packages/pandas/core/series.pyc\u001b[0m in \u001b[0;36mreindex\u001b[0;34m(self, index, **kwargs)\u001b[0m\n\u001b[1;32m   3323\u001b[0m     \u001b[0;34m@\u001b[0m\u001b[0mAppender\u001b[0m\u001b[0;34m(\u001b[0m\u001b[0mgeneric\u001b[0m\u001b[0;34m.\u001b[0m\u001b[0m_shared_docs\u001b[0m\u001b[0;34m[\u001b[0m\u001b[0;34m'reindex'\u001b[0m\u001b[0;34m]\u001b[0m \u001b[0;34m%\u001b[0m \u001b[0m_shared_doc_kwargs\u001b[0m\u001b[0;34m)\u001b[0m\u001b[0;34m\u001b[0m\u001b[0m\n\u001b[1;32m   3324\u001b[0m     \u001b[0;32mdef\u001b[0m \u001b[0mreindex\u001b[0m\u001b[0;34m(\u001b[0m\u001b[0mself\u001b[0m\u001b[0;34m,\u001b[0m \u001b[0mindex\u001b[0m\u001b[0;34m=\u001b[0m\u001b[0mNone\u001b[0m\u001b[0;34m,\u001b[0m \u001b[0;34m**\u001b[0m\u001b[0mkwargs\u001b[0m\u001b[0;34m)\u001b[0m\u001b[0;34m:\u001b[0m\u001b[0;34m\u001b[0m\u001b[0m\n\u001b[0;32m-> 3325\u001b[0;31m         \u001b[0;32mreturn\u001b[0m \u001b[0msuper\u001b[0m\u001b[0;34m(\u001b[0m\u001b[0mSeries\u001b[0m\u001b[0;34m,\u001b[0m \u001b[0mself\u001b[0m\u001b[0;34m)\u001b[0m\u001b[0;34m.\u001b[0m\u001b[0mreindex\u001b[0m\u001b[0;34m(\u001b[0m\u001b[0mindex\u001b[0m\u001b[0;34m=\u001b[0m\u001b[0mindex\u001b[0m\u001b[0;34m,\u001b[0m \u001b[0;34m**\u001b[0m\u001b[0mkwargs\u001b[0m\u001b[0;34m)\u001b[0m\u001b[0;34m\u001b[0m\u001b[0m\n\u001b[0m\u001b[1;32m   3326\u001b[0m \u001b[0;34m\u001b[0m\u001b[0m\n\u001b[1;32m   3327\u001b[0m     def drop(self, labels=None, axis=0, index=None, columns=None,\n",
      "\u001b[0;32m/usr/local/lib/python2.7/dist-packages/pandas/core/generic.pyc\u001b[0m in \u001b[0;36mreindex\u001b[0;34m(self, *args, **kwargs)\u001b[0m\n\u001b[1;32m   3687\u001b[0m         \u001b[0;31m# perform the reindex on the axes\u001b[0m\u001b[0;34m\u001b[0m\u001b[0;34m\u001b[0m\u001b[0m\n\u001b[1;32m   3688\u001b[0m         return self._reindex_axes(axes, level, limit, tolerance, method,\n\u001b[0;32m-> 3689\u001b[0;31m                                   fill_value, copy).__finalize__(self)\n\u001b[0m\u001b[1;32m   3690\u001b[0m \u001b[0;34m\u001b[0m\u001b[0m\n\u001b[1;32m   3691\u001b[0m     def _reindex_axes(self, axes, level, limit, tolerance, method, fill_value,\n",
      "\u001b[0;32m/usr/local/lib/python2.7/dist-packages/pandas/core/generic.pyc\u001b[0m in \u001b[0;36m_reindex_axes\u001b[0;34m(self, axes, level, limit, tolerance, method, fill_value, copy)\u001b[0m\n\u001b[1;32m   3705\u001b[0m             obj = obj._reindex_with_indexers({axis: [new_index, indexer]},\n\u001b[1;32m   3706\u001b[0m                                              \u001b[0mfill_value\u001b[0m\u001b[0;34m=\u001b[0m\u001b[0mfill_value\u001b[0m\u001b[0;34m,\u001b[0m\u001b[0;34m\u001b[0m\u001b[0m\n\u001b[0;32m-> 3707\u001b[0;31m                                              copy=copy, allow_dups=False)\n\u001b[0m\u001b[1;32m   3708\u001b[0m \u001b[0;34m\u001b[0m\u001b[0m\n\u001b[1;32m   3709\u001b[0m         \u001b[0;32mreturn\u001b[0m \u001b[0mobj\u001b[0m\u001b[0;34m\u001b[0m\u001b[0m\n",
      "\u001b[0;32m/usr/local/lib/python2.7/dist-packages/pandas/core/generic.pyc\u001b[0m in \u001b[0;36m_reindex_with_indexers\u001b[0;34m(self, reindexers, fill_value, copy, allow_dups)\u001b[0m\n\u001b[1;32m   3808\u001b[0m                                                 \u001b[0mfill_value\u001b[0m\u001b[0;34m=\u001b[0m\u001b[0mfill_value\u001b[0m\u001b[0;34m,\u001b[0m\u001b[0;34m\u001b[0m\u001b[0m\n\u001b[1;32m   3809\u001b[0m                                                 \u001b[0mallow_dups\u001b[0m\u001b[0;34m=\u001b[0m\u001b[0mallow_dups\u001b[0m\u001b[0;34m,\u001b[0m\u001b[0;34m\u001b[0m\u001b[0m\n\u001b[0;32m-> 3810\u001b[0;31m                                                 copy=copy)\n\u001b[0m\u001b[1;32m   3811\u001b[0m \u001b[0;34m\u001b[0m\u001b[0m\n\u001b[1;32m   3812\u001b[0m         \u001b[0;32mif\u001b[0m \u001b[0mcopy\u001b[0m \u001b[0;32mand\u001b[0m \u001b[0mnew_data\u001b[0m \u001b[0;32mis\u001b[0m \u001b[0mself\u001b[0m\u001b[0;34m.\u001b[0m\u001b[0m_data\u001b[0m\u001b[0;34m:\u001b[0m\u001b[0;34m\u001b[0m\u001b[0m\n",
      "\u001b[0;32m/usr/local/lib/python2.7/dist-packages/pandas/core/internals.pyc\u001b[0m in \u001b[0;36mreindex_indexer\u001b[0;34m(self, new_axis, indexer, axis, fill_value, allow_dups, copy)\u001b[0m\n\u001b[1;32m   4412\u001b[0m         \u001b[0;31m# some axes don't allow reindexing with dups\u001b[0m\u001b[0;34m\u001b[0m\u001b[0;34m\u001b[0m\u001b[0m\n\u001b[1;32m   4413\u001b[0m         \u001b[0;32mif\u001b[0m \u001b[0;32mnot\u001b[0m \u001b[0mallow_dups\u001b[0m\u001b[0;34m:\u001b[0m\u001b[0;34m\u001b[0m\u001b[0m\n\u001b[0;32m-> 4414\u001b[0;31m             \u001b[0mself\u001b[0m\u001b[0;34m.\u001b[0m\u001b[0maxes\u001b[0m\u001b[0;34m[\u001b[0m\u001b[0maxis\u001b[0m\u001b[0;34m]\u001b[0m\u001b[0;34m.\u001b[0m\u001b[0m_can_reindex\u001b[0m\u001b[0;34m(\u001b[0m\u001b[0mindexer\u001b[0m\u001b[0;34m)\u001b[0m\u001b[0;34m\u001b[0m\u001b[0m\n\u001b[0m\u001b[1;32m   4415\u001b[0m \u001b[0;34m\u001b[0m\u001b[0m\n\u001b[1;32m   4416\u001b[0m         \u001b[0;32mif\u001b[0m \u001b[0maxis\u001b[0m \u001b[0;34m>=\u001b[0m \u001b[0mself\u001b[0m\u001b[0;34m.\u001b[0m\u001b[0mndim\u001b[0m\u001b[0;34m:\u001b[0m\u001b[0;34m\u001b[0m\u001b[0m\n",
      "\u001b[0;32m/usr/local/lib/python2.7/dist-packages/pandas/core/indexes/base.pyc\u001b[0m in \u001b[0;36m_can_reindex\u001b[0;34m(self, indexer)\u001b[0m\n\u001b[1;32m   3574\u001b[0m         \u001b[0;31m# trying to reindex on an axis with duplicates\u001b[0m\u001b[0;34m\u001b[0m\u001b[0;34m\u001b[0m\u001b[0m\n\u001b[1;32m   3575\u001b[0m         \u001b[0;32mif\u001b[0m \u001b[0;32mnot\u001b[0m \u001b[0mself\u001b[0m\u001b[0;34m.\u001b[0m\u001b[0mis_unique\u001b[0m \u001b[0;32mand\u001b[0m \u001b[0mlen\u001b[0m\u001b[0;34m(\u001b[0m\u001b[0mindexer\u001b[0m\u001b[0;34m)\u001b[0m\u001b[0;34m:\u001b[0m\u001b[0;34m\u001b[0m\u001b[0m\n\u001b[0;32m-> 3576\u001b[0;31m             \u001b[0;32mraise\u001b[0m \u001b[0mValueError\u001b[0m\u001b[0;34m(\u001b[0m\u001b[0;34m\"cannot reindex from a duplicate axis\"\u001b[0m\u001b[0;34m)\u001b[0m\u001b[0;34m\u001b[0m\u001b[0m\n\u001b[0m\u001b[1;32m   3577\u001b[0m \u001b[0;34m\u001b[0m\u001b[0m\n\u001b[1;32m   3578\u001b[0m     def reindex(self, target, method=None, level=None, limit=None,\n",
      "\u001b[0;31mValueError\u001b[0m: cannot reindex from a duplicate axis"
     ]
    }
   ],
   "source": [
    "features = add_kyles_lambda(features, df)\n",
    "features.kyles_lambda = features.kyles_lambda - features.kyles_lambda.mean()"
   ]
  },
  {
   "cell_type": "code",
   "execution_count": 17,
   "metadata": {
    "collapsed": false
   },
   "outputs": [],
   "source": [
    "#%matplotlib\n",
    "#f, ax = plt.subplots(2)\n",
    "\n",
    "#features.price.plot(ax=ax[0])\n",
    "#features.vpin.plot(ax=ax[1])\n",
    "#features.kyles_lambda.plot(ax=ax[1])\n",
    "#features.amihuds_lambda.plot(ax=ax[2])\n",
    "\n",
    "#plt.scatter(bV, dP)\n",
    "#plt.plot(bV, regr.predict(bV))\n",
    "\n"
   ]
  },
  {
   "cell_type": "code",
   "execution_count": 18,
   "metadata": {
    "collapsed": false
   },
   "outputs": [
    {
     "name": "stderr",
     "output_type": "stream",
     "text": [
      "100%|██████████| 799/799 [00:00<00:00, 1017.28it/s]   | 93/799 [00:00<00:00, 929.41it/s]\n",
      "100%|██████████| 799/799 [00:00<00:00, 1895.88it/s]\n",
      "100%|██████████| 693/693 [05:13<00:00,  2.21it/s]\n"
     ]
    }
   ],
   "source": [
    "features = add_buys_volume_entropy(features, df, q = 4)\n",
    "features.buys_volume_entropy = features.buys_volume_entropy - features.buys_volume_entropy.mean()\n"
   ]
  },
  {
   "cell_type": "code",
   "execution_count": 13,
   "metadata": {
    "collapsed": false
   },
   "outputs": [
    {
     "name": "stdout",
     "output_type": "stream",
     "text": [
      "Using matplotlib backend: TkAgg\n",
      "nan\n"
     ]
    }
   ],
   "source": [
    "#%matplotlib\n",
    "#f, ax = plt.subplots(2)\n",
    "\n",
    "#features.buys_volume_entropy.plot(ax=ax[0])\n",
    "#features.price.plot(ax=ax[1])\n",
    "\n",
    "#corr = np.corrcoef(features.buys_volume_entropy, features.price)[0,1]\n",
    "#print corr"
   ]
  },
  {
   "cell_type": "code",
   "execution_count": 19,
   "metadata": {
    "collapsed": false
   },
   "outputs": [
    {
     "name": "stderr",
     "output_type": "stream",
     "text": [
      "100%|██████████| 799/799 [05:37<00:00,  2.37it/s]     | 108/799 [00:00<00:00, 1003.10it/s]\n"
     ]
    }
   ],
   "source": [
    "features = add_bsadf(features)\n",
    "features.bsadf = features.bsadf - features.bsadf.mean()"
   ]
  },
  {
   "cell_type": "code",
   "execution_count": 20,
   "metadata": {
    "collapsed": false
   },
   "outputs": [
    {
     "name": "stderr",
     "output_type": "stream",
     "text": [
      "100%|██████████| 798/798 [00:00<00:00, 1835.41it/s]   | 175/798 [00:00<00:00, 1737.82it/s]\n",
      "100%|██████████| 697/697 [07:28<00:00,  1.56it/s]\n"
     ]
    }
   ],
   "source": [
    "features = add_returns_entropy(features)\n",
    "features.returns_entropy = features.returns_entropy - features.returns_entropy.mean()"
   ]
  },
  {
   "cell_type": "code",
   "execution_count": 21,
   "metadata": {
    "collapsed": false
   },
   "outputs": [
    {
     "name": "stderr",
     "output_type": "stream",
     "text": [
      "100%|██████████| 799/799 [03:08<00:00,  4.25it/s]     | 3/799 [00:00<01:32,  8.63it/s]\n"
     ]
    }
   ],
   "source": [
    "#features = add_aggressor_side_entropy0(features, df)\n",
    "#features.aggressor_side_entropy0 = features.aggressor_side_entropy0 - features.aggressor_side_entropy0.mean()\n",
    "\n",
    "features = add_aggressor_side_entropy1(features, df)\n",
    "features.aggressor_side_entropy1 = features.aggressor_side_entropy1 - features.aggressor_side_entropy1.mean()\n"
   ]
  },
  {
   "cell_type": "code",
   "execution_count": 23,
   "metadata": {
    "collapsed": false
   },
   "outputs": [
    {
     "data": {
      "text/plain": [
       "Index([u'price', u'vpin', u'amihuds_lambda', u'kyles_lambda'], dtype='object')"
      ]
     },
     "execution_count": 23,
     "metadata": {},
     "output_type": "execute_result"
    }
   ],
   "source": [
    "features = features.dropna()\n",
    "features.columns\n",
    "\n",
    "#features.bsadf = features.bsadf - features.bsadf.mean()\n"
   ]
  },
  {
   "cell_type": "code",
   "execution_count": 22,
   "metadata": {
    "collapsed": false
   },
   "outputs": [
    {
     "name": "stdout",
     "output_type": "stream",
     "text": [
      "Using matplotlib backend: TkAgg\n"
     ]
    },
    {
     "ename": "TypeError",
     "evalue": "Empty 'DataFrame': no numeric data to plot",
     "output_type": "error",
     "traceback": [
      "\u001b[0;31m---------------------------------------------------------------------------\u001b[0m",
      "\u001b[0;31mTypeError\u001b[0m                                 Traceback (most recent call last)",
      "\u001b[0;32m<ipython-input-22-2378bd040c5a>\u001b[0m in \u001b[0;36m<module>\u001b[0;34m()\u001b[0m\n\u001b[1;32m      2\u001b[0m \u001b[0mf\u001b[0m\u001b[0;34m,\u001b[0m \u001b[0max\u001b[0m \u001b[0;34m=\u001b[0m \u001b[0mplt\u001b[0m\u001b[0;34m.\u001b[0m\u001b[0msubplots\u001b[0m\u001b[0;34m(\u001b[0m\u001b[0;36m3\u001b[0m\u001b[0;34m)\u001b[0m\u001b[0;34m\u001b[0m\u001b[0m\n\u001b[1;32m      3\u001b[0m \u001b[0;34m\u001b[0m\u001b[0m\n\u001b[0;32m----> 4\u001b[0;31m \u001b[0mfeatures\u001b[0m\u001b[0;34m.\u001b[0m\u001b[0mprice\u001b[0m\u001b[0;34m.\u001b[0m\u001b[0mplot\u001b[0m\u001b[0;34m(\u001b[0m\u001b[0max\u001b[0m\u001b[0;34m=\u001b[0m\u001b[0max\u001b[0m\u001b[0;34m[\u001b[0m\u001b[0;36m0\u001b[0m\u001b[0;34m]\u001b[0m\u001b[0;34m,\u001b[0m \u001b[0mtitle\u001b[0m \u001b[0;34m=\u001b[0m \u001b[0;34m'Price'\u001b[0m\u001b[0;34m)\u001b[0m\u001b[0;34m\u001b[0m\u001b[0m\n\u001b[0m\u001b[1;32m      5\u001b[0m \u001b[0mfeatures\u001b[0m\u001b[0;34m.\u001b[0m\u001b[0mvpin\u001b[0m\u001b[0;34m.\u001b[0m\u001b[0mplot\u001b[0m\u001b[0;34m(\u001b[0m\u001b[0max\u001b[0m\u001b[0;34m=\u001b[0m\u001b[0max\u001b[0m\u001b[0;34m[\u001b[0m\u001b[0;36m1\u001b[0m\u001b[0;34m]\u001b[0m\u001b[0;34m,\u001b[0m \u001b[0mtitle\u001b[0m \u001b[0;34m=\u001b[0m \u001b[0;34m'vpin'\u001b[0m\u001b[0;34m)\u001b[0m\u001b[0;34m\u001b[0m\u001b[0m\n\u001b[1;32m      6\u001b[0m \u001b[0mfeatures\u001b[0m\u001b[0;34m.\u001b[0m\u001b[0mamihuds_lambda\u001b[0m\u001b[0;34m.\u001b[0m\u001b[0mplot\u001b[0m\u001b[0;34m(\u001b[0m\u001b[0max\u001b[0m\u001b[0;34m=\u001b[0m\u001b[0max\u001b[0m\u001b[0;34m[\u001b[0m\u001b[0;36m2\u001b[0m\u001b[0;34m]\u001b[0m\u001b[0;34m,\u001b[0m \u001b[0mtitle\u001b[0m \u001b[0;34m=\u001b[0m \u001b[0;34m'amihuds_lambda'\u001b[0m\u001b[0;34m)\u001b[0m\u001b[0;34m\u001b[0m\u001b[0m\n",
      "\u001b[0;32m/usr/local/lib/python2.7/dist-packages/pandas/plotting/_core.pyc\u001b[0m in \u001b[0;36m__call__\u001b[0;34m(self, kind, ax, figsize, use_index, title, grid, legend, style, logx, logy, loglog, xticks, yticks, xlim, ylim, rot, fontsize, colormap, table, yerr, xerr, label, secondary_y, **kwds)\u001b[0m\n\u001b[1;32m   2739\u001b[0m                            \u001b[0mcolormap\u001b[0m\u001b[0;34m=\u001b[0m\u001b[0mcolormap\u001b[0m\u001b[0;34m,\u001b[0m \u001b[0mtable\u001b[0m\u001b[0;34m=\u001b[0m\u001b[0mtable\u001b[0m\u001b[0;34m,\u001b[0m \u001b[0myerr\u001b[0m\u001b[0;34m=\u001b[0m\u001b[0myerr\u001b[0m\u001b[0;34m,\u001b[0m\u001b[0;34m\u001b[0m\u001b[0m\n\u001b[1;32m   2740\u001b[0m                            \u001b[0mxerr\u001b[0m\u001b[0;34m=\u001b[0m\u001b[0mxerr\u001b[0m\u001b[0;34m,\u001b[0m \u001b[0mlabel\u001b[0m\u001b[0;34m=\u001b[0m\u001b[0mlabel\u001b[0m\u001b[0;34m,\u001b[0m \u001b[0msecondary_y\u001b[0m\u001b[0;34m=\u001b[0m\u001b[0msecondary_y\u001b[0m\u001b[0;34m,\u001b[0m\u001b[0;34m\u001b[0m\u001b[0m\n\u001b[0;32m-> 2741\u001b[0;31m                            **kwds)\n\u001b[0m\u001b[1;32m   2742\u001b[0m     \u001b[0m__call__\u001b[0m\u001b[0;34m.\u001b[0m\u001b[0m__doc__\u001b[0m \u001b[0;34m=\u001b[0m \u001b[0mplot_series\u001b[0m\u001b[0;34m.\u001b[0m\u001b[0m__doc__\u001b[0m\u001b[0;34m\u001b[0m\u001b[0m\n\u001b[1;32m   2743\u001b[0m \u001b[0;34m\u001b[0m\u001b[0m\n",
      "\u001b[0;32m/usr/local/lib/python2.7/dist-packages/pandas/plotting/_core.pyc\u001b[0m in \u001b[0;36mplot_series\u001b[0;34m(data, kind, ax, figsize, use_index, title, grid, legend, style, logx, logy, loglog, xticks, yticks, xlim, ylim, rot, fontsize, colormap, table, yerr, xerr, label, secondary_y, **kwds)\u001b[0m\n\u001b[1;32m   2000\u001b[0m                  \u001b[0myerr\u001b[0m\u001b[0;34m=\u001b[0m\u001b[0myerr\u001b[0m\u001b[0;34m,\u001b[0m \u001b[0mxerr\u001b[0m\u001b[0;34m=\u001b[0m\u001b[0mxerr\u001b[0m\u001b[0;34m,\u001b[0m\u001b[0;34m\u001b[0m\u001b[0m\n\u001b[1;32m   2001\u001b[0m                  \u001b[0mlabel\u001b[0m\u001b[0;34m=\u001b[0m\u001b[0mlabel\u001b[0m\u001b[0;34m,\u001b[0m \u001b[0msecondary_y\u001b[0m\u001b[0;34m=\u001b[0m\u001b[0msecondary_y\u001b[0m\u001b[0;34m,\u001b[0m\u001b[0;34m\u001b[0m\u001b[0m\n\u001b[0;32m-> 2002\u001b[0;31m                  **kwds)\n\u001b[0m\u001b[1;32m   2003\u001b[0m \u001b[0;34m\u001b[0m\u001b[0m\n\u001b[1;32m   2004\u001b[0m \u001b[0;34m\u001b[0m\u001b[0m\n",
      "\u001b[0;32m/usr/local/lib/python2.7/dist-packages/pandas/plotting/_core.pyc\u001b[0m in \u001b[0;36m_plot\u001b[0;34m(data, x, y, subplots, ax, kind, **kwds)\u001b[0m\n\u001b[1;32m   1802\u001b[0m         \u001b[0mplot_obj\u001b[0m \u001b[0;34m=\u001b[0m \u001b[0mklass\u001b[0m\u001b[0;34m(\u001b[0m\u001b[0mdata\u001b[0m\u001b[0;34m,\u001b[0m \u001b[0msubplots\u001b[0m\u001b[0;34m=\u001b[0m\u001b[0msubplots\u001b[0m\u001b[0;34m,\u001b[0m \u001b[0max\u001b[0m\u001b[0;34m=\u001b[0m\u001b[0max\u001b[0m\u001b[0;34m,\u001b[0m \u001b[0mkind\u001b[0m\u001b[0;34m=\u001b[0m\u001b[0mkind\u001b[0m\u001b[0;34m,\u001b[0m \u001b[0;34m**\u001b[0m\u001b[0mkwds\u001b[0m\u001b[0;34m)\u001b[0m\u001b[0;34m\u001b[0m\u001b[0m\n\u001b[1;32m   1803\u001b[0m \u001b[0;34m\u001b[0m\u001b[0m\n\u001b[0;32m-> 1804\u001b[0;31m     \u001b[0mplot_obj\u001b[0m\u001b[0;34m.\u001b[0m\u001b[0mgenerate\u001b[0m\u001b[0;34m(\u001b[0m\u001b[0;34m)\u001b[0m\u001b[0;34m\u001b[0m\u001b[0m\n\u001b[0m\u001b[1;32m   1805\u001b[0m     \u001b[0mplot_obj\u001b[0m\u001b[0;34m.\u001b[0m\u001b[0mdraw\u001b[0m\u001b[0;34m(\u001b[0m\u001b[0;34m)\u001b[0m\u001b[0;34m\u001b[0m\u001b[0m\n\u001b[1;32m   1806\u001b[0m     \u001b[0;32mreturn\u001b[0m \u001b[0mplot_obj\u001b[0m\u001b[0;34m.\u001b[0m\u001b[0mresult\u001b[0m\u001b[0;34m\u001b[0m\u001b[0m\n",
      "\u001b[0;32m/usr/local/lib/python2.7/dist-packages/pandas/plotting/_core.pyc\u001b[0m in \u001b[0;36mgenerate\u001b[0;34m(self)\u001b[0m\n\u001b[1;32m    256\u001b[0m     \u001b[0;32mdef\u001b[0m \u001b[0mgenerate\u001b[0m\u001b[0;34m(\u001b[0m\u001b[0mself\u001b[0m\u001b[0;34m)\u001b[0m\u001b[0;34m:\u001b[0m\u001b[0;34m\u001b[0m\u001b[0m\n\u001b[1;32m    257\u001b[0m         \u001b[0mself\u001b[0m\u001b[0;34m.\u001b[0m\u001b[0m_args_adjust\u001b[0m\u001b[0;34m(\u001b[0m\u001b[0;34m)\u001b[0m\u001b[0;34m\u001b[0m\u001b[0m\n\u001b[0;32m--> 258\u001b[0;31m         \u001b[0mself\u001b[0m\u001b[0;34m.\u001b[0m\u001b[0m_compute_plot_data\u001b[0m\u001b[0;34m(\u001b[0m\u001b[0;34m)\u001b[0m\u001b[0;34m\u001b[0m\u001b[0m\n\u001b[0m\u001b[1;32m    259\u001b[0m         \u001b[0mself\u001b[0m\u001b[0;34m.\u001b[0m\u001b[0m_setup_subplots\u001b[0m\u001b[0;34m(\u001b[0m\u001b[0;34m)\u001b[0m\u001b[0;34m\u001b[0m\u001b[0m\n\u001b[1;32m    260\u001b[0m         \u001b[0mself\u001b[0m\u001b[0;34m.\u001b[0m\u001b[0m_make_plot\u001b[0m\u001b[0;34m(\u001b[0m\u001b[0;34m)\u001b[0m\u001b[0;34m\u001b[0m\u001b[0m\n",
      "\u001b[0;32m/usr/local/lib/python2.7/dist-packages/pandas/plotting/_core.pyc\u001b[0m in \u001b[0;36m_compute_plot_data\u001b[0;34m(self)\u001b[0m\n\u001b[1;32m    371\u001b[0m         \u001b[0;32mif\u001b[0m \u001b[0mis_empty\u001b[0m\u001b[0;34m:\u001b[0m\u001b[0;34m\u001b[0m\u001b[0m\n\u001b[1;32m    372\u001b[0m             raise TypeError('Empty {0!r}: no numeric data to '\n\u001b[0;32m--> 373\u001b[0;31m                             'plot'.format(numeric_data.__class__.__name__))\n\u001b[0m\u001b[1;32m    374\u001b[0m \u001b[0;34m\u001b[0m\u001b[0m\n\u001b[1;32m    375\u001b[0m         \u001b[0mself\u001b[0m\u001b[0;34m.\u001b[0m\u001b[0mdata\u001b[0m \u001b[0;34m=\u001b[0m \u001b[0mnumeric_data\u001b[0m\u001b[0;34m\u001b[0m\u001b[0m\n",
      "\u001b[0;31mTypeError\u001b[0m: Empty 'DataFrame': no numeric data to plot"
     ]
    }
   ],
   "source": [
    "%matplotlib\n",
    "f, ax = plt.subplots(3)\n",
    "\n",
    "features.price.plot(ax=ax[0], title = 'Price')\n",
    "features.vpin.plot(ax=ax[1], title = 'vpin')\n",
    "features.amihuds_lambda.plot(ax=ax[2], title = 'amihuds_lambda')\n",
    "#features.kyles_lambda.plot(ax=ax[3], title = 'kyles_lambda')\n",
    "#features.buys_volume_entropy.plot(ax=ax[4], title = 'buys_volume_entropy')\n",
    "#features.bsadf.plot(ax=ax[5], title = 'bsadf')\n",
    "#features.returns_entropy.plot(ax=ax[6], title = 'returns_entropy')\n",
    "#features.aggressor_side_entropy1.plot(ax=ax[7], title = 'aggressor_side_entropy1')"
   ]
  },
  {
   "cell_type": "code",
   "execution_count": 54,
   "metadata": {
    "collapsed": false
   },
   "outputs": [
    {
     "name": "stderr",
     "output_type": "stream",
     "text": [
      "  0%|          | 0/691 [00:00<?, ?it/s]100%|██████████| 691/691 [00:00<00:00, 10320.39it/s]\n",
      "100%|██████████| 691/691 [00:00<00:00, 9902.40it/s]\n"
     ]
    }
   ],
   "source": [
    "h0_0 = features.aggressor_side_entropy1.std()\n",
    "h0_1 = features.bsadf.std()\n",
    "\n",
    "tEvents0, _, _ = getTEvents(features.aggressor_side_entropy1, h = 3. * h0_0)\n",
    "tEvents1, _, _ = getTEvents(features.bsadf, h = h0_1)\n"
   ]
  },
  {
   "cell_type": "code",
   "execution_count": 55,
   "metadata": {
    "collapsed": false
   },
   "outputs": [],
   "source": [
    "#corr = np.corrcoef(features.vpin, features.price)[0,1]\n",
    "#print corr"
   ]
  },
  {
   "cell_type": "code",
   "execution_count": 56,
   "metadata": {
    "collapsed": false
   },
   "outputs": [
    {
     "name": "stdout",
     "output_type": "stream",
     "text": [
      "Using matplotlib backend: TkAgg\n"
     ]
    },
    {
     "data": {
      "text/plain": [
       "<matplotlib.axes._subplots.AxesSubplot at 0x7fc182cdc4d0>"
      ]
     },
     "execution_count": 56,
     "metadata": {},
     "output_type": "execute_result"
    }
   ],
   "source": [
    "%matplotlib\n",
    "\n",
    "close_p = features.price\n",
    "close_t0 = features.price.loc[tEvents0]\n",
    "close_t1 = features.price.loc[tEvents1]\n",
    "\n",
    "f,ax = plt.subplots()\n",
    "\n",
    "close_p.plot(ax = ax)\n",
    "#close_t0.plot(ax = ax, ls = '', marker = 'o', markersize = 8, color = 'r')\n",
    "close_t1.plot(ax = ax, ls = '', marker = 'v', markersize = 8, color = 'r')\n",
    "\n"
   ]
  },
  {
   "cell_type": "code",
   "execution_count": 69,
   "metadata": {
    "collapsed": false
   },
   "outputs": [
    {
     "name": "stderr",
     "output_type": "stream",
     "text": [
      "2018-11-04 12:42:01.017260 33.33% applyPtSlOnT1 done after 0.0 minutes. Remaining 0.0 minutes.\r",
      "2018-11-04 12:42:01.045902 66.67% applyPtSlOnT1 done after 0.0 minutes. Remaining 0.0 minutes.\r",
      "2018-11-04 12:42:01.047946 100.0% applyPtSlOnT1 done after 0.0 minutes. Remaining 0.0 minutes.\n"
     ]
    }
   ],
   "source": [
    "t1 = False\n",
    "ptSl = [1,1]\n",
    "target = getDailyVol(features.price, 100)\n",
    "minRet = 0.01\n",
    "cpus = cpu_count() - 1\n",
    "\n",
    "events = getEvents(features.price, tEvents, ptSl, target, minRet, cpus, t1=t1)"
   ]
  },
  {
   "cell_type": "code",
   "execution_count": 70,
   "metadata": {
    "collapsed": false
   },
   "outputs": [
    {
     "data": {
      "text/plain": [
       " 1.0    58\n",
       "-1.0    41\n",
       "Name: bin, dtype: int64"
      ]
     },
     "execution_count": 70,
     "metadata": {},
     "output_type": "execute_result"
    }
   ],
   "source": [
    "labels = getBins(events, features.price)\n",
    "labels.bin.value_counts()"
   ]
  },
  {
   "cell_type": "code",
   "execution_count": 71,
   "metadata": {
    "collapsed": false
   },
   "outputs": [
    {
     "name": "stdout",
     "output_type": "stream",
     "text": [
      "Using matplotlib backend: TkAgg\n"
     ]
    },
    {
     "data": {
      "text/plain": [
       "<matplotlib.axes._subplots.AxesSubplot at 0x7fc196602250>"
      ]
     },
     "execution_count": 71,
     "metadata": {},
     "output_type": "execute_result"
    }
   ],
   "source": [
    "%matplotlib\n",
    "\n",
    "lbuy = labels[labels['bin'] > 0]\n",
    "lsell = labels[labels['bin'] < 0]\n",
    "\n",
    "price_buy = close.loc[lbuy.index]\n",
    "price_sell = close.loc[lsell.index]\n",
    "\n",
    "f,ax = plt.subplots()\n",
    "close.plot(ax=ax)\n",
    "\n",
    "price_buy.plot(ax=ax, ls = '', marker = '^', markersize = 7, color = 'g')\n",
    "price_sell.plot(ax=ax, ls = '', marker = 'v', markersize = 7, color = 'r')"
   ]
  },
  {
   "cell_type": "code",
   "execution_count": 74,
   "metadata": {
    "collapsed": false
   },
   "outputs": [
    {
     "data": {
      "text/plain": [
       "DatetimeIndex(['2018-08-18 07:46:53.286000', '2018-08-18 07:53:46.468000',\n",
       "               '2018-08-18 08:03:36.403000', '2018-08-18 08:37:58.223000',\n",
       "               '2018-08-18 09:28:56.130000', '2018-08-18 10:10:45.035000',\n",
       "               '2018-08-18 11:02:25.933000', '2018-08-18 11:30:02.515000',\n",
       "               '2018-08-18 12:37:31.197000', '2018-08-18 12:53:31.956000',\n",
       "               ...\n",
       "               '2018-08-23 07:29:42.535000', '2018-08-23 07:40:32.223000',\n",
       "               '2018-08-23 08:05:02.421000', '2018-08-23 08:45:07.964000',\n",
       "               '2018-08-23 09:17:21.299000', '2018-08-23 09:24:43.107000',\n",
       "               '2018-08-23 09:26:13.295000', '2018-08-23 09:42:24.280000',\n",
       "               '2018-08-23 10:14:36.584000', '2018-08-23 10:28:30.312000'],\n",
       "              dtype='datetime64[ns]', name=u'dates', length=692, freq=None)"
      ]
     },
     "execution_count": 74,
     "metadata": {},
     "output_type": "execute_result"
    }
   ],
   "source": [
    "features.index"
   ]
  },
  {
   "cell_type": "code",
   "execution_count": null,
   "metadata": {
    "collapsed": true
   },
   "outputs": [],
   "source": []
  }
 ],
 "metadata": {
  "kernelspec": {
   "display_name": "Python 2",
   "language": "python",
   "name": "python2"
  },
  "language_info": {
   "codemirror_mode": {
    "name": "ipython",
    "version": 2
   },
   "file_extension": ".py",
   "mimetype": "text/x-python",
   "name": "python",
   "nbconvert_exporter": "python",
   "pygments_lexer": "ipython2",
   "version": "2.7.12"
  }
 },
 "nbformat": 4,
 "nbformat_minor": 2
}
