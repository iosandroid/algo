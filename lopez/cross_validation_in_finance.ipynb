{
 "cells": [
  {
   "cell_type": "code",
   "execution_count": 1,
   "metadata": {
    "collapsed": false
   },
   "outputs": [
    {
     "name": "stdout",
     "output_type": "stream",
     "text": [
      "Using matplotlib backend: TkAgg\n"
     ]
    },
    {
     "name": "stderr",
     "output_type": "stream",
     "text": [
      "/usr/local/lib/python2.7/dist-packages/statsmodels/compat/pandas.py:56: FutureWarning: The pandas.core.datetools module is deprecated and will be removed in a future version. Please use the pandas.tseries module instead.\n",
      "  from pandas.core import datetools\n"
     ]
    }
   ],
   "source": [
    "import sys\n",
    "import math\n",
    "\n",
    "import time\n",
    "import numpy as np\n",
    "import pandas as pd\n",
    "import matplotlib.pyplot as plt\n",
    "import missingno as msno\n",
    "import seaborn as sns\n",
    "import scipy.stats as stats\n",
    "\n",
    "from sklearn.svm import SVC\n",
    "from sklearn.tree import DecisionTreeClassifier\n",
    "from sklearn.ensemble import RandomForestClassifier, BaggingClassifier\n",
    "from sklearn.model_selection import train_test_split, cross_val_score, ShuffleSplit\n",
    "from sklearn.metrics import roc_curve, classification_report\n",
    "\n",
    "from multiprocessing import cpu_count\n",
    "from tqdm import tqdm, tqdm_notebook\n",
    "\n",
    "from mpengine import mpPandasObj\n",
    "from util import cprintf\n",
    "\n",
    "from zig_zag import zig_zag_df\n",
    "from statsmodels.tsa.stattools import adfuller\n",
    "from sample_weights import mpNumCoEvents, mpSampleW, mpSampleTW, getAvgUniqueness, getIndMatrix\n",
    "from financial_data_structures import dollar_bar_df0\n",
    "from cross_validation_in_finance import PurgedKFold, cvScore\n",
    "from labeling import getDailyVol, getTEvents, addVerticalBarrier, getEvents, getBins, getBinsOld, df_returns, df_rolling_autocorr\n",
    "from fractionally_differentiated_features import fracDiff, fracDiff_FFD, plotMinFFD\n",
    "\n",
    "%matplotlib"
   ]
  },
  {
   "cell_type": "code",
   "execution_count": 2,
   "metadata": {
    "collapsed": false,
    "scrolled": true
   },
   "outputs": [],
   "source": [
    "filepath = '~/Dev/notebook/lopez/data/bitfinex_BTCUSD_trades.csv'\n",
    "#filepath = '~/Dev/notebook/lopez/data/btcusd_trades.csv'\n",
    "cols = list(map(str.lower, ['Datetime','Amount','Price','<Unknown>']))\n",
    "columns = dict(zip(range(len(cols)), cols))\n",
    "\n",
    "df = pd.read_csv(filepath, header = None).rename(columns = columns).assign(dates = lambda df: (pd.to_datetime(df['datetime'], format='%Y-%m-%d %H:%M:%S.%f'))).assign(dollar_volume=lambda df: df['amount'] * df['price']).assign(volume=lambda df: df['amount']).drop(['datetime', '<unknown>'], axis = 1).set_index('dates').drop_duplicates()\n",
    "df = df.iloc[::-1]"
   ]
  },
  {
   "cell_type": "code",
   "execution_count": 3,
   "metadata": {
    "collapsed": false
   },
   "outputs": [
    {
     "name": "stderr",
     "output_type": "stream",
     "text": [
      "100%|██████████| 971615/971615 [00:00<00:00, 2953639.52it/s]83427/971615 [00:00<00:00, 2833644.40it/s]\n",
      "100%|██████████| 3039/3039 [00:06<00:00, 485.94it/s]\n"
     ]
    }
   ],
   "source": [
    "dollar_M = 1000000\n",
    "dollar_df = dollar_bar_df0(df, 'dollar_volume', dollar_M)"
   ]
  },
  {
   "cell_type": "code",
   "execution_count": 4,
   "metadata": {
    "collapsed": false
   },
   "outputs": [],
   "source": [
    "#dollar_df"
   ]
  },
  {
   "cell_type": "code",
   "execution_count": 5,
   "metadata": {
    "collapsed": false
   },
   "outputs": [],
   "source": [
    "close = dollar_df.price.copy()\n",
    "close = close[~close.index.duplicated(keep='first')]\n",
    "\n",
    "vwap = dollar_df.vwap.copy()\n",
    "vwap = vwap.loc[close.index]\n",
    "\n",
    "high = dollar_df.high.copy()\n",
    "high = high.loc[close.index]\n",
    "\n",
    "low = dollar_df.low.copy()\n",
    "low = low.loc[close.index]\n",
    "\n",
    "volPos = dollar_df.vol_pos.copy()\n",
    "volPos = volPos.loc[close.index]\n",
    "\n",
    "volNeg = dollar_df.vol_neg.copy()\n",
    "volNeg = volNeg.loc[close.index]"
   ]
  },
  {
   "cell_type": "code",
   "execution_count": 6,
   "metadata": {
    "collapsed": false
   },
   "outputs": [
    {
     "name": "stdout",
     "output_type": "stream",
     "text": [
      "Using matplotlib backend: TkAgg\n"
     ]
    },
    {
     "data": {
      "text/plain": [
       "<matplotlib.axes._subplots.AxesSubplot at 0x7f1552268ed0>"
      ]
     },
     "execution_count": 6,
     "metadata": {},
     "output_type": "execute_result"
    }
   ],
   "source": [
    "%matplotlib\n",
    "f,ax = plt.subplots()\n",
    "\n",
    "vwap.plot(ax=ax)\n",
    "close.plot(ax=ax)"
   ]
  },
  {
   "cell_type": "code",
   "execution_count": 7,
   "metadata": {
    "collapsed": false
   },
   "outputs": [
    {
     "name": "stdout",
     "output_type": "stream",
     "text": [
      "0.0081788553329\n"
     ]
    }
   ],
   "source": [
    "dailyVol = getDailyVol(close, 100)\n",
    "h0 = dailyVol.mean()# + (dailyVol.max() - dailyVol.mean())\n",
    "\n",
    "print (dailyVol.std())"
   ]
  },
  {
   "cell_type": "code",
   "execution_count": 8,
   "metadata": {
    "collapsed": false
   },
   "outputs": [
    {
     "name": "stdout",
     "output_type": "stream",
     "text": [
      "Using matplotlib backend: TkAgg\n"
     ]
    },
    {
     "data": {
      "text/plain": [
       "<matplotlib.lines.Line2D at 0x7f1551596f10>"
      ]
     },
     "execution_count": 8,
     "metadata": {},
     "output_type": "execute_result"
    }
   ],
   "source": [
    "%matplotlib\n",
    "\n",
    "f,ax = plt.subplots()\n",
    "dailyVol.plot(ax=ax)\n",
    "ax.axhline(h0, color='r')\n",
    "ax.axhline(h0 + dailyVol.std(), ls='--', color='g')\n",
    "ax.axhline(h0 - dailyVol.std(), ls='--', color='g')"
   ]
  },
  {
   "cell_type": "code",
   "execution_count": 9,
   "metadata": {
    "collapsed": false
   },
   "outputs": [
    {
     "name": "stdout",
     "output_type": "stream",
     "text": [
      "314.732804043\n",
      "Using matplotlib backend: TkAgg\n"
     ]
    },
    {
     "data": {
      "text/plain": [
       "[<matplotlib.lines.Line2D at 0x7f155066f650>]"
      ]
     },
     "execution_count": 9,
     "metadata": {},
     "output_type": "execute_result"
    }
   ],
   "source": [
    "df0 = close.index.searchsorted(close.index - pd.Timedelta(days=1))\n",
    "df0 = df0[df0>0]\n",
    "df0 = pd.Series(close.index[df0-1], index = close.index[close.shape[0]-df0.shape[0]:])\n",
    "df0 = close.loc[df0.index] - close.loc[df0.values].values\n",
    "print df0.std()\n",
    "\n",
    "%matplotlib\n",
    "\n",
    "f,ax = plt.subplots()\n",
    "ax.plot(df0)\n"
   ]
  },
  {
   "cell_type": "code",
   "execution_count": 10,
   "metadata": {
    "collapsed": false
   },
   "outputs": [
    {
     "name": "stderr",
     "output_type": "stream",
     "text": [
      "100%|██████████| 3039/3039 [00:00<00:00, 13907.50it/s] | 1436/3039 [00:00<00:00, 14350.09it/s]\n"
     ]
    }
   ],
   "source": [
    "#p0 = close[:-1]\n",
    "#p1 = close[1:]\n",
    "\n",
    "#r = np.divide(p1,p0) - 1\n",
    "\n",
    "\n",
    "tEvents, bEvents, sEvents = getTEvents(close, h = df0.std())\n",
    "\n"
   ]
  },
  {
   "cell_type": "code",
   "execution_count": 11,
   "metadata": {
    "collapsed": false
   },
   "outputs": [
    {
     "name": "stdout",
     "output_type": "stream",
     "text": [
      "Using matplotlib backend: TkAgg\n"
     ]
    },
    {
     "data": {
      "text/plain": [
       "<matplotlib.axes._subplots.AxesSubplot at 0x7f1550640550>"
      ]
     },
     "execution_count": 11,
     "metadata": {},
     "output_type": "execute_result"
    }
   ],
   "source": [
    "%matplotlib\n",
    "\n",
    "close_t = close.loc[tEvents]\n",
    "close_s = close.loc[sEvents]\n",
    "close_b = close.loc[bEvents]\n",
    "\n",
    "f,ax = plt.subplots()\n",
    "\n",
    "close.plot(ax = ax)\n",
    "close_t.plot(ax = ax, ls = '', marker = 'o', markersize = 8, color = 'r')\n",
    "\n",
    "#close_s.plot(ax = ax, ls = '', marker = 'o', markersize = 8, color = 'r')\n",
    "#close_b.plot(ax = ax, ls = '', marker = '^', markersize = 8, color = 'g')"
   ]
  },
  {
   "cell_type": "code",
   "execution_count": 12,
   "metadata": {
    "collapsed": false
   },
   "outputs": [],
   "source": [
    "#%matplotlib\n",
    "\n",
    "#close_s   = close.loc[sEvents]\n",
    "#close_p   = close.loc[pEvents]\n",
    "#close_vol = close.loc[dailyVol.index]\n",
    "\n",
    "#f,ax = plt.subplots(2, sharex=True, figsize=(10,7))\n",
    "#dailyVol.plot(ax=ax[0])\n",
    "#ax[0].axhline(h0, ls='--', color='r')\n",
    "\n",
    "#close_vol.plot(ax = ax[1])\n",
    "#close_s.plot(ax = ax[1], ls = '', marker = '^', markersize = 8, color = 'r')\n",
    "#close_p.plot(ax = ax[1], ls = '', marker = 'o', markersize = 6, color = 'g')\n"
   ]
  },
  {
   "cell_type": "code",
   "execution_count": 13,
   "metadata": {
    "collapsed": false
   },
   "outputs": [],
   "source": [
    "t1 = False#addVerticalBarrier(tEvents, close)"
   ]
  },
  {
   "cell_type": "code",
   "execution_count": 14,
   "metadata": {
    "collapsed": false
   },
   "outputs": [
    {
     "name": "stderr",
     "output_type": "stream",
     "text": [
      "2018-10-28 08:12:10.666285 33.33% applyPtSlOnT1 done after 0.0 minutes. Remaining 0.0 minutes.\r",
      "2018-10-28 08:12:10.667859 66.67% applyPtSlOnT1 done after 0.0 minutes. Remaining 0.0 minutes.\r",
      "2018-10-28 08:12:10.667961 100.0% applyPtSlOnT1 done after 0.0 minutes. Remaining 0.0 minutes.\n"
     ]
    }
   ],
   "source": [
    "ptSl = [1,1]\n",
    "target = dailyVol\n",
    "minRet = 0.01\n",
    "cpus = cpu_count() - 1\n",
    "\n",
    "events = getEvents(close, tEvents, ptSl, target, minRet, cpus, t1=t1)"
   ]
  },
  {
   "cell_type": "code",
   "execution_count": 15,
   "metadata": {
    "collapsed": false
   },
   "outputs": [
    {
     "data": {
      "text/plain": [
       " 1.0    5\n",
       "-1.0    4\n",
       "Name: bin, dtype: int64"
      ]
     },
     "execution_count": 15,
     "metadata": {},
     "output_type": "execute_result"
    }
   ],
   "source": [
    "labels = getBins(events, close)\n",
    "labels.bin.value_counts()"
   ]
  },
  {
   "cell_type": "code",
   "execution_count": 16,
   "metadata": {
    "collapsed": false
   },
   "outputs": [
    {
     "data": {
      "text/plain": [
       "<matplotlib.axes._subplots.AxesSubplot at 0x7f155049d7d0>"
      ]
     },
     "execution_count": 16,
     "metadata": {},
     "output_type": "execute_result"
    }
   ],
   "source": [
    "lbuy = labels[labels['bin'] > 0]\n",
    "lsell = labels[labels['bin'] < 0]\n",
    "\n",
    "price_buy = close.loc[lbuy.index]\n",
    "price_sell = close.loc[lsell.index]\n",
    "\n",
    "f,ax = plt.subplots()\n",
    "close.plot(ax=ax)\n",
    "\n",
    "price_buy.plot(ax=ax, ls = '', marker = '^', markersize = 7, color = 'g')\n",
    "price_sell.plot(ax=ax, ls = '', marker = 'v', markersize = 7, color = 'r')"
   ]
  },
  {
   "cell_type": "code",
   "execution_count": 17,
   "metadata": {
    "collapsed": false
   },
   "outputs": [
    {
     "name": "stderr",
     "output_type": "stream",
     "text": [
      "2018-10-28 08:12:18.769366 100.0% mpNumCoEvents done after 0.0 minutes. Remaining 0.0 minutes.018-10-28 08:12:18.768147 75.0% mpNumCoEvents done after 0.0 minutes. Remaining 0.0 minutes.\n",
      "2018-10-28 08:12:18.902847 100.0% mpSampleW done after 0.0 minutes. Remaining 0.0 minutes.018-10-28 08:12:18.901517 75.0% mpSampleW done after 0.0 minutes. Remaining 0.0 minutes.\n"
     ]
    }
   ],
   "source": [
    "events0 = events.loc[labels.index]\n",
    "\n",
    "numCoEvents = mpPandasObj(mpNumCoEvents, ('molecule', events.index), cpu_count(), closeIdx = close.index, t1 = events['t1'])\n",
    "numCoEvents = numCoEvents.loc[~numCoEvents.index.duplicated(keep='last')]\n",
    "numCoEvents = numCoEvents.reindex(close.index).fillna(0)\n",
    "\n",
    "sample_weights = mpPandasObj(mpSampleW, ('molecule', events.index), cpu_count(), t1 = events['t1'], numCoEvents = numCoEvents, close = close)\n",
    "sample_weights *= sample_weights.shape[0] / sample_weights.sum()\n",
    "\n",
    "sample_weights0 = sample_weights[labels.index]"
   ]
  },
  {
   "cell_type": "code",
   "execution_count": 18,
   "metadata": {
    "collapsed": false
   },
   "outputs": [],
   "source": [
    "corr = df_rolling_autocorr(close, 6)\n",
    "corr = corr[corr <= 1.]\n",
    "volt = dailyVol\n",
    "\n",
    "features = pd.DataFrame().assign(volt = volt).assign(corr = corr).assign(vwap = vwap)\n"
   ]
  },
  {
   "cell_type": "code",
   "execution_count": 19,
   "metadata": {
    "collapsed": false
   },
   "outputs": [
    {
     "name": "stdout",
     "output_type": "stream",
     "text": [
      "-0.369311163393\n"
     ]
    }
   ],
   "source": [
    "f0 = vwap - close\n",
    "f1 = high - close\n",
    "f2 = close - low\n",
    "f3 = volPos\n",
    "f4 = volNeg\n",
    "\n",
    "corr = np.corrcoef(f4, f2)[0,1]\n",
    "print corr"
   ]
  },
  {
   "cell_type": "code",
   "execution_count": 20,
   "metadata": {
    "collapsed": false
   },
   "outputs": [
    {
     "name": "stdout",
     "output_type": "stream",
     "text": [
      "Using matplotlib backend: TkAgg\n"
     ]
    },
    {
     "data": {
      "text/plain": [
       "<matplotlib.axes._subplots.AxesSubplot at 0x7f1550447290>"
      ]
     },
     "execution_count": 20,
     "metadata": {},
     "output_type": "execute_result"
    }
   ],
   "source": [
    "%matplotlib\n",
    "\n",
    "f,ax = plt.subplots()\n",
    "#f0.plot(ax=ax)\n",
    "#f1.plot(ax=ax)\n",
    "#f2.plot(ax=ax)\n",
    "f3.plot(ax=ax)\n",
    "f4.plot(ax=ax)\n",
    "\n"
   ]
  },
  {
   "cell_type": "code",
   "execution_count": 23,
   "metadata": {
    "collapsed": false
   },
   "outputs": [
    {
     "name": "stdout",
     "output_type": "stream",
     "text": [
      "width: 1; d: 0.000000\n"
     ]
    }
   ],
   "source": [
    "f0_df = pd.DataFrame(index = f0.index).assign(price = f0)\n",
    "df0 = fracDiff_FFD(f0_df, 0., 1e-6)\n",
    "\n",
    "#corr = np.corrcoef(f0_df.loc[df0.index, 'price'], df0['price'])[0,1]\n",
    "#print corr\n",
    "\n",
    "#adf = adfuller(df0.price, maxlag = 1, regression = 'c', autolag = None)\n",
    "#print adf"
   ]
  },
  {
   "cell_type": "code",
   "execution_count": 21,
   "metadata": {
    "collapsed": false
   },
   "outputs": [
    {
     "name": "stdout",
     "output_type": "stream",
     "text": [
      "width: 1; d: 0.000000\n",
      "1.0\n",
      "(-35.166227078736597, 0.0, 1, 3037, {'5%': -2.862492156233158, '1%': -3.4325050331831117, '10%': -2.5672768570714237})\n"
     ]
    }
   ],
   "source": [
    "f1_df = pd.DataFrame(index = f1.index).assign(price = f1)\n",
    "df1 = fracDiff_FFD(f1_df, 0., 1e-6)\n",
    "\n",
    "corr = np.corrcoef(f1_df.loc[df1.index, 'price'], df1['price'])[0,1]\n",
    "print corr\n",
    "\n",
    "adf = adfuller(df1.price, maxlag = 1, regression = 'c', autolag = None)\n",
    "print adf"
   ]
  },
  {
   "cell_type": "code",
   "execution_count": 22,
   "metadata": {
    "collapsed": false
   },
   "outputs": [
    {
     "name": "stdout",
     "output_type": "stream",
     "text": [
      "width: 1; d: 0.000000\n",
      "1.0\n",
      "(-32.333488734739966, 0.0, 1, 3037, {'5%': -2.862492156233158, '1%': -3.4325050331831117, '10%': -2.5672768570714237})\n"
     ]
    }
   ],
   "source": [
    "f2_df = pd.DataFrame(index = f2.index).assign(price = f2)\n",
    "df2 = fracDiff_FFD(f2_df, 0., 1e-6)\n",
    "\n",
    "corr = np.corrcoef(f2_df.loc[df2.index, 'price'], df2['price'])[0,1]\n",
    "print corr\n",
    "\n",
    "adf = adfuller(df2.price, maxlag = 1, regression = 'c', autolag = None)\n",
    "print adf"
   ]
  },
  {
   "cell_type": "code",
   "execution_count": 23,
   "metadata": {
    "collapsed": false
   },
   "outputs": [
    {
     "name": "stdout",
     "output_type": "stream",
     "text": [
      "width: 1; d: 0.000000\n",
      "1.0\n",
      "(-28.305034251220469, 0.0, 1, 3037, {'5%': -2.862492156233158, '1%': -3.4325050331831117, '10%': -2.5672768570714237})\n"
     ]
    }
   ],
   "source": [
    "f3_df = pd.DataFrame(index = f3.index).assign(price = f3)\n",
    "df3 = fracDiff_FFD(f3_df, 0., 1e-6)\n",
    "\n",
    "corr = np.corrcoef(f3_df.loc[df3.index, 'price'], df3['price'])[0,1]\n",
    "print corr\n",
    "\n",
    "adf = adfuller(df3.price, maxlag = 1, regression = 'c', autolag = None)\n",
    "print adf"
   ]
  },
  {
   "cell_type": "code",
   "execution_count": 24,
   "metadata": {
    "collapsed": false
   },
   "outputs": [
    {
     "name": "stdout",
     "output_type": "stream",
     "text": [
      "width: 1; d: 0.000000\n",
      "1.0\n",
      "(-27.91643015522946, 0.0, 1, 3037, {'5%': -2.862492156233158, '1%': -3.4325050331831117, '10%': -2.5672768570714237})\n"
     ]
    }
   ],
   "source": [
    "f4_df = pd.DataFrame(index = f4.index).assign(price = f4)\n",
    "df4 = fracDiff_FFD(f4_df, 0., 1e-6)\n",
    "\n",
    "corr = np.corrcoef(f4_df.loc[df4.index, 'price'], df4['price'])[0,1]\n",
    "print corr\n",
    "\n",
    "adf = adfuller(df4.price, maxlag = 1, regression = 'c', autolag = None)\n",
    "print adf"
   ]
  },
  {
   "cell_type": "code",
   "execution_count": 25,
   "metadata": {
    "collapsed": false
   },
   "outputs": [],
   "source": [
    "#%matplotlib\n",
    "\n",
    "#f,ax = plt.subplots()\n",
    "#df2.plot(ax=ax)\n",
    "\n"
   ]
  },
  {
   "cell_type": "code",
   "execution_count": 26,
   "metadata": {
    "collapsed": false
   },
   "outputs": [
    {
     "data": {
      "text/html": [
       "<div>\n",
       "<style scoped>\n",
       "    .dataframe tbody tr th:only-of-type {\n",
       "        vertical-align: middle;\n",
       "    }\n",
       "\n",
       "    .dataframe tbody tr th {\n",
       "        vertical-align: top;\n",
       "    }\n",
       "\n",
       "    .dataframe thead th {\n",
       "        text-align: right;\n",
       "    }\n",
       "</style>\n",
       "<table border=\"1\" class=\"dataframe\">\n",
       "  <thead>\n",
       "    <tr style=\"text-align: right;\">\n",
       "      <th></th>\n",
       "      <th>f0</th>\n",
       "      <th>f1</th>\n",
       "      <th>f2</th>\n",
       "      <th>f3</th>\n",
       "      <th>f4</th>\n",
       "    </tr>\n",
       "  </thead>\n",
       "  <tbody>\n",
       "    <tr>\n",
       "      <th>2018-08-18 13:06:33.367</th>\n",
       "      <td>1.460629</td>\n",
       "      <td>8.800000</td>\n",
       "      <td>0.000000</td>\n",
       "      <td>5.900637</td>\n",
       "      <td>151.641747</td>\n",
       "    </tr>\n",
       "    <tr>\n",
       "      <th>2018-08-18 13:11:25.588</th>\n",
       "      <td>10.735159</td>\n",
       "      <td>12.500000</td>\n",
       "      <td>0.000000</td>\n",
       "      <td>14.215115</td>\n",
       "      <td>146.086130</td>\n",
       "    </tr>\n",
       "    <tr>\n",
       "      <th>2018-08-18 13:12:44.462</th>\n",
       "      <td>7.896993</td>\n",
       "      <td>26.500000</td>\n",
       "      <td>0.700000</td>\n",
       "      <td>57.357052</td>\n",
       "      <td>100.437261</td>\n",
       "    </tr>\n",
       "    <tr>\n",
       "      <th>2018-08-18 13:13:44.502</th>\n",
       "      <td>-4.707923</td>\n",
       "      <td>8.300000</td>\n",
       "      <td>15.700000</td>\n",
       "      <td>75.457641</td>\n",
       "      <td>84.063412</td>\n",
       "    </tr>\n",
       "    <tr>\n",
       "      <th>2018-08-18 13:15:45.992</th>\n",
       "      <td>-5.040718</td>\n",
       "      <td>17.600000</td>\n",
       "      <td>19.431339</td>\n",
       "      <td>42.618608</td>\n",
       "      <td>118.201316</td>\n",
       "    </tr>\n",
       "    <tr>\n",
       "      <th>2018-08-18 13:18:10.443</th>\n",
       "      <td>-10.968470</td>\n",
       "      <td>4.500000</td>\n",
       "      <td>24.100000</td>\n",
       "      <td>122.609463</td>\n",
       "      <td>36.900129</td>\n",
       "    </tr>\n",
       "    <tr>\n",
       "      <th>2018-08-18 13:24:56.012</th>\n",
       "      <td>19.140555</td>\n",
       "      <td>35.300000</td>\n",
       "      <td>0.200000</td>\n",
       "      <td>63.334386</td>\n",
       "      <td>105.577138</td>\n",
       "    </tr>\n",
       "    <tr>\n",
       "      <th>2018-08-18 13:34:22.178</th>\n",
       "      <td>2.116191</td>\n",
       "      <td>17.200000</td>\n",
       "      <td>17.900000</td>\n",
       "      <td>76.543239</td>\n",
       "      <td>84.926098</td>\n",
       "    </tr>\n",
       "    <tr>\n",
       "      <th>2018-08-18 13:46:04.003</th>\n",
       "      <td>11.831573</td>\n",
       "      <td>29.400000</td>\n",
       "      <td>0.113181</td>\n",
       "      <td>59.329697</td>\n",
       "      <td>101.677209</td>\n",
       "    </tr>\n",
       "    <tr>\n",
       "      <th>2018-08-18 13:47:16.459</th>\n",
       "      <td>5.747064</td>\n",
       "      <td>18.575455</td>\n",
       "      <td>4.100000</td>\n",
       "      <td>13.602720</td>\n",
       "      <td>154.335247</td>\n",
       "    </tr>\n",
       "    <tr>\n",
       "      <th>2018-08-18 13:47:55.975</th>\n",
       "      <td>1.839876</td>\n",
       "      <td>7.700000</td>\n",
       "      <td>0.000000</td>\n",
       "      <td>5.498394</td>\n",
       "      <td>155.323613</td>\n",
       "    </tr>\n",
       "    <tr>\n",
       "      <th>2018-08-18 13:52:06.720</th>\n",
       "      <td>-14.375505</td>\n",
       "      <td>0.200000</td>\n",
       "      <td>22.500000</td>\n",
       "      <td>89.359424</td>\n",
       "      <td>69.719798</td>\n",
       "    </tr>\n",
       "    <tr>\n",
       "      <th>2018-08-18 14:03:15.515</th>\n",
       "      <td>8.305039</td>\n",
       "      <td>23.200000</td>\n",
       "      <td>3.900000</td>\n",
       "      <td>86.888219</td>\n",
       "      <td>71.814898</td>\n",
       "    </tr>\n",
       "    <tr>\n",
       "      <th>2018-08-18 14:12:14.255</th>\n",
       "      <td>-16.186445</td>\n",
       "      <td>0.000000</td>\n",
       "      <td>36.807077</td>\n",
       "      <td>86.290920</td>\n",
       "      <td>74.531700</td>\n",
       "    </tr>\n",
       "    <tr>\n",
       "      <th>2018-08-18 14:27:42.793</th>\n",
       "      <td>-3.944808</td>\n",
       "      <td>8.200000</td>\n",
       "      <td>23.100000</td>\n",
       "      <td>108.189904</td>\n",
       "      <td>51.840697</td>\n",
       "    </tr>\n",
       "    <tr>\n",
       "      <th>2018-08-19 13:58:34.615</th>\n",
       "      <td>-10.431883</td>\n",
       "      <td>0.000000</td>\n",
       "      <td>26.900000</td>\n",
       "      <td>141.505212</td>\n",
       "      <td>15.568101</td>\n",
       "    </tr>\n",
       "    <tr>\n",
       "      <th>2018-08-19 14:06:08.594</th>\n",
       "      <td>-1.866714</td>\n",
       "      <td>1.543094</td>\n",
       "      <td>11.000000</td>\n",
       "      <td>113.013420</td>\n",
       "      <td>42.818230</td>\n",
       "    </tr>\n",
       "    <tr>\n",
       "      <th>2018-08-19 14:24:37.896</th>\n",
       "      <td>-10.485936</td>\n",
       "      <td>0.200000</td>\n",
       "      <td>22.800000</td>\n",
       "      <td>70.216118</td>\n",
       "      <td>85.668028</td>\n",
       "    </tr>\n",
       "    <tr>\n",
       "      <th>2018-08-19 14:38:57.198</th>\n",
       "      <td>-10.088611</td>\n",
       "      <td>10.000000</td>\n",
       "      <td>22.100000</td>\n",
       "      <td>85.735787</td>\n",
       "      <td>74.028528</td>\n",
       "    </tr>\n",
       "    <tr>\n",
       "      <th>2018-08-19 14:56:05.901</th>\n",
       "      <td>27.530424</td>\n",
       "      <td>38.800000</td>\n",
       "      <td>1.300000</td>\n",
       "      <td>88.949955</td>\n",
       "      <td>75.377668</td>\n",
       "    </tr>\n",
       "    <tr>\n",
       "      <th>2018-08-19 15:08:34.160</th>\n",
       "      <td>23.275185</td>\n",
       "      <td>38.000000</td>\n",
       "      <td>0.000000</td>\n",
       "      <td>46.605759</td>\n",
       "      <td>114.814304</td>\n",
       "    </tr>\n",
       "    <tr>\n",
       "      <th>2018-08-19 15:22:27.460</th>\n",
       "      <td>8.640940</td>\n",
       "      <td>17.900000</td>\n",
       "      <td>3.900000</td>\n",
       "      <td>50.630308</td>\n",
       "      <td>115.507736</td>\n",
       "    </tr>\n",
       "    <tr>\n",
       "      <th>2018-08-19 16:20:10.191</th>\n",
       "      <td>13.591395</td>\n",
       "      <td>26.200000</td>\n",
       "      <td>0.000000</td>\n",
       "      <td>95.154789</td>\n",
       "      <td>68.532379</td>\n",
       "    </tr>\n",
       "    <tr>\n",
       "      <th>2018-08-19 16:30:19.023</th>\n",
       "      <td>7.432499</td>\n",
       "      <td>23.500000</td>\n",
       "      <td>2.400000</td>\n",
       "      <td>55.038907</td>\n",
       "      <td>103.584121</td>\n",
       "    </tr>\n",
       "    <tr>\n",
       "      <th>2018-08-19 17:06:15.358</th>\n",
       "      <td>-14.372231</td>\n",
       "      <td>0.600000</td>\n",
       "      <td>27.600000</td>\n",
       "      <td>51.026230</td>\n",
       "      <td>109.393964</td>\n",
       "    </tr>\n",
       "    <tr>\n",
       "      <th>2018-08-19 17:21:15.564</th>\n",
       "      <td>-1.989832</td>\n",
       "      <td>2.300000</td>\n",
       "      <td>4.500000</td>\n",
       "      <td>4.102554</td>\n",
       "      <td>152.755936</td>\n",
       "    </tr>\n",
       "    <tr>\n",
       "      <th>2018-08-19 17:41:39.895</th>\n",
       "      <td>23.251137</td>\n",
       "      <td>51.700000</td>\n",
       "      <td>0.000000</td>\n",
       "      <td>14.535662</td>\n",
       "      <td>147.392132</td>\n",
       "    </tr>\n",
       "    <tr>\n",
       "      <th>2018-08-19 17:41:40.732</th>\n",
       "      <td>3.415246</td>\n",
       "      <td>27.300000</td>\n",
       "      <td>0.000000</td>\n",
       "      <td>0.000000</td>\n",
       "      <td>228.638743</td>\n",
       "    </tr>\n",
       "    <tr>\n",
       "      <th>2018-08-19 17:43:43.216</th>\n",
       "      <td>-34.196295</td>\n",
       "      <td>13.000000</td>\n",
       "      <td>44.700000</td>\n",
       "      <td>39.205995</td>\n",
       "      <td>571.714827</td>\n",
       "    </tr>\n",
       "    <tr>\n",
       "      <th>2018-08-19 17:49:45.752</th>\n",
       "      <td>-10.727261</td>\n",
       "      <td>6.700000</td>\n",
       "      <td>33.100000</td>\n",
       "      <td>27.323351</td>\n",
       "      <td>135.407636</td>\n",
       "    </tr>\n",
       "    <tr>\n",
       "      <th>...</th>\n",
       "      <td>...</td>\n",
       "      <td>...</td>\n",
       "      <td>...</td>\n",
       "      <td>...</td>\n",
       "      <td>...</td>\n",
       "    </tr>\n",
       "    <tr>\n",
       "      <th>2018-09-08 12:20:20.888</th>\n",
       "      <td>-2.769869</td>\n",
       "      <td>0.000000</td>\n",
       "      <td>10.000000</td>\n",
       "      <td>93.950375</td>\n",
       "      <td>100.061731</td>\n",
       "    </tr>\n",
       "    <tr>\n",
       "      <th>2018-09-08 12:29:39.316</th>\n",
       "      <td>6.067154</td>\n",
       "      <td>19.600000</td>\n",
       "      <td>3.200000</td>\n",
       "      <td>123.190476</td>\n",
       "      <td>123.931097</td>\n",
       "    </tr>\n",
       "    <tr>\n",
       "      <th>2018-09-08 12:50:33.829</th>\n",
       "      <td>-3.504607</td>\n",
       "      <td>0.100000</td>\n",
       "      <td>14.900000</td>\n",
       "      <td>93.716442</td>\n",
       "      <td>68.263272</td>\n",
       "    </tr>\n",
       "    <tr>\n",
       "      <th>2018-09-08 13:05:38.403</th>\n",
       "      <td>7.560699</td>\n",
       "      <td>17.700000</td>\n",
       "      <td>0.000000</td>\n",
       "      <td>23.282204</td>\n",
       "      <td>134.136687</td>\n",
       "    </tr>\n",
       "    <tr>\n",
       "      <th>2018-09-08 13:10:31.859</th>\n",
       "      <td>2.612526</td>\n",
       "      <td>7.900000</td>\n",
       "      <td>3.200000</td>\n",
       "      <td>13.243871</td>\n",
       "      <td>145.373433</td>\n",
       "    </tr>\n",
       "    <tr>\n",
       "      <th>2018-09-08 13:36:49.365</th>\n",
       "      <td>-8.899594</td>\n",
       "      <td>7.100000</td>\n",
       "      <td>32.500000</td>\n",
       "      <td>121.498196</td>\n",
       "      <td>40.915513</td>\n",
       "    </tr>\n",
       "    <tr>\n",
       "      <th>2018-09-08 14:02:34.021</th>\n",
       "      <td>11.559397</td>\n",
       "      <td>26.100000</td>\n",
       "      <td>0.000000</td>\n",
       "      <td>57.466857</td>\n",
       "      <td>105.025147</td>\n",
       "    </tr>\n",
       "    <tr>\n",
       "      <th>2018-09-08 14:03:42.607</th>\n",
       "      <td>8.248183</td>\n",
       "      <td>15.000000</td>\n",
       "      <td>0.000000</td>\n",
       "      <td>1.855010</td>\n",
       "      <td>156.363456</td>\n",
       "    </tr>\n",
       "    <tr>\n",
       "      <th>2018-09-08 14:05:44.147</th>\n",
       "      <td>-14.533542</td>\n",
       "      <td>0.100000</td>\n",
       "      <td>23.600000</td>\n",
       "      <td>9.563024</td>\n",
       "      <td>152.421924</td>\n",
       "    </tr>\n",
       "    <tr>\n",
       "      <th>2018-09-08 14:12:27.498</th>\n",
       "      <td>6.429122</td>\n",
       "      <td>12.100000</td>\n",
       "      <td>2.500000</td>\n",
       "      <td>6.968922</td>\n",
       "      <td>155.693371</td>\n",
       "    </tr>\n",
       "    <tr>\n",
       "      <th>2018-09-08 14:40:11.141</th>\n",
       "      <td>17.637669</td>\n",
       "      <td>22.400000</td>\n",
       "      <td>0.000000</td>\n",
       "      <td>27.951627</td>\n",
       "      <td>131.787400</td>\n",
       "    </tr>\n",
       "    <tr>\n",
       "      <th>2018-09-08 15:05:28.876</th>\n",
       "      <td>-14.010385</td>\n",
       "      <td>3.500000</td>\n",
       "      <td>28.000000</td>\n",
       "      <td>44.136413</td>\n",
       "      <td>116.695277</td>\n",
       "    </tr>\n",
       "    <tr>\n",
       "      <th>2018-09-08 15:21:18.515</th>\n",
       "      <td>-13.218385</td>\n",
       "      <td>4.700000</td>\n",
       "      <td>23.800000</td>\n",
       "      <td>124.416210</td>\n",
       "      <td>33.446085</td>\n",
       "    </tr>\n",
       "    <tr>\n",
       "      <th>2018-09-08 15:45:05.498</th>\n",
       "      <td>2.587642</td>\n",
       "      <td>9.000000</td>\n",
       "      <td>6.100000</td>\n",
       "      <td>103.754755</td>\n",
       "      <td>54.977797</td>\n",
       "    </tr>\n",
       "    <tr>\n",
       "      <th>2018-09-08 16:41:04.541</th>\n",
       "      <td>7.931900</td>\n",
       "      <td>21.000000</td>\n",
       "      <td>3.100000</td>\n",
       "      <td>70.881757</td>\n",
       "      <td>85.780682</td>\n",
       "    </tr>\n",
       "    <tr>\n",
       "      <th>2018-09-08 16:57:48.085</th>\n",
       "      <td>9.902827</td>\n",
       "      <td>25.830007</td>\n",
       "      <td>0.000000</td>\n",
       "      <td>14.368027</td>\n",
       "      <td>142.204094</td>\n",
       "    </tr>\n",
       "    <tr>\n",
       "      <th>2018-09-08 16:59:28.993</th>\n",
       "      <td>7.019282</td>\n",
       "      <td>23.169993</td>\n",
       "      <td>5.758830</td>\n",
       "      <td>19.047724</td>\n",
       "      <td>138.206417</td>\n",
       "    </tr>\n",
       "    <tr>\n",
       "      <th>2018-09-08 17:02:24.036</th>\n",
       "      <td>-2.044969</td>\n",
       "      <td>10.500000</td>\n",
       "      <td>13.200000</td>\n",
       "      <td>81.094148</td>\n",
       "      <td>77.020675</td>\n",
       "    </tr>\n",
       "    <tr>\n",
       "      <th>2018-09-08 17:06:27.657</th>\n",
       "      <td>-7.215065</td>\n",
       "      <td>0.000000</td>\n",
       "      <td>12.600000</td>\n",
       "      <td>77.835240</td>\n",
       "      <td>88.124911</td>\n",
       "    </tr>\n",
       "    <tr>\n",
       "      <th>2018-09-08 17:11:01.540</th>\n",
       "      <td>1.737667</td>\n",
       "      <td>17.300000</td>\n",
       "      <td>8.800000</td>\n",
       "      <td>51.247065</td>\n",
       "      <td>127.505236</td>\n",
       "    </tr>\n",
       "    <tr>\n",
       "      <th>2018-09-08 17:19:15.001</th>\n",
       "      <td>-12.658331</td>\n",
       "      <td>0.000000</td>\n",
       "      <td>23.605723</td>\n",
       "      <td>91.608479</td>\n",
       "      <td>68.328961</td>\n",
       "    </tr>\n",
       "    <tr>\n",
       "      <th>2018-09-08 17:29:52.472</th>\n",
       "      <td>5.687409</td>\n",
       "      <td>16.000000</td>\n",
       "      <td>0.600000</td>\n",
       "      <td>75.413340</td>\n",
       "      <td>82.316693</td>\n",
       "    </tr>\n",
       "    <tr>\n",
       "      <th>2018-09-08 17:37:18.873</th>\n",
       "      <td>5.375069</td>\n",
       "      <td>16.200000</td>\n",
       "      <td>5.000000</td>\n",
       "      <td>7.391260</td>\n",
       "      <td>154.094906</td>\n",
       "    </tr>\n",
       "    <tr>\n",
       "      <th>2018-09-08 17:43:43.852</th>\n",
       "      <td>4.868406</td>\n",
       "      <td>14.300000</td>\n",
       "      <td>1.300000</td>\n",
       "      <td>79.858669</td>\n",
       "      <td>96.118616</td>\n",
       "    </tr>\n",
       "    <tr>\n",
       "      <th>2018-09-08 17:45:18.393</th>\n",
       "      <td>9.755889</td>\n",
       "      <td>15.300000</td>\n",
       "      <td>0.000000</td>\n",
       "      <td>55.919080</td>\n",
       "      <td>110.670663</td>\n",
       "    </tr>\n",
       "    <tr>\n",
       "      <th>2018-09-08 17:46:29.875</th>\n",
       "      <td>5.428524</td>\n",
       "      <td>21.100000</td>\n",
       "      <td>0.000000</td>\n",
       "      <td>2.655250</td>\n",
       "      <td>175.088556</td>\n",
       "    </tr>\n",
       "    <tr>\n",
       "      <th>2018-09-08 17:47:05.609</th>\n",
       "      <td>45.204363</td>\n",
       "      <td>75.700000</td>\n",
       "      <td>0.000000</td>\n",
       "      <td>4.910643</td>\n",
       "      <td>178.603893</td>\n",
       "    </tr>\n",
       "    <tr>\n",
       "      <th>2018-09-08 17:47:09.132</th>\n",
       "      <td>-26.116287</td>\n",
       "      <td>0.000000</td>\n",
       "      <td>52.500000</td>\n",
       "      <td>32.880686</td>\n",
       "      <td>128.110973</td>\n",
       "    </tr>\n",
       "    <tr>\n",
       "      <th>2018-09-08 17:47:25.121</th>\n",
       "      <td>12.759940</td>\n",
       "      <td>18.600000</td>\n",
       "      <td>12.000000</td>\n",
       "      <td>76.542752</td>\n",
       "      <td>84.348039</td>\n",
       "    </tr>\n",
       "    <tr>\n",
       "      <th>2018-09-08 17:55:12.006</th>\n",
       "      <td>-15.737608</td>\n",
       "      <td>0.000000</td>\n",
       "      <td>34.824442</td>\n",
       "      <td>102.594287</td>\n",
       "      <td>61.306430</td>\n",
       "    </tr>\n",
       "  </tbody>\n",
       "</table>\n",
       "<p>2270 rows × 5 columns</p>\n",
       "</div>"
      ],
      "text/plain": [
       "                                f0         f1         f2          f3  \\\n",
       "2018-08-18 13:06:33.367   1.460629   8.800000   0.000000    5.900637   \n",
       "2018-08-18 13:11:25.588  10.735159  12.500000   0.000000   14.215115   \n",
       "2018-08-18 13:12:44.462   7.896993  26.500000   0.700000   57.357052   \n",
       "2018-08-18 13:13:44.502  -4.707923   8.300000  15.700000   75.457641   \n",
       "2018-08-18 13:15:45.992  -5.040718  17.600000  19.431339   42.618608   \n",
       "2018-08-18 13:18:10.443 -10.968470   4.500000  24.100000  122.609463   \n",
       "2018-08-18 13:24:56.012  19.140555  35.300000   0.200000   63.334386   \n",
       "2018-08-18 13:34:22.178   2.116191  17.200000  17.900000   76.543239   \n",
       "2018-08-18 13:46:04.003  11.831573  29.400000   0.113181   59.329697   \n",
       "2018-08-18 13:47:16.459   5.747064  18.575455   4.100000   13.602720   \n",
       "2018-08-18 13:47:55.975   1.839876   7.700000   0.000000    5.498394   \n",
       "2018-08-18 13:52:06.720 -14.375505   0.200000  22.500000   89.359424   \n",
       "2018-08-18 14:03:15.515   8.305039  23.200000   3.900000   86.888219   \n",
       "2018-08-18 14:12:14.255 -16.186445   0.000000  36.807077   86.290920   \n",
       "2018-08-18 14:27:42.793  -3.944808   8.200000  23.100000  108.189904   \n",
       "2018-08-19 13:58:34.615 -10.431883   0.000000  26.900000  141.505212   \n",
       "2018-08-19 14:06:08.594  -1.866714   1.543094  11.000000  113.013420   \n",
       "2018-08-19 14:24:37.896 -10.485936   0.200000  22.800000   70.216118   \n",
       "2018-08-19 14:38:57.198 -10.088611  10.000000  22.100000   85.735787   \n",
       "2018-08-19 14:56:05.901  27.530424  38.800000   1.300000   88.949955   \n",
       "2018-08-19 15:08:34.160  23.275185  38.000000   0.000000   46.605759   \n",
       "2018-08-19 15:22:27.460   8.640940  17.900000   3.900000   50.630308   \n",
       "2018-08-19 16:20:10.191  13.591395  26.200000   0.000000   95.154789   \n",
       "2018-08-19 16:30:19.023   7.432499  23.500000   2.400000   55.038907   \n",
       "2018-08-19 17:06:15.358 -14.372231   0.600000  27.600000   51.026230   \n",
       "2018-08-19 17:21:15.564  -1.989832   2.300000   4.500000    4.102554   \n",
       "2018-08-19 17:41:39.895  23.251137  51.700000   0.000000   14.535662   \n",
       "2018-08-19 17:41:40.732   3.415246  27.300000   0.000000    0.000000   \n",
       "2018-08-19 17:43:43.216 -34.196295  13.000000  44.700000   39.205995   \n",
       "2018-08-19 17:49:45.752 -10.727261   6.700000  33.100000   27.323351   \n",
       "...                            ...        ...        ...         ...   \n",
       "2018-09-08 12:20:20.888  -2.769869   0.000000  10.000000   93.950375   \n",
       "2018-09-08 12:29:39.316   6.067154  19.600000   3.200000  123.190476   \n",
       "2018-09-08 12:50:33.829  -3.504607   0.100000  14.900000   93.716442   \n",
       "2018-09-08 13:05:38.403   7.560699  17.700000   0.000000   23.282204   \n",
       "2018-09-08 13:10:31.859   2.612526   7.900000   3.200000   13.243871   \n",
       "2018-09-08 13:36:49.365  -8.899594   7.100000  32.500000  121.498196   \n",
       "2018-09-08 14:02:34.021  11.559397  26.100000   0.000000   57.466857   \n",
       "2018-09-08 14:03:42.607   8.248183  15.000000   0.000000    1.855010   \n",
       "2018-09-08 14:05:44.147 -14.533542   0.100000  23.600000    9.563024   \n",
       "2018-09-08 14:12:27.498   6.429122  12.100000   2.500000    6.968922   \n",
       "2018-09-08 14:40:11.141  17.637669  22.400000   0.000000   27.951627   \n",
       "2018-09-08 15:05:28.876 -14.010385   3.500000  28.000000   44.136413   \n",
       "2018-09-08 15:21:18.515 -13.218385   4.700000  23.800000  124.416210   \n",
       "2018-09-08 15:45:05.498   2.587642   9.000000   6.100000  103.754755   \n",
       "2018-09-08 16:41:04.541   7.931900  21.000000   3.100000   70.881757   \n",
       "2018-09-08 16:57:48.085   9.902827  25.830007   0.000000   14.368027   \n",
       "2018-09-08 16:59:28.993   7.019282  23.169993   5.758830   19.047724   \n",
       "2018-09-08 17:02:24.036  -2.044969  10.500000  13.200000   81.094148   \n",
       "2018-09-08 17:06:27.657  -7.215065   0.000000  12.600000   77.835240   \n",
       "2018-09-08 17:11:01.540   1.737667  17.300000   8.800000   51.247065   \n",
       "2018-09-08 17:19:15.001 -12.658331   0.000000  23.605723   91.608479   \n",
       "2018-09-08 17:29:52.472   5.687409  16.000000   0.600000   75.413340   \n",
       "2018-09-08 17:37:18.873   5.375069  16.200000   5.000000    7.391260   \n",
       "2018-09-08 17:43:43.852   4.868406  14.300000   1.300000   79.858669   \n",
       "2018-09-08 17:45:18.393   9.755889  15.300000   0.000000   55.919080   \n",
       "2018-09-08 17:46:29.875   5.428524  21.100000   0.000000    2.655250   \n",
       "2018-09-08 17:47:05.609  45.204363  75.700000   0.000000    4.910643   \n",
       "2018-09-08 17:47:09.132 -26.116287   0.000000  52.500000   32.880686   \n",
       "2018-09-08 17:47:25.121  12.759940  18.600000  12.000000   76.542752   \n",
       "2018-09-08 17:55:12.006 -15.737608   0.000000  34.824442  102.594287   \n",
       "\n",
       "                                 f4  \n",
       "2018-08-18 13:06:33.367  151.641747  \n",
       "2018-08-18 13:11:25.588  146.086130  \n",
       "2018-08-18 13:12:44.462  100.437261  \n",
       "2018-08-18 13:13:44.502   84.063412  \n",
       "2018-08-18 13:15:45.992  118.201316  \n",
       "2018-08-18 13:18:10.443   36.900129  \n",
       "2018-08-18 13:24:56.012  105.577138  \n",
       "2018-08-18 13:34:22.178   84.926098  \n",
       "2018-08-18 13:46:04.003  101.677209  \n",
       "2018-08-18 13:47:16.459  154.335247  \n",
       "2018-08-18 13:47:55.975  155.323613  \n",
       "2018-08-18 13:52:06.720   69.719798  \n",
       "2018-08-18 14:03:15.515   71.814898  \n",
       "2018-08-18 14:12:14.255   74.531700  \n",
       "2018-08-18 14:27:42.793   51.840697  \n",
       "2018-08-19 13:58:34.615   15.568101  \n",
       "2018-08-19 14:06:08.594   42.818230  \n",
       "2018-08-19 14:24:37.896   85.668028  \n",
       "2018-08-19 14:38:57.198   74.028528  \n",
       "2018-08-19 14:56:05.901   75.377668  \n",
       "2018-08-19 15:08:34.160  114.814304  \n",
       "2018-08-19 15:22:27.460  115.507736  \n",
       "2018-08-19 16:20:10.191   68.532379  \n",
       "2018-08-19 16:30:19.023  103.584121  \n",
       "2018-08-19 17:06:15.358  109.393964  \n",
       "2018-08-19 17:21:15.564  152.755936  \n",
       "2018-08-19 17:41:39.895  147.392132  \n",
       "2018-08-19 17:41:40.732  228.638743  \n",
       "2018-08-19 17:43:43.216  571.714827  \n",
       "2018-08-19 17:49:45.752  135.407636  \n",
       "...                             ...  \n",
       "2018-09-08 12:20:20.888  100.061731  \n",
       "2018-09-08 12:29:39.316  123.931097  \n",
       "2018-09-08 12:50:33.829   68.263272  \n",
       "2018-09-08 13:05:38.403  134.136687  \n",
       "2018-09-08 13:10:31.859  145.373433  \n",
       "2018-09-08 13:36:49.365   40.915513  \n",
       "2018-09-08 14:02:34.021  105.025147  \n",
       "2018-09-08 14:03:42.607  156.363456  \n",
       "2018-09-08 14:05:44.147  152.421924  \n",
       "2018-09-08 14:12:27.498  155.693371  \n",
       "2018-09-08 14:40:11.141  131.787400  \n",
       "2018-09-08 15:05:28.876  116.695277  \n",
       "2018-09-08 15:21:18.515   33.446085  \n",
       "2018-09-08 15:45:05.498   54.977797  \n",
       "2018-09-08 16:41:04.541   85.780682  \n",
       "2018-09-08 16:57:48.085  142.204094  \n",
       "2018-09-08 16:59:28.993  138.206417  \n",
       "2018-09-08 17:02:24.036   77.020675  \n",
       "2018-09-08 17:06:27.657   88.124911  \n",
       "2018-09-08 17:11:01.540  127.505236  \n",
       "2018-09-08 17:19:15.001   68.328961  \n",
       "2018-09-08 17:29:52.472   82.316693  \n",
       "2018-09-08 17:37:18.873  154.094906  \n",
       "2018-09-08 17:43:43.852   96.118616  \n",
       "2018-09-08 17:45:18.393  110.670663  \n",
       "2018-09-08 17:46:29.875  175.088556  \n",
       "2018-09-08 17:47:05.609  178.603893  \n",
       "2018-09-08 17:47:09.132  128.110973  \n",
       "2018-09-08 17:47:25.121   84.348039  \n",
       "2018-09-08 17:55:12.006   61.306430  \n",
       "\n",
       "[2270 rows x 5 columns]"
      ]
     },
     "execution_count": 26,
     "metadata": {},
     "output_type": "execute_result"
    }
   ],
   "source": [
    "features = pd.DataFrame().assign(f0 = df0.loc[labels.index].price).assign(f1 = df1.loc[labels.index].price).assign(f2 = df2.loc[labels.index].price).assign(f3 = df3.loc[labels.index].price).assign(f4 = df4.loc[labels.index].price).assign(lbl = labels.bin)\n",
    "\n",
    "X = features.drop('lbl',axis=1)\n",
    "y = features['lbl']\n",
    "\n",
    "X"
   ]
  },
  {
   "cell_type": "code",
   "execution_count": 27,
   "metadata": {
    "collapsed": false
   },
   "outputs": [
    {
     "data": {
      "text/plain": [
       "<mpl_toolkits.mplot3d.art3d.Path3DCollection at 0x7f2e5c129050>"
      ]
     },
     "execution_count": 27,
     "metadata": {},
     "output_type": "execute_result"
    }
   ],
   "source": [
    "from mpl_toolkits.mplot3d import Axes3D\n",
    "\n",
    "b = features[features['lbl'] == 1].drop('lbl',axis=1)\n",
    "s = features[features['lbl'] == -1].drop('lbl',axis=1)\n",
    "\n",
    "b0 = b['f0'].values\n",
    "b1 = b['f3'].values\n",
    "b2 = b['f4'].values\n",
    "\n",
    "s0 = s['f0'].values\n",
    "s1 = s['f3'].values\n",
    "s2 = s['f4'].values\n",
    "\n",
    "fig = plt.figure()\n",
    "ax = fig.add_subplot(111, projection = '3d')\n",
    "ax.scatter(b0, b1, b2, c='r', marker='o')\n",
    "ax.scatter(s0, s1, s2, c='g', marker='o')\n",
    "\n",
    "\n"
   ]
  },
  {
   "cell_type": "code",
   "execution_count": 28,
   "metadata": {
    "collapsed": false
   },
   "outputs": [],
   "source": [
    "from sklearn.model_selection import KFold, RepeatedKFold, LeaveOneOut, LeavePOut, StratifiedKFold, StratifiedShuffleSplit, TimeSeriesSplit\n",
    "\n",
    "RANDOM_STATE = 777\n",
    "n_estimator = 600\n",
    "\n",
    "#cv = 6\n",
    "#cv = ShuffleSplit(n_splits=6, test_size = 0.3, random_state = 0)\n",
    "#cv = RepeatedKFold(n_splits = 6, n_repeats = 4, random_state = RANDOM_STATE)\n",
    "#cv = LeaveOneOut()\n",
    "#cv = LeavePOut(p = 2)\n",
    "#cv = StratifiedKFold(n_splits=6)\n",
    "#cv = StratifiedShuffleSplit(n_splits=6, test_size = 0.3, random_state = RANDOM_STATE)\n",
    "#cv = TimeSeriesSplit(max_train_size = None, n_splits = 6)\n",
    "\n",
    "#clf = RandomForestClassifier(max_depth=10, n_estimators=n_estimator, criterion='entropy', random_state=RANDOM_STATE)\n",
    "#clf = SVC(kernel = 'poly', C = 1)\n",
    "\n",
    "#scores = cross_val_score(clf, X, y, cv = cv)\n",
    "#print('Accuracy: %0.2f (+/- %0.2f)' % (scores.mean(), scores.std()))"
   ]
  },
  {
   "cell_type": "code",
   "execution_count": 24,
   "metadata": {
    "collapsed": false
   },
   "outputs": [
    {
     "name": "stderr",
     "output_type": "stream",
     "text": [
      "2018-11-04 13:13:52.484543 100.0% mpNumCoEvents done after 0.0 minutes. Remaining 0.0 minutes.018-11-04 13:13:52.484439 75.0% mpNumCoEvents done after 0.0 minutes. Remaining 0.0 minutes.\n",
      "2018-11-04 13:13:52.590639 100.0% mpSampleTW done after 0.0 minutes. Remaining 0.0 minutes.018-11-04 13:13:52.589226 75.0% mpSampleTW done after 0.0 minutes. Remaining 0.0 minutes.\n"
     ]
    }
   ],
   "source": [
    "numCoEvents = mpPandasObj(mpNumCoEvents, ('molecule', events.index), cpu_count(), closeIdx = close.index, t1 = events['t1'])\n",
    "numCoEvents = numCoEvents.loc[~numCoEvents.index.duplicated(keep='last')]\n",
    "numCoEvents = numCoEvents.reindex(close.index).fillna(0)\n",
    "\n",
    "out_tW = mpPandasObj(mpSampleTW, ('molecule', events0.index), cpu_count(), t1 = events0['t1'], numCoEvents = numCoEvents)\n",
    "avgU = out_tW.mean()\n",
    "\n",
    "###########################################################################################################3\n",
    "#t1 = events0['t1']\n",
    "\n",
    "#barIx = t1.index\n",
    "#barIx = barIx.union(t1.values).drop_duplicates()\n",
    "\n",
    "#indM = getIndMatrix(barIx, t1)\n",
    "\n",
    "#avgU = getAvgUniqueness(indM).mean()\n",
    "\n",
    "#########################################################################################################33\n",
    "\n",
    "from sklearn.ensemble import GradientBoostingClassifier\n",
    "\n",
    "#clf = GradientBoostingClassifier(n_estimators = 6000, learning_rate = 1.0, max_depth = 4, random_state = RANDOM_STATE)\n",
    "\n",
    "\n",
    "#dtc = DecisionTreeClassifier(criterion='entropy', max_features = 'auto', class_weight = 'balanced')\n",
    "#clf = BaggingClassifier(base_estimator = dtc, n_estimators = 60, max_samples = avgU, max_features = 1.)\n",
    "\n",
    "#rnf = RandomForestClassifier(n_estimators = 1, criterion = 'entropy', bootstrap = False, class_weight = 'balanced_subsample')\n",
    "#clf = BaggingClassifier(base_estimator = rnf, n_estimators = 1000, max_samples = avgU, max_features = 1.)\n",
    "\n",
    "clf = SVC(kernel = 'poly', C = 1)\n",
    "clf = BaggingClassifier(base_estimator = clf, n_estimators = 10, max_samples = avgU, max_features = 1.)"
   ]
  },
  {
   "cell_type": "code",
   "execution_count": 25,
   "metadata": {
    "collapsed": false
   },
   "outputs": [
    {
     "ename": "NameError",
     "evalue": "name 'X' is not defined",
     "output_type": "error",
     "traceback": [
      "\u001b[0;31m---------------------------------------------------------------------------\u001b[0m",
      "\u001b[0;31mNameError\u001b[0m                                 Traceback (most recent call last)",
      "\u001b[0;32m<ipython-input-25-0f6a17c0bcd0>\u001b[0m in \u001b[0;36m<module>\u001b[0;34m()\u001b[0m\n\u001b[1;32m      1\u001b[0m scores = cvScore(clf = clf, \n\u001b[0;32m----> 2\u001b[0;31m                  \u001b[0mX\u001b[0m \u001b[0;34m=\u001b[0m \u001b[0mX\u001b[0m\u001b[0;34m,\u001b[0m\u001b[0;34m\u001b[0m\u001b[0m\n\u001b[0m\u001b[1;32m      3\u001b[0m                  \u001b[0my\u001b[0m \u001b[0;34m=\u001b[0m \u001b[0my\u001b[0m\u001b[0;34m,\u001b[0m\u001b[0;34m\u001b[0m\u001b[0m\n\u001b[1;32m      4\u001b[0m                  \u001b[0msample_weight\u001b[0m \u001b[0;34m=\u001b[0m \u001b[0msample_weights0\u001b[0m\u001b[0;34m,\u001b[0m \u001b[0;31m#pd.Series(index = X.index, data = np.ones(X.shape[0]))\u001b[0m\u001b[0;34m\u001b[0m\u001b[0m\n\u001b[1;32m      5\u001b[0m                  \u001b[0mscoring\u001b[0m \u001b[0;34m=\u001b[0m \u001b[0;34m'accuracy'\u001b[0m\u001b[0;34m,\u001b[0m\u001b[0;34m\u001b[0m\u001b[0m\n",
      "\u001b[0;31mNameError\u001b[0m: name 'X' is not defined"
     ]
    }
   ],
   "source": [
    "scores = cvScore(clf = clf, \n",
    "                 X = X, \n",
    "                 y = y, \n",
    "                 sample_weight = sample_weights0, #pd.Series(index = X.index, data = np.ones(X.shape[0]))\n",
    "                 scoring = 'accuracy', \n",
    "                 t1 = events0['t1'], \n",
    "                 cv = 10, \n",
    "                 pctEmbargo = 0.01)\n",
    "\n",
    "print('Accuracy: %0.2f (+/- %0.2f)' % (scores.mean(), scores.std()))"
   ]
  },
  {
   "cell_type": "code",
   "execution_count": null,
   "metadata": {
    "collapsed": true
   },
   "outputs": [],
   "source": []
  }
 ],
 "metadata": {
  "kernelspec": {
   "display_name": "Python 2",
   "language": "python",
   "name": "python2"
  },
  "language_info": {
   "codemirror_mode": {
    "name": "ipython",
    "version": 2
   },
   "file_extension": ".py",
   "mimetype": "text/x-python",
   "name": "python",
   "nbconvert_exporter": "python",
   "pygments_lexer": "ipython2",
   "version": "2.7.12"
  }
 },
 "nbformat": 4,
 "nbformat_minor": 2
}
