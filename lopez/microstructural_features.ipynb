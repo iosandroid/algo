{
 "cells": [
  {
   "cell_type": "code",
   "execution_count": 1,
   "metadata": {
    "collapsed": false
   },
   "outputs": [
    {
     "name": "stderr",
     "output_type": "stream",
     "text": [
      "/usr/local/lib/python2.7/dist-packages/statsmodels/compat/pandas.py:56: FutureWarning: The pandas.core.datetools module is deprecated and will be removed in a future version. Please use the pandas.tseries module instead.\n",
      "  from pandas.core import datetools\n"
     ]
    }
   ],
   "source": [
    "import sys\n",
    "import math\n",
    "\n",
    "import time\n",
    "import numpy as np\n",
    "import pandas as pd\n",
    "import matplotlib.pyplot as plt\n",
    "import missingno as msno\n",
    "import seaborn as sns\n",
    "import scipy.stats as stats\n",
    "\n",
    "from sklearn.svm import SVC\n",
    "from sklearn.tree import DecisionTreeClassifier\n",
    "from sklearn.ensemble import RandomForestClassifier, BaggingClassifier\n",
    "from sklearn.model_selection import train_test_split, cross_val_score, ShuffleSplit\n",
    "from sklearn.metrics import roc_curve, classification_report\n",
    "\n",
    "from multiprocessing import cpu_count\n",
    "from tqdm import tqdm, tqdm_notebook\n",
    "\n",
    "from mpengine import mpPandasObj\n",
    "from util import cprintf\n",
    "\n",
    "from zig_zag import zig_zag_df\n",
    "from statsmodels.tsa.stattools import adfuller\n",
    "\n",
    "from structural_breaks import get_bsadf, get_bsadf0\n",
    "from sample_weights import mpNumCoEvents, mpSampleW, mpSampleTW, getAvgUniqueness, getIndMatrix\n",
    "from financial_data_structures import dollar_bar_df\n",
    "from cross_validation_in_finance import PurgedKFold, cvScore\n",
    "from labeling import getDailyVol, getTEvents, addVerticalBarrier, getEvents, getBins, getBinsOld, df_returns, df_rolling_autocorr\n",
    "from fractionally_differentiated_features import fracDiff, fracDiff_FFD, plotMinFFD"
   ]
  },
  {
   "cell_type": "code",
   "execution_count": 2,
   "metadata": {
    "collapsed": true
   },
   "outputs": [],
   "source": [
    "filepath = '~/Dev/notebook/lopez/data/bitfinex_BTCUSD_trades.csv'\n",
    "#filepath = '~/Dev/notebook/lopez/data/btcusd_trades.csv'\n",
    "cols = list(map(str.lower, ['Datetime','Amount','Price','<Unknown>']))\n",
    "columns = dict(zip(range(len(cols)), cols))\n",
    "\n",
    "df = pd.read_csv(filepath, header = None).rename(columns = columns).assign(dates = lambda df: (pd.to_datetime(df['datetime'], format='%Y-%m-%d %H:%M:%S.%f'))).assign(dollar_volume=lambda df: df['amount'] * df['price']).assign(volume=lambda df: df['amount']).drop(['datetime', '<unknown>'], axis = 1).set_index('dates').drop_duplicates()\n",
    "df = df.iloc[::-1]"
   ]
  },
  {
   "cell_type": "code",
   "execution_count": 11,
   "metadata": {
    "collapsed": false
   },
   "outputs": [
    {
     "name": "stderr",
     "output_type": "stream",
     "text": [
      "100%|██████████| 971615/971615 [00:00<00:00, 2944314.09it/s]72672/971615 [00:00<00:00, 2726092.15it/s]\n"
     ]
    }
   ],
   "source": [
    "dollar_M = 1000000\n",
    "dollar_df = dollar_bar_df(df, 'dollar_volume', dollar_M)\n",
    "\n",
    "close = dollar_df.price.copy()\n",
    "close = close[~close.index.duplicated(keep='first')]"
   ]
  },
  {
   "cell_type": "code",
   "execution_count": 13,
   "metadata": {
    "collapsed": false
   },
   "outputs": [
    {
     "name": "stdout",
     "output_type": "stream",
     "text": [
      "Using matplotlib backend: TkAgg\n",
      "width: 590; d: 0.600000\n"
     ]
    },
    {
     "data": {
      "text/plain": [
       "<matplotlib.axes._subplots.AxesSubplot at 0x7feb24043990>"
      ]
     },
     "execution_count": 13,
     "metadata": {},
     "output_type": "execute_result"
    }
   ],
   "source": [
    "%matplotlib\n",
    "\n",
    "\n",
    "vol = dollar_df['volume']\n",
    "vol = vol / np.abs(vol)\n",
    "cs = vol.cumsum()\n",
    "\n",
    "cs_df = pd.DataFrame(index = cs.index).assign(price = cs)\n",
    "cs_df1 = fracDiff_FFD(cs_df, 0.6, 1e-5)\n",
    "\n",
    "f,ax = plt.subplots(2)\n",
    "cs_df1.plot(ax=ax[0])\n",
    "close[cs_df1.index].plot(ax=ax[1])"
   ]
  },
  {
   "cell_type": "code",
   "execution_count": null,
   "metadata": {
    "collapsed": true
   },
   "outputs": [],
   "source": []
  }
 ],
 "metadata": {
  "kernelspec": {
   "display_name": "Python 2",
   "language": "python",
   "name": "python2"
  },
  "language_info": {
   "codemirror_mode": {
    "name": "ipython",
    "version": 2
   },
   "file_extension": ".py",
   "mimetype": "text/x-python",
   "name": "python",
   "nbconvert_exporter": "python",
   "pygments_lexer": "ipython2",
   "version": "2.7.12"
  }
 },
 "nbformat": 4,
 "nbformat_minor": 2
}
