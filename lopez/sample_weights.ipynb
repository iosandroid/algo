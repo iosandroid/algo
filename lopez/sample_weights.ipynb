{
 "cells": [
  {
   "cell_type": "code",
   "execution_count": 1,
   "metadata": {
    "collapsed": true
   },
   "outputs": [],
   "source": [
    "import sys\n",
    "import math\n",
    "\n",
    "import time\n",
    "import numpy as np\n",
    "import pandas as pd\n",
    "import matplotlib.pyplot as plt\n",
    "import missingno as msno\n",
    "import seaborn as sns\n",
    "import scipy.stats as stats\n",
    "\n",
    "from multiprocessing import cpu_count\n",
    "from tqdm import tqdm, tqdm_notebook"
   ]
  },
  {
   "cell_type": "code",
   "execution_count": 2,
   "metadata": {
    "collapsed": true
   },
   "outputs": [],
   "source": [
    "def cprintf(df):\n",
    "    if not isinstance(df, pd.DataFrame):\n",
    "        try:\n",
    "            df = df.to_frame()\n",
    "        except:\n",
    "            raise ValueError('Object cannot be coerced to df.')\n",
    "    \n",
    "    print('-'*79)\n",
    "    print('Data frame information')\n",
    "    print('-'*79)\n",
    "    print(df.tail(5))\n",
    "    print('-'*50)\n",
    "    print(df.info())\n",
    "    print('-'*79)    "
   ]
  },
  {
   "cell_type": "markdown",
   "metadata": {},
   "source": [
    "# Estimating the uniqueness of a label"
   ]
  },
  {
   "cell_type": "code",
   "execution_count": 4,
   "metadata": {
    "collapsed": true
   },
   "outputs": [],
   "source": [
    "def mpNumCoEvents(closeIdx, t1, molecule):\n",
    "    '''\n",
    "    Compute the number of concurrent events per bar\n",
    "    +molecule[0] is the date of the first event on which the weight be computed\n",
    "    +molecule[-1] is the date of the last event on which the weight be computed\n",
    "    Any event that start before t1[molecule].max() impacts the count.\n",
    "    '''\n",
    "    \n",
    "    #1) find events that span the period [molecule[0], molecule[-1]]\n",
    "    \n",
    "    t1 = t1.fillna(closeIdx[-1]) #unclosed events still must impact other weight\n",
    "    t1 = t1[t1 >= molecule[0]] #events that end at or after molecule[0]\n",
    "    t1 = t1.loc[:t1[molecule].max()] #events that start at or before t1[molecule]\n",
    "    \n",
    "    #2) count events spanning a bar\n",
    "    iloc = closeIdx.searchsorted(np.array([t1.index[0], t1.max()]))\n",
    "    count = pd.Series(0, index = closeIdx[iloc[0]:iloc[1] + 1])\n",
    "    \n",
    "    for tIn, tOut in t1.iteritems():\n",
    "        count.loc[tIn:tOut] += 1\n",
    "        \n",
    "    return count.loc[molecule[0]:t1[molecule].max()]"
   ]
  },
  {
   "cell_type": "markdown",
   "metadata": {},
   "source": [
    "# Estimating the average uniqueness of a label"
   ]
  },
  {
   "cell_type": "code",
   "execution_count": null,
   "metadata": {
    "collapsed": true
   },
   "outputs": [],
   "source": [
    "def mpSampleTW(t1, numCoEvents, molecule):\n",
    "    #Derive average uniqueness over the event's lifespan\n",
    "    wght = pd.Series(index = molecule)\n",
    "    for tIn, tOut in t1.loc[wght.index].iteritems():\n",
    "        wght.loc[tIn] = (1./numCoEvents.loc[tIn:tOut]).mean()\n",
    "        \n",
    "    return wght\n"
   ]
  }
 ],
 "metadata": {
  "kernelspec": {
   "display_name": "Python 2",
   "language": "python",
   "name": "python2"
  },
  "language_info": {
   "codemirror_mode": {
    "name": "ipython",
    "version": 2
   },
   "file_extension": ".py",
   "mimetype": "text/x-python",
   "name": "python",
   "nbconvert_exporter": "python",
   "pygments_lexer": "ipython2",
   "version": "2.7.12"
  }
 },
 "nbformat": 4,
 "nbformat_minor": 2
}
