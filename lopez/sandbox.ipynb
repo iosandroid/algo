{
 "cells": [
  {
   "cell_type": "code",
   "execution_count": 1,
   "metadata": {
    "collapsed": false
   },
   "outputs": [
    {
     "name": "stderr",
     "output_type": "stream",
     "text": [
      "/usr/local/lib/python2.7/dist-packages/statsmodels/compat/pandas.py:56: FutureWarning: The pandas.core.datetools module is deprecated and will be removed in a future version. Please use the pandas.tseries module instead.\n",
      "  from pandas.core import datetools\n"
     ]
    }
   ],
   "source": [
    "import sys\n",
    "import math\n",
    "\n",
    "import time\n",
    "import numpy as np\n",
    "import pandas as pd\n",
    "import matplotlib.pyplot as plt\n",
    "import missingno as msno\n",
    "import seaborn as sns\n",
    "import scipy.stats as stats\n",
    "\n",
    "from sklearn.svm import SVC\n",
    "from sklearn.tree import DecisionTreeClassifier\n",
    "from sklearn.ensemble import RandomForestClassifier, BaggingClassifier\n",
    "from sklearn.model_selection import train_test_split, cross_val_score, ShuffleSplit\n",
    "from sklearn.metrics import roc_curve, classification_report\n",
    "\n",
    "from multiprocessing import cpu_count\n",
    "from tqdm import tqdm, tqdm_notebook\n",
    "\n",
    "from mpengine import mpPandasObj\n",
    "from util import cprintf\n",
    "\n",
    "from zig_zag import zig_zag_df\n",
    "from statsmodels.tsa.stattools import adfuller\n",
    "from statsmodels.distributions.empirical_distribution import ECDF\n",
    "\n",
    "from entropy_features import plugIn, lempelZiv_lib, konto\n",
    "from structural_breaks import get_bsadf, get_bsadf0\n",
    "from sample_weights import mpNumCoEvents, mpSampleW, mpSampleTW, getAvgUniqueness, getIndMatrix\n",
    "from financial_data_structures import dollar_bar_df\n",
    "from cross_validation_in_finance import PurgedKFold, cvScore\n",
    "from labeling import getDailyVol, getTEvents, addVerticalBarrier, getEvents, getBins, getBinsOld, df_returns, df_rolling_autocorr\n",
    "from fractionally_differentiated_features import fracDiff, fracDiff_FFD, plotMinFFD"
   ]
  },
  {
   "cell_type": "code",
   "execution_count": 2,
   "metadata": {
    "collapsed": false
   },
   "outputs": [],
   "source": [
    "filepath = '~/Dev/notebook/lopez/features.csv'\n",
    "features = pd.read_csv(filepath).assign(dates0 = lambda df: (pd.to_datetime(df['dates'], format='%Y-%m-%d %H:%M:%S.%f'))).drop(labels=['dates'], axis=1).set_index('dates0')"
   ]
  },
  {
   "cell_type": "code",
   "execution_count": 3,
   "metadata": {
    "collapsed": false
   },
   "outputs": [
    {
     "name": "stderr",
     "output_type": "stream",
     "text": [
      "  0%|          | 0/691 [00:00<?, ?it/s]100%|██████████| 691/691 [00:00<00:00, 10277.39it/s]\n"
     ]
    }
   ],
   "source": [
    "tEvents, _, _ = getTEvents(features.bsadf, h = features.bsadf.std())"
   ]
  },
  {
   "cell_type": "code",
   "execution_count": 4,
   "metadata": {
    "collapsed": false
   },
   "outputs": [
    {
     "name": "stderr",
     "output_type": "stream",
     "text": [
      "labeling.py:103: FutureWarning: \n",
      "Passing list-likes to .loc or [] with any missing label will raise\n",
      "KeyError in the future, you can use .reindex() as an alternative.\n",
      "\n",
      "See the documentation here:\n",
      "https://pandas.pydata.org/pandas-docs/stable/indexing.html#deprecate-loc-reindex-listlike\n",
      "  trgt = trgt.loc[tEvents]\n",
      "2018-11-05 13:52:58.279336 66.67% applyPtSlOnT1 done after 0.0 minutes. Remaining 0.0 minutes.2018-11-05 13:52:58.283916 100.0% applyPtSlOnT1 done after 0.0 minutes. Remaining 0.0 minutes.\n"
     ]
    }
   ],
   "source": [
    "t1 = False\n",
    "ptSl = [1,1]\n",
    "target = getDailyVol(features.price, 100)\n",
    "minRet = 0.01\n",
    "cpus = cpu_count() - 1\n",
    "\n",
    "events = getEvents(features.price, tEvents, ptSl, target, minRet, cpus, t1=t1)"
   ]
  },
  {
   "cell_type": "code",
   "execution_count": 5,
   "metadata": {
    "collapsed": false
   },
   "outputs": [],
   "source": [
    "labels = getBins(events, features.price)\n",
    "labels.bin.value_counts()\n",
    "\n",
    "features0 = features\n",
    "features0['lbl'] = pd.Series(index = features0.index)\n",
    "features0.lbl = labels.bin\n",
    "\n",
    "features0 = features0.dropna()\n"
   ]
  },
  {
   "cell_type": "code",
   "execution_count": 6,
   "metadata": {
    "collapsed": false
   },
   "outputs": [
    {
     "name": "stdout",
     "output_type": "stream",
     "text": [
      "Using matplotlib backend: TkAgg\n"
     ]
    },
    {
     "data": {
      "text/plain": [
       "<matplotlib.axes._subplots.AxesSubplot at 0x7f3325cbe350>"
      ]
     },
     "execution_count": 6,
     "metadata": {},
     "output_type": "execute_result"
    }
   ],
   "source": [
    "%matplotlib\n",
    "\n",
    "lbuy = labels[labels.bin > 0]\n",
    "lsell = labels[labels.bin < 0]\n",
    "\n",
    "price_b = features0.price.loc[lbuy.index]\n",
    "price_s = features0.price.loc[lsell.index]\n",
    "\n",
    "f,ax = plt.subplots()\n",
    "features.price.plot(ax=ax)\n",
    "\n",
    "price_b.plot(ax=ax, ls = '', marker = '^', markersize = 7, color = 'g')\n",
    "price_s.plot(ax=ax, ls = '', marker = 'v', markersize = 7, color = 'r')"
   ]
  },
  {
   "cell_type": "code",
   "execution_count": 7,
   "metadata": {
    "collapsed": false
   },
   "outputs": [
    {
     "name": "stderr",
     "output_type": "stream",
     "text": [
      "2018-11-04 13:48:03.338955 100.0% mpNumCoEvents done after 0.0 minutes. Remaining 0.0 minutes.018-11-04 13:48:03.337241 75.0% mpNumCoEvents done after 0.0 minutes. Remaining 0.0 minutes.\n",
      "2018-11-04 13:48:03.467002 100.0% mpSampleW done after 0.0 minutes. Remaining 0.0 minutes.018-11-04 13:48:03.464128 75.0% mpSampleW done after 0.0 minutes. Remaining 0.0 minutes.\n"
     ]
    }
   ],
   "source": [
    "events0 = events.loc[labels.index]\n",
    "\n",
    "numCoEvents = mpPandasObj(mpNumCoEvents, ('molecule', events.index), cpu_count(), closeIdx = features.index, t1 = events['t1'])\n",
    "numCoEvents = numCoEvents.loc[~numCoEvents.index.duplicated(keep='last')]\n",
    "numCoEvents = numCoEvents.reindex(features.index).fillna(0)\n",
    "\n",
    "sample_weights = mpPandasObj(mpSampleW, ('molecule', events.index), cpu_count(), t1 = events['t1'], numCoEvents = numCoEvents, close = features.price)\n",
    "sample_weights *= sample_weights.shape[0] / sample_weights.sum()\n",
    "\n",
    "sample_weights0 = sample_weights[labels.index]"
   ]
  },
  {
   "cell_type": "code",
   "execution_count": 8,
   "metadata": {
    "collapsed": false
   },
   "outputs": [
    {
     "data": {
      "text/plain": [
       "Index([u'price', u'vpin', u'amihuds_lambda', u'kyles_lambda',\n",
       "       u'buys_volume_entropy', u'bsadf', u'returns_entropy',\n",
       "       u'aggressor_side_entropy1', u'lbl'],\n",
       "      dtype='object')"
      ]
     },
     "execution_count": 8,
     "metadata": {},
     "output_type": "execute_result"
    }
   ],
   "source": [
    "features0.columns"
   ]
  },
  {
   "cell_type": "code",
   "execution_count": 9,
   "metadata": {
    "collapsed": false
   },
   "outputs": [
    {
     "data": {
      "text/plain": [
       "<mpl_toolkits.mplot3d.art3d.Path3DCollection at 0x7f331ca70610>"
      ]
     },
     "execution_count": 9,
     "metadata": {},
     "output_type": "execute_result"
    }
   ],
   "source": [
    "from mpl_toolkits.mplot3d import Axes3D\n",
    "\n",
    "b = features0[features0.lbl == 1].drop('lbl',axis=1)\n",
    "s = features0[features0.lbl == -1].drop('lbl',axis=1)\n",
    "\n",
    "b0 = b.vpin.values\n",
    "b1 = b.amihuds_lambda.values\n",
    "b2 = b.aggressor_side_entropy1.values\n",
    "\n",
    "s0 = s.vpin.values\n",
    "s1 = s.amihuds_lambda.values\n",
    "s2 = s.aggressor_side_entropy1.values\n",
    "\n",
    "fig = plt.figure()\n",
    "ax = fig.add_subplot(111, projection = '3d')\n",
    "ax.scatter(b0, b1, b2, c='r', marker='o')\n",
    "ax.scatter(s0, s1, s2, c='g', marker='o')"
   ]
  },
  {
   "cell_type": "code",
   "execution_count": 10,
   "metadata": {
    "collapsed": false
   },
   "outputs": [],
   "source": [
    "X = features0.drop('lbl',axis=1)\n",
    "y = features0.lbl"
   ]
  },
  {
   "cell_type": "code",
   "execution_count": 11,
   "metadata": {
    "collapsed": true
   },
   "outputs": [],
   "source": [
    "from sklearn.model_selection import KFold, RepeatedKFold, LeaveOneOut, LeavePOut, StratifiedKFold, StratifiedShuffleSplit, TimeSeriesSplit\n",
    "\n",
    "RANDOM_STATE = 777\n",
    "n_estimator = 600"
   ]
  },
  {
   "cell_type": "code",
   "execution_count": 12,
   "metadata": {
    "collapsed": false
   },
   "outputs": [
    {
     "name": "stderr",
     "output_type": "stream",
     "text": [
      "2018-11-04 13:48:10.774756 100.0% mpNumCoEvents done after 0.0 minutes. Remaining 0.0 minutes.018-11-04 13:48:10.773754 75.0% mpNumCoEvents done after 0.0 minutes. Remaining 0.0 minutes.\n",
      "2018-11-04 13:48:10.877833 100.0% mpSampleTW done after 0.0 minutes. Remaining 0.0 minutes.018-11-04 13:48:10.875987 75.0% mpSampleTW done after 0.0 minutes. Remaining 0.0 minutes.\n"
     ]
    }
   ],
   "source": [
    "numCoEvents = mpPandasObj(mpNumCoEvents, ('molecule', events.index), cpu_count(), closeIdx = features.index, t1 = events['t1'])\n",
    "numCoEvents = numCoEvents.loc[~numCoEvents.index.duplicated(keep='last')]\n",
    "numCoEvents = numCoEvents.reindex(features.index).fillna(0)\n",
    "\n",
    "out_tW = mpPandasObj(mpSampleTW, ('molecule', events0.index), cpu_count(), t1 = events0['t1'], numCoEvents = numCoEvents)\n",
    "avgU = out_tW.mean()"
   ]
  },
  {
   "cell_type": "code",
   "execution_count": 13,
   "metadata": {
    "collapsed": true
   },
   "outputs": [],
   "source": [
    "from sklearn.ensemble import GradientBoostingClassifier\n",
    "\n",
    "#clf = GradientBoostingClassifier(n_estimators = 6000, learning_rate = 1.0, max_depth = 4, random_state = RANDOM_STATE)\n",
    "\n",
    "\n",
    "#dtc = DecisionTreeClassifier(criterion='entropy', max_features = 'auto', class_weight = 'balanced')\n",
    "#clf = BaggingClassifier(base_estimator = dtc, n_estimators = 60, max_samples = avgU, max_features = 1.)\n",
    "\n",
    "#rnf = RandomForestClassifier(n_estimators = 1, criterion = 'entropy', bootstrap = False, class_weight = 'balanced_subsample')\n",
    "#clf = BaggingClassifier(base_estimator = rnf, n_estimators = 1000, max_samples = avgU, max_features = 1.)\n",
    "\n",
    "#clf = SVC(kernel = 'poly', C = 1)\n",
    "#clf = BaggingClassifier(base_estimator = clf, n_estimators = 10, max_samples = avgU, max_features = 1.)\n",
    "\n",
    "clf = SVC(kernel = 'poly', C = 1)\n",
    "#clf = RandomForestClassifier(max_depth=16, n_estimators=n_estimator, criterion='entropy', random_state=RANDOM_STATE)"
   ]
  },
  {
   "cell_type": "code",
   "execution_count": null,
   "metadata": {
    "collapsed": false
   },
   "outputs": [],
   "source": [
    "scores = cvScore(clf = clf, \n",
    "                 X = X, \n",
    "                 y = y, \n",
    "                 sample_weight = sample_weights0, #pd.Series(index = X.index, data = np.ones(X.shape[0]))\n",
    "                 scoring = 'accuracy', \n",
    "                 t1 = events0['t1'], \n",
    "                 cv = 4, \n",
    "                 pctEmbargo = 0.01)\n",
    "\n",
    "print('Accuracy: %0.2f (+/- %0.2f)' % (scores.mean(), scores.std()))"
   ]
  },
  {
   "cell_type": "code",
   "execution_count": null,
   "metadata": {
    "collapsed": false
   },
   "outputs": [],
   "source": [
    "cv = 4\n",
    "\n",
    "scores = cross_val_score(clf, X, y, cv = cv)\n",
    "print('Accuracy: %0.2f (+/- %0.2f)' % (scores.mean(), scores.std()))"
   ]
  },
  {
   "cell_type": "code",
   "execution_count": null,
   "metadata": {
    "collapsed": true
   },
   "outputs": [],
   "source": []
  }
 ],
 "metadata": {
  "kernelspec": {
   "display_name": "Python 2",
   "language": "python",
   "name": "python2"
  },
  "language_info": {
   "codemirror_mode": {
    "name": "ipython",
    "version": 2
   },
   "file_extension": ".py",
   "mimetype": "text/x-python",
   "name": "python",
   "nbconvert_exporter": "python",
   "pygments_lexer": "ipython2",
   "version": "2.7.12"
  }
 },
 "nbformat": 4,
 "nbformat_minor": 2
}
