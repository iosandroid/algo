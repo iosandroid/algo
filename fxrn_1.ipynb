{
 "cells": [
  {
   "cell_type": "code",
   "execution_count": 9,
   "metadata": {
    "collapsed": true
   },
   "outputs": [],
   "source": [
    "import os\n",
    "import math\n",
    "import numpy as np\n",
    "import pandas as pd\n",
    "import tensorflow as tf\n",
    "import matplotlib.pyplot as plt\n",
    "\n",
    "from tensorflow.contrib import rnn\n",
    "\n",
    "from util.ZigZag import ZigZag, ZigZag0\n",
    "from util.CalcReturns import CalcReturns\n",
    "\n",
    "from util.BuildData import TrainingSet_NN_Prices, TrainingSet_NN_Logret\n",
    "from util.BuildData import TrainingSet_ML_Prices, TrainingSet_ML_Logret"
   ]
  },
  {
   "cell_type": "code",
   "execution_count": 10,
   "metadata": {
    "collapsed": true
   },
   "outputs": [],
   "source": [
    "def recurrent_neural_network_model(input):\n",
    "\n",
    "    layer = {'w' : tf.Variable(tf.random_normal([num_hidden, n_classes])),\n",
    "             'b' : tf.Variable(tf.random_normal([n_classes]))}\n",
    "    \n",
    "    input = tf.unstack(input, timesteps, 1)    \n",
    "    \n",
    "    lstm_cell = rnn.BasicLSTMCell(num_hidden)    \n",
    "    outs, state = rnn.static_rnn(lstm_cell, input, dtype=tf.float32)\n",
    "    \n",
    "    output = tf.add(tf.matmul(outs[-1], layer['w']), layer['b'], name='nn')    \n",
    "    return output\n",
    "\n",
    "def train_and_save_nn(x_data,y_data):\n",
    "    x_train = tf.placeholder('float', [None, timesteps, num_input], name='x')\n",
    "    y_train = tf.placeholder('float', [None, n_classes], name='y')\n",
    "    \n",
    "    nn = recurrent_neural_network_model(x_train)\n",
    "    cost = tf.reduce_mean(tf.abs(tf.subtract(nn, y_train)), name='cost')    \n",
    "    #optimizer = tf.train.GradientDescentOptimizer(learning_rate = 0.01).minimize(cost)   \n",
    "    optimizer = tf.train.AdamOptimizer(learning_rate = 0.001).minimize(cost)   \n",
    "    \n",
    "    correct = tf.equal(tf.argmax(nn,1), y_train), name='correct')\n",
    "    accuracy = tf.reduce_mean(tf.cast(correct, 'float'), name = 'accuracy')\n",
    "    \n",
    "    saver = tf.train.Saver()\n",
    "    \n",
    "    with tf.Session() as session:\n",
    "        \n",
    "        session.run(tf.initialize_all_variables())\n",
    "        \n",
    "        epoch_loss = 0\n",
    "        for epoch in range(hm_epochs):\n",
    "            epoch_loss = 0\n",
    "            for i in range(int(len(X_train)/batch_size)):\n",
    "                \n",
    "                batch_x = x_data[i*batch_size : (i+1)*batch_size]\n",
    "                batch_y = y_data[i*batch_size : (i+1)*batch_size]\n",
    "               \n",
    "                batch_x = batch_x.reshape((batch_size, timesteps, num_input))\n",
    "                \n",
    "                _, c = session.run([optimizer, cost], feed_dict = {x_train: batch_x, y_train: batch_y})\n",
    "                epoch_loss += c\n",
    "                \n",
    "            if epoch % 10 == 0:\n",
    "                print('Epoch', epoch, 'completed out of', hm_epochs, 'loss', epoch_loss)\n",
    "               \n",
    "        saver.save(session, 'data/fxrn_1.ckpt')        \n",
    "        print('Last epoch loss: ', epoch_loss)\n",
    "        \n",
    "    return nn, correct, accuracy\n",
    "\n",
    "def test_nn(x_test, y_test):\n",
    "    with tf.Session() as session:\n",
    "        saver = tf.train.import_meta_graph('data/fxnn_1.ckpt.meta')\n",
    "        saver.restore(session, tf.train.latest_checkpoint('data/'))\n",
    "        \n",
    "        graph    = tf.get_default_graph()\n",
    "        correct  = graph.get_tensor_by_name('correct:0')\n",
    "        accuracy = graph.get_tensor_by_name('accuracy:0')\n",
    "        \n",
    "        x = graph.get_tensor_by_name('x:0')\n",
    "        y = graph.get_tensor_by_name('y:0')\n",
    "\n",
    "        x_test = x_test.reshape((t_count, timesteps, num_input))\n",
    "        \n",
    "        r = tf.cast(correct, 'float').eval({x:x_test, y:y_test})\n",
    "        \n",
    "        test_buy  = 0.0\n",
    "        test_sell = 0.0\n",
    "        test_hold = 0.0\n",
    "\n",
    "        correct_buy  = 0.0\n",
    "        correct_sell = 0.0\n",
    "        correct_hold = 0.0\n",
    "\n",
    "        incorrect_buy  = 0.0\n",
    "        incorrect_sell = 0.0\n",
    "        incorrect_hold = 0.0\n",
    "        \n",
    "        for i in range(len(r)):\n",
    "          \n",
    "            if y_test[i][2] == 1:\n",
    "                test_buy += 1.0;\n",
    "            elif y_test[i][1] == 1:\n",
    "                test_hold += 1.0;\n",
    "            elif y_test[i][0] == 1:\n",
    "                test_sell += 1.0;\n",
    "                \n",
    "            if r[i] == 1:\n",
    "                if y_test[i][2] == 1:\n",
    "                    correct_buy += 1.0;\n",
    "                elif y_test[i][1] == 1:\n",
    "                    correct_hold += 1.0;\n",
    "                elif y_test[i][0] == 1:\n",
    "                    correct_sell += 1.0;\n",
    "            else:\n",
    "                if y_test[i][2] == 1:\n",
    "                    incorrect_buy += 1.0;\n",
    "                elif y_test[i][1] == 1:\n",
    "                    incorrect_hold += 1.0;\n",
    "                elif y_test[i][0] == 1:\n",
    "                    incorrect_sell += 1.0;\n",
    "        \n",
    "        print('Accuracy:',accuracy.eval({x_train:x_test, y_train:y_test}))\n",
    "        \n",
    "        print( \"Test buy:  \", test_buy  )\n",
    "        print( \"Test sell: \", test_sell )\n",
    "        print( \"Test hold: \", test_hold )\n",
    "\n",
    "        print( \"Correct buy:  \", correct_buy,  \"Incorrect buy:  \", incorrect_buy,  \"Accuracy: \", (correct_buy/(test_buy+1))*100 )\n",
    "        print( \"Correct sell: \", correct_sell, \"Incorrect sell: \", incorrect_sell, \"Accuracy: \", (correct_sell/(test_sell+1))*100 )\n",
    "        print( \"Correct hold: \", correct_hold, \"Incorrect hold: \", incorrect_hold, \"Accuracy: \", (correct_hold/(test_hold+1))*100 )"
   ]
  },
  {
   "cell_type": "code",
   "execution_count": 11,
   "metadata": {
    "collapsed": true
   },
   "outputs": [],
   "source": [
    "timesteps  = 1\n",
    "num_input  = 1\n",
    "n_classes  = 1\n",
    "step       = num_input * timesteps\n",
    "\n",
    "hm_epochs  = 200\n",
    "num_hidden = 160\n",
    "batch_size = 32\n",
    "\n",
    "t_count = 1024"
   ]
  },
  {
   "cell_type": "code",
   "execution_count": 16,
   "metadata": {
    "collapsed": false
   },
   "outputs": [
    {
     "name": "stdout",
     "output_type": "stream",
     "text": [
      "Using matplotlib backend: TkAgg\n",
      "Buys: 6034; Sells: 8094; Holds: 239; Count: 14367\n"
     ]
    }
   ],
   "source": [
    "%matplotlib\n",
    "\n",
    "source = pd.read_csv('EURUSD1.csv', header=0) # source CSV\n",
    "prices = np.array(source.Close) # close prices\n",
    "\n",
    "T, S = TrainingSet_ML_Logret(prices = prices, minsize = 0.0004, lag = step, scale = True, ZigZagFunc=ZigZag0)\n",
    "\n",
    "X_train = T['input'][:-t_count]\n",
    "Y_train = T['label'][:-t_count]\n",
    "\n",
    "X_test = T['input'][-t_count:]\n",
    "Y_test = T['label'][-t_count:]"
   ]
  },
  {
   "cell_type": "code",
   "execution_count": null,
   "metadata": {
    "collapsed": false
   },
   "outputs": [],
   "source": []
  },
  {
   "cell_type": "code",
   "execution_count": null,
   "metadata": {
    "collapsed": true
   },
   "outputs": [],
   "source": []
  }
 ],
 "metadata": {
  "kernelspec": {
   "display_name": "Python 2",
   "language": "python",
   "name": "python2"
  },
  "language_info": {
   "codemirror_mode": {
    "name": "ipython",
    "version": 2
   },
   "file_extension": ".py",
   "mimetype": "text/x-python",
   "name": "python",
   "nbconvert_exporter": "python",
   "pygments_lexer": "ipython2",
   "version": "2.7.12"
  }
 },
 "nbformat": 4,
 "nbformat_minor": 2
}
